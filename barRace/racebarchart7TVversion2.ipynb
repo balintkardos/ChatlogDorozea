{
 "cells": [
  {
   "cell_type": "code",
   "execution_count": 1,
   "metadata": {},
   "outputs": [],
   "source": [
    "# Original combined lists with duplicates removed and cleaned\n",
    "tv7_emotes = \"\"\"RISING dd uncPLS domgBruh Deafge OMEGADANCEBUTFASTER kim3 Buggin speed8 .... d32 ome54 ohok minionBike Clown Explosion hackingCD JermaSoy MathTime MoneyRain PokiShare TakingNotes :0 :3 :33 :tf: !boost +1 0pixel 1DLove 3Head 3Heading 4House 4Shrug 4Weird 5Head AAAA Acknowledged ACTINUP ADHD agahi AIM AIRBALL AIWITHTHEBRAIDS Alarm ALE Alfred AlienDance AlienPls AlienPls2 AlienPls3 Aloo Alright amongE ANGRE ANOTHERONE Ant AREYOUAGIRL AREYOUAGIRLFtxQcYellingAtYou areyoufr AreYouSeriousRightNeow arnoldHalt arthur Assept AURA AwHellNah Aware AWOO AWOOGA axelF ayo bah BAND Banger BANGER banties Barack barryArrive Barry63 BantiesPaulBeef Based BASED BatChestAbove batman Batman batJAM batPls Beatles Bedge BEG BEGGING Bello BigD bieberDougie BELIEVERS BibleThump BINGO Bleh Bloons BOOBA bog BOOM BOOMIES BOINK BORGIR Borfday brbToilet Broadcaster brb Bruh BRUHMM bruv buh buhbye buhFlipExplode BUSSIN BUSSERS bye CanIHaveADollar cannySilly catAsk catBusiness CatCozy catDespair catEat catJAM catKiss catPls catSigh catSmash CatTime catTwerk CAUGHT Caught CaughtIn4K Celebrating CHADDING characterSelected CHATTERS chatting cheerleaders ChillGuy Chillin Cinema chilling clappi Clap classic CLEAN Clueless CLIPPERS CLOWNDETECTED COCKA cokeBreak COMEHERE Concerned Considering Cooked COPIUM crabPls Crunch CS2 Cuck Cuh D: damily Damn dansi dash Dave deadassFaint Delusional DemonTiming Dentge despair DespairRyan Devious DIESOFCRINGE Dime DinkDonk Dinema doggoSlava dogJAM DogLookingWickedAndCool doid dojaPls dome44 dome32 donowall donoWall doroAunt doroBleh dorobubu doroCD DoroCheer doroFiddy doroFlex doroGHOST doroHEAD doroKick doroL doroMAD doroPray doroRip doroSoy DoroTalkingAgain Dorozea doster DOUBTERS DRAIN Drake DRAMA dreamwastaken drooling drukiDnace drukiDnace2 duaKiss dudWhat EDGE EDM EDITING emo erinNya essaying ewphop eww EZ EZdodge Exerpas Explosion eyeroll fadedthanaho FARMING FeelsBadMan FeelsDankMan FeelsBlackScreen FeelsGladMan FeelsLagMan FeelsLateMan FeelsOkayMan FeelsStrongMan FeelsTiredMan FeelsWeirdMan FeelsWowMan fein FEINFEINFEINFEINFEINFEINFEINFEI FellOff fembajJAM Fiddy FiddyWtf FINALLY firewriting FirstTime FirstTimeBackseating FirstTimeChadder FirstTimeChatter FirstTimeEmoteFail FirstTimeGooner FirstTimePepega FirstTimeTest firsttimebuh FLASHBANG flightnotL Flirt Flushed fnaf footstep forsenCD forsenLaughingAtYou ForsenSingingAtYou forsenPls fortnite fr freakbob freakyfredday freddy Freedom FUNNY g32 GAGAGA gachiGASM gachiHYPER gamily GAMBA GameplayTime GAMING GatieG Gaught GENIUS GetALoadOfThisGuy gg GIGACHAD GIGACHAIR GIGACLAUS GIGAMODS GIGAMOD gigl gkeyFlip gkeyPregnantBounce gkeySMP gkeyUwu gkeywide gkeyWiding gkitten GivenUp girlBoss gkitten glorpaga glorpdetective glorp GlorpMeeting glorprave gmoney goaler goat goblin44 GODDID Gogging GoodBye Gooner gooner GoodTake GOONING GotCaughtTrolling GotEEM gothKiss gPls greetingsladies GREEDY GROOTING GRRR GULP GuitarTime GYAT HABIBI hackingCD HACKERMANS hai HAH HaltEinfachDeineFresseDuHurensohn HandsUp happi HARAM HarryStylesKiss Headbang healed HECOOKING heh HEHE HEHEHEHA Heisenberj HELLO HELP helvete Herewego hesRight heyywithrizz HEYYY hi hiii hiiii Hmm HOBBY HOLY HolyFuck homelessPOV HowDoWeTellHer HowDoWeTellHim hue HUH HUHHHHHHHHHH iAsked ICANT idiot iDrive IFISPEAK IfYouCantSeeThisEmoteUseExclamationMark7tv Ignored IGON imback IMAGINENOTHAVING7TVGETFUCKEDNON7TVUSERSIMAGINENOTHAVING7TVGETFUCKEDNON7TVUSERSIMAGINENOTHAVING7TVGET ImNotOk ImtiredBoss INTENSEGAMING islandboy ISeeYou itsover itstime Jackass jacob1 jacob2 jacob3 jacob4 jah Jammies JARVIS Jay JermaSoy jiggy job JOB Joel joever john Johnporkiscalling JokerHAHA JokerLaugh juh JumpScared JUMPSCARE JustAChillGuy JustAnotherDay JustHowItIs justinbieber KaiCenatOhiogyatwithskibiditoiletwatchingtheWrizzhappeningrightinfrontofhimwithfanumtaxtaxingthegyat KanyeStare KEKW KENOUGH KeyShaker kim3 kittyBANGER kittyBop KKalinka KKonaW KKool kratos Lamonting LastTimeChatter lava lebronArrive lebronJAM lebronTROLL LEBRONNN lemon Lemon LetsBingo LETHERCOOK LETSFUCKINGJOE LETSGO LieMeter life Life Listening LiterallyMe Lithuanian LittleTrolling LiveReaction LL LMAOFREAKY lmao Loading LOCKIN lockedin LOL Looking LookUp lore luh lurkk luton LULE LULW MAJ Madge ManchesterUnited Massive? MarblesTime Martin matSad maxwin MeRN me: MeWhenIBuyEgyptianProperty MEGALUL mee Memories merch mhm MicTime mikuPls mindloud modCheck ModAbuse MODDING Modding mods MODS Mog monakS monday monkeyListening monkeySip MONKA monkaTOS monkaW MONKE MinionHoting MoneyRain muted mutted MUGA MVP MVPOfFarallah MYHEARTILOVEDHER myIQ MYLIFE NAILS NAILSING NAHH NAHHH NAHHHH nananAYAYA NAUR NAvsEU Nerd niceguy NOCHECKMARKS NODDERS NOIDONTTHINKSO NoMaidens NOOPERS NOOOOO NOHORNY noonecares NOSHOT NOTED notListening notxqcL NOW NOWAY NOWAYING np nt nuhuh nyehehehe nyanPls nya o7 Ogre ohhh ohhhhhhhhh OHMYGAWDD ohneFinger ohno ohSHIT oj OK Okei okak OLDWORK OM om omE ome10 ome101 ome104 ome105 ome14 ome15 ome18 ome21 ome29 ome32 ome4 ome41 ome44 ome44444444 ome47 ome5 ome51 ome52 ome55 ome57 ome67 ome69 ome79 ome808 ome83 ome9 ome90 ome96 ome99 OMEGADANCE OMEGALUL OMEGALULiguess omEE omeJAM omeJudging omeOhSHIT omeScrajj omeStare OMEYES omeWiggle OMFG omgBruh ongang OneGuy ONEMORE OnMyWayToDoroMomHouse OOOO oopsie otag OuttaPocket OVERWATCH OVERWORKING OverwhelminglyWholesome owoCheer PagBounce PagChomp PagMan Panam parasocial Parasocial PARASOCIAL paris paul Paul paulNya PauseMan PAUSENEMOGU Peace PEEPEES peepoAds peepoBox peepoBelievers peepoClap peepoComfy peepoDJ peepoDoubters peepoEvil peepoFarmer peepoFat peepoGiggles peepoHappy peepoHey peepoHug peepoKiss peepoLeave peepoLegs peepoLove peepoMarch peepoPls peepoPride peepoRiot peepoSad peepoShy peepoSmile peepoStop peepoTalk pepeAgony pepeGun PepeHands pepeJAM PepeLaugh pepePoint PepePls pepeW Pepega PepegaAim PepegaChat PepegaReading PepoG Petter Pffttt Pffttt2 phew phpk pickle PianoTime Pipege pKitten pL Please pleading plink-182 plinkVibe plonk pmo Plotge PogO PogU pointless pokiFlirt pol POLICE Pondering popipopipipopipo poroPls POVbornbefore2000 ppHop ppL ppOverheat Prayge prePffttt PRIMERS PTSD pulNya PuzzleTime qq ragebait RAGEY RAHH RainTime RAMBOLMG RareParrot ratomilton RaveDance RaveTime ratio Reacting RealForsen ReallyMad RebeccaBlack Reddit RememberTheDays RibertJam RiddleMeThis RIPBOZO RIRI Rizzler RobertJam ROFL RoxyPotato RUNNING rt ryanArrive Sadding Sadge SADge SAJ SAVEME SCATTER saythatagain scawy SCHEISSE SCHIZO SCRAPETHATSHITJOHNNY SCHTOP sdd SERIOUSLY SEXO shogaNya Shits shutup Shruge silliness sisyphus Sippin Sits skip SLAY Sleepo Smile smh Smoge SmurfHey Smurfing SNACKING SNEAK SNIFFA sob SOLARFLARE songbird sotruebestie SOYSCREAM Speechless speed1 speed2 speed21 speed25 speed32 speed4 speed44 speed8 speed88 speedVibe spfLEAN:()wiltee_()tonyhawkproskater4:-:-:_FREEWAVE3-encinoman--:enteringwalmart:-wheezethelean-123 SpeedLaugh SpeedLeft SpeedR spongePls squadHips Stare Staring steve Steve SteerR StreamEnding STREAMER STREAMERSGIVINGTHEWORSTFUCKINGTAKESINEXISTENCE StoryTime Surfing SurE sus susDog Susge SUSSY Swag swagJAM ta tak TakingNotes TeamEDWARD test THATHIT ThatsJustMe ThePaulers TheVoices TheWolfInMe Thinking Thinking2 ThisChat ThisIsMinecraft TIMEOUT Tomfoolery totallylistening TriJam TriKool TriSad TRUEING TRIVSsorry ts Tuckge tuff TWEAK typeshit typhu UGH um UltraMad unibrow unemployment unmod uwu uuh VALORANT veryDoro VeryKey VeryPog VeryPogftxQcInTheShower vibePls VibePls VIDEOGAME VIEWERS vips Voices wade Waddup waga wah waiting Waiting WAHHH WAJAJA WAIT WAITWAITWAIT WakeTheFuckUpSamuraiWeHaveACityToBurn wallE waltuh walterShocked WalterVibe War WasZumPenis WATAFUCKEDUPDAY WatchingStream WAYTOODANK wdym WeAreLive WeDoNotCare WEDIDIT WEEWOO WeGood WePaid WHATAFUCKEDUPDAY WHAT WHATTT wheresmyhug Whenyourinnerwolfreleases WideAlERT WideCatGroove wideDvaAss WideHardo WidelebronJAM widemonkaGIGAftRobertDowneyJr wideprespeedlaugh WideRaveTime wideReacting wideSpeedLaugh3 widetime WidezyzzPls wig WineTime winton Wisdom woah Wokege WOT wot wrapitup WW wowie Xd xar2EDM xdd XDoubt xJAM xqc32 xqcBOZO xqcDespair xqcFuel xqcGoofy xqcL xqcSCHIZO xqcSlam xqcTake xqcTwerk xQcVeryWide YAAAY YamesBond YANITED YAPPING YeahThatsWhatIWouldaDid YEAHHH YEP YESS YIPIEE yonose Yoink YOOLOOKATTHISCATDOINITSLILDANCYDANCEINTOABREAKDANCEMOVE Yooo YOUDIED YouGotMe YouWouldntGetIt ZAMN ZhongXina zyzzBass zyzzJAM\"\"\"\n",
    "\n",
    "# Convert to list and clean up\n",
    "emote_list = [emote.strip() for emote in tv7_emotes.split() if emote.strip()]\n",
    "\n",
    "# Remove any remaining duplicates (though the manual cleanup should have gotten most)\n",
    "unique_emotes = sorted(list(set(emote_list)))\n",
    "\n",
    "# Create the final shortened list\n",
    "merged_list = unique_emotes\n",
    "\n"
   ]
  },
  {
   "cell_type": "code",
   "execution_count": 2,
   "metadata": {},
   "outputs": [],
   "source": [
    "import pandas as pd\n",
    "import re\n",
    "from collections import Counter\n"
   ]
  },
  {
   "cell_type": "code",
   "execution_count": 3,
   "metadata": {},
   "outputs": [],
   "source": [
    "# Read the list of filenames from the configuration file\n",
    "with open('../file_list.txt', 'r', encoding='utf-8') as config_file:\n",
    "    file_names = config_file.read().splitlines()\n",
    "\n",
    "# Regex pattern to match the data format\n",
    "pattern = r'\\[(.*?)\\] (.*?): (.*)'\n",
    "\n",
    "# Initialize an empty list to store parsed data\n",
    "datalist = []\n",
    "stream_count = 0\n",
    "# Iterate over each specified file\n",
    "for file in file_names:\n",
    "    full_path = f\"../data/{file}\"\n",
    "    with open(full_path, 'r', encoding='utf-8') as f:\n",
    "        lines = f.readlines()\n",
    "        for line in lines:\n",
    "            match = re.match(pattern, line)\n",
    "            if match:\n",
    "                date, user, message = match.groups()\n",
    "                datalist.append([date, user, message,stream_count])\n",
    "    stream_count = stream_count + 1\n",
    "\n",
    "# Create a DataFrame from the parsed data\n",
    "data = pd.DataFrame(datalist, columns=[\"date\", \"user\", \"message\",\"stream\"])\n",
    "data['date'] = pd.to_datetime(data['date'])\n",
    "\n",
    "# Create a DataFrame from the parsed data\n",
    "data = pd.DataFrame(datalist, columns=[\"date\", \"user\", \"message\",\"stream\"])"
   ]
  },
  {
   "cell_type": "code",
   "execution_count": 4,
   "metadata": {},
   "outputs": [],
   "source": [
    "def optimize_word_counts(data, merged_list):\n",
    "    # Convert date once at the start\n",
    "    data['date'] = pd.to_datetime(data['date']).dt.date\n",
    "    \n",
    "    # Filter null streams\n",
    "    data = data[data['stream'].notnull()]\n",
    "    \n",
    "    # Pre-split all messages into words (do this once instead of repeatedly)\n",
    "    split_messages = data['message'].str.split(' ')\n",
    "    \n",
    "    # Create a dictionary to store word counts by date\n",
    "    word_counts_dict = {}\n",
    "    \n",
    "    # Process each message's words in bulk\n",
    "    for date, words in zip(data['date'], split_messages):\n",
    "        word_counts = Counter(words)  # Count occurrences in the message\n",
    "        for word in merged_list:  # Check only words in merged_list\n",
    "            if word_counts[word] > 0:  # If word exists in the message\n",
    "                if word not in word_counts_dict:\n",
    "                    word_counts_dict[word] = Counter()\n",
    "                word_counts_dict[word][date] += word_counts[word]  # Add actual occurrences\n",
    "    \n",
    "    # Convert the nested dictionary to a dataframe\n",
    "    rows = []\n",
    "    for word, date_counts in word_counts_dict.items():\n",
    "        for date, count in date_counts.items():\n",
    "            rows.append({\n",
    "                'date': date,\n",
    "                'word': word,\n",
    "                'count': count\n",
    "            })\n",
    "    \n",
    "    final_data = pd.DataFrame(rows)\n",
    "    \n",
    "    # Sort if there are any results\n",
    "    if not final_data.empty:\n",
    "        final_data = final_data.sort_values(by=['word', 'date']).reset_index(drop=True)\n",
    "    \n",
    "    return final_data"
   ]
  },
  {
   "cell_type": "code",
   "execution_count": 5,
   "metadata": {},
   "outputs": [
    {
     "name": "stdout",
     "output_type": "stream",
     "text": [
      "              date     word  count\n",
      "0       2024-05-02   !boost     37\n",
      "1       2024-05-04   !boost     17\n",
      "2       2024-05-05   !boost      4\n",
      "3       2024-05-06   !boost      2\n",
      "4       2024-05-07   !boost      1\n",
      "...            ...      ...    ...\n",
      "113601  2025-07-30  zyzzJAM      1\n",
      "113602  2025-07-31  zyzzJAM      1\n",
      "113603  2025-08-03  zyzzJAM      1\n",
      "113604  2025-08-06  zyzzJAM      1\n",
      "113605  2025-08-07  zyzzJAM      3\n",
      "\n",
      "[113606 rows x 3 columns]\n"
     ]
    }
   ],
   "source": [
    "final_data = optimize_word_counts(data, merged_list)\n",
    "print(final_data)"
   ]
  },
  {
   "cell_type": "code",
   "execution_count": 6,
   "metadata": {},
   "outputs": [
    {
     "name": "stdout",
     "output_type": "stream",
     "text": [
      "           date  !boost    +1  ....  0pixel  1DLove  3Head  3Heading  4House  \\\n",
      "0    2024-05-01     0.0   2.0   0.0     0.0     1.0    0.0       0.0     0.0   \n",
      "1    2024-05-02    37.0   2.0   0.0     0.0     0.0    0.0       2.0     0.0   \n",
      "2    2024-05-03     0.0   2.0   1.0     0.0     0.0    0.0       0.0     0.0   \n",
      "3    2024-05-04    17.0   1.0   0.0     0.0     0.0    0.0       1.0     0.0   \n",
      "4    2024-05-05     4.0   1.0   0.0     0.0     0.0    0.0       1.0     0.0   \n",
      "..          ...     ...   ...   ...     ...     ...    ...       ...     ...   \n",
      "389  2025-08-10    82.0  10.0   0.0     1.0     0.0    0.0       9.0     0.0   \n",
      "390  2025-08-11     0.0   4.0  21.0     1.0     0.0    0.0       1.0     0.0   \n",
      "391  2025-08-12     0.0   0.0   1.0     0.0     1.0    0.0       1.0     0.0   \n",
      "392  2025-08-13     0.0   0.0   8.0     0.0     0.0    1.0       2.0     0.0   \n",
      "393  2025-08-14     0.0   6.0  25.0     1.0     0.0    0.0       0.0     0.0   \n",
      "\n",
      "     4Shrug  ...  xqcFuel  xqcGoofy  xqcL  xqcSCHIZO  xqcSlam  xqcTake  \\\n",
      "0       0.0  ...      0.0       0.0   1.0        0.0      0.0      0.0   \n",
      "1       0.0  ...      0.0       0.0   6.0        0.0      0.0      0.0   \n",
      "2       0.0  ...      0.0       0.0   0.0        0.0      0.0      0.0   \n",
      "3       0.0  ...      0.0       1.0   0.0        0.0      0.0      0.0   \n",
      "4       0.0  ...      0.0       0.0   0.0        0.0      0.0      0.0   \n",
      "..      ...  ...      ...       ...   ...        ...      ...      ...   \n",
      "389     0.0  ...      0.0       0.0   0.0        1.0      0.0      0.0   \n",
      "390     0.0  ...      0.0       0.0   0.0        0.0      0.0      0.0   \n",
      "391     0.0  ...      0.0       0.0   1.0        0.0      0.0      0.0   \n",
      "392     0.0  ...      0.0       0.0   0.0        0.0      0.0      0.0   \n",
      "393     0.0  ...      0.0       3.0   0.0        0.0      0.0      0.0   \n",
      "\n",
      "     xqcTwerk  yonose  zyzzBass  zyzzJAM  \n",
      "0         0.0     0.0       0.0      0.0  \n",
      "1         0.0     0.0       0.0      0.0  \n",
      "2         0.0     0.0      11.0      1.0  \n",
      "3         0.0     0.0       0.0      2.0  \n",
      "4         0.0     0.0       0.0      2.0  \n",
      "..        ...     ...       ...      ...  \n",
      "389       0.0     0.0       0.0      0.0  \n",
      "390       0.0     0.0       0.0      0.0  \n",
      "391       0.0     0.0       0.0      0.0  \n",
      "392       1.0     1.0       0.0      0.0  \n",
      "393       1.0     0.0       0.0      0.0  \n",
      "\n",
      "[394 rows x 916 columns]\n"
     ]
    }
   ],
   "source": [
    "# Pivot the data to have words as columns and dates as rows\n",
    "pivot_data = final_data.pivot_table(\n",
    "    index='date',    # Rows: dates\n",
    "    columns='word',  # Columns: words\n",
    "    values='count',  # Values: word counts\n",
    "    fill_value=0     # Fill missing values with 0\n",
    ").reset_index()\n",
    "\n",
    "# Flatten the columns if needed (e.g., remove multi-index)\n",
    "pivot_data.columns.name = None  # Remove the name of columns\n",
    "pivot_data = pivot_data.rename_axis(None, axis=1)\n",
    "\n",
    "# Display the reshaped data\n",
    "print(pivot_data)"
   ]
  },
  {
   "cell_type": "code",
   "execution_count": 7,
   "metadata": {},
   "outputs": [
    {
     "name": "stdout",
     "output_type": "stream",
     "text": [
      "Total usage of each word:\n",
      "popipopipipopipo         1.0\n",
      "StoryTime                1.0\n",
      "HowDoWeTellHim           1.0\n",
      "FeelsGladMan             2.0\n",
      "noonecares               3.0\n",
      "                      ...   \n",
      "WW                   31119.0\n",
      "Smurfing             37273.0\n",
      "LOL                  45333.0\n",
      "speed1              143609.0\n",
      "ome44               194553.0\n",
      "Length: 915, dtype: float64\n",
      "\n",
      "Words barely used (threshold <= 50):\n",
      "['popipopipipopipo', 'StoryTime', 'HowDoWeTellHim', 'FeelsGladMan', 'noonecares', 'wrapitup', 'PEEPEES', 'TeamEDWARD', 'peepoEvil', 'ISeeYou', 'Barack', 'BOINK', 'itsover', 'SNEAK', 'WeAreLive', 'GIGACLAUS', 'fadedthanaho', 'cokeBreak', 'pL', 'RebeccaBlack', 'WeDoNotCare', 'gkeySMP', 'IfYouCantSeeThisEmoteUseExclamationMark7tv', 'Cuck', 'FeelsLagMan', 'donoWall', 'LETSFUCKINGJOE', 'OverwhelminglyWholesome', 'yonose', 'EDITING', 'STREAMERSGIVINGTHEWORSTFUCKINGTAKESINEXISTENCE', 'TRIVSsorry', 'HOBBY', 'NOSHOT', 'dogJAM', 'SpeedLeft', '4Shrug', 'ImtiredBoss', 'GatieG', 'peepoKiss', 'totallylistening', 'PepoG', 'batJAM', 'HECOOKING', 'peepoHug', 'HolyFuck', 'ImNotOk', 'oj', 'Surfing', 'glorpaga', 'Broadcaster', '4House', 'Deafge', 'GIGAMODS', 'NAvsEU', 'FARMING', 'ppL', 'peepoPride', 'CLIPPERS', 'Tuckge', 'gkeyPregnantBounce', 'OMEGADANCEBUTFASTER', 'MarblesTime', 'pKitten', 'GameplayTime', 'xqcTake', 'GivenUp', 'g32', 'Gogging', 'monkaTOS', 'CanIHaveADollar', 'areyoufr', 'wideDvaAss', 'IGON', 'pointless', 'MODDING', 'VeryPog', 'peepoAds', 'Thinking2', 'Steve', 'FeelsBlackScreen', 'RAHH', 'Jammies', 'crabPls', 'flightnotL', 'peepoMarch', 'NoMaidens', 'GREEDY', 'doroGHOST', 'doggoSlava', 'paulNya', 'Reddit', 'BEG', 'greetingsladies', 'ome54', 'Assept', 'maxwin', 'KENOUGH', 'myIQ', 'peepoBox', 'RISING', 'bieberDougie', 'KKalinka', 'speedVibe', 'mindloud', 'erinNya', 'shogaNya', 'DRAIN', 'plonk', 'POVbornbefore2000', 'LetsBingo', 'peepoLegs', 'unmod', 'Exerpas', 'ManchesterUnited', 'ModAbuse', 'spongePls', 'omeOhSHIT', 'xqcFuel', 'winton', 'SERIOUSLY', 'dojaPls', 'KeyShaker', 'StreamEnding', 'homelessPOV', 'Gaught', 'gigl', 'Thinking', 'ThisIsMinecraft', 'Beatles', 'ongang', 'Waddup', 'MVPOfFarallah', 'characterSelected', 'LiveReaction', 'luton', 'ZhongXina', 'Yoink', 'PepegaAim', 'shutup', 'xqcBOZO', 'gachiGASM', 'glorpdetective', 'YeahThatsWhatIWouldaDid', 'gmoney', 'songbird', 'GoodTake', 'AREYOUAGIRLFtxQcYellingAtYou', 'tak', 'NOHORNY']\n"
     ]
    }
   ],
   "source": [
    "threshold = 50\n",
    "# Calculate the total usage for each word\n",
    "total_usage = pivot_data.drop(columns=['date']).sum().sort_values()\n",
    "\n",
    "# Find words with the lowest usage\n",
    "barely_used_words = total_usage[total_usage <= threshold].index.tolist()\n",
    "\n",
    "# Display results\n",
    "print(\"Total usage of each word:\")\n",
    "print(total_usage)\n",
    "\n",
    "print(\"\\nWords barely used (threshold <= {}):\".format(threshold))\n",
    "print(barely_used_words)"
   ]
  },
  {
   "cell_type": "code",
   "execution_count": 8,
   "metadata": {},
   "outputs": [],
   "source": [
    "pivot_data_cleaned = pivot_data.drop(columns=barely_used_words)"
   ]
  },
  {
   "cell_type": "code",
   "execution_count": 9,
   "metadata": {},
   "outputs": [],
   "source": [
    "pivot_data_cleaned = pivot_data_cleaned.set_index('date').cumsum().reset_index()"
   ]
  },
  {
   "cell_type": "code",
   "execution_count": 10,
   "metadata": {},
   "outputs": [],
   "source": [
    "pivot_data_cleaned_transposed = pivot_data_cleaned.T\n",
    "pivot_data_cleaned_transposed = pivot_data_cleaned.T.reset_index()"
   ]
  },
  {
   "cell_type": "code",
   "execution_count": 11,
   "metadata": {},
   "outputs": [],
   "source": [
    "pivot_data_cleaned_transposed.to_excel('your_excel_file.xlsx', sheet_name='Pivot Table')"
   ]
  }
 ],
 "metadata": {
  "kernelspec": {
   "display_name": "Python 3",
   "language": "python",
   "name": "python3"
  },
  "language_info": {
   "codemirror_mode": {
    "name": "ipython",
    "version": 3
   },
   "file_extension": ".py",
   "mimetype": "text/x-python",
   "name": "python",
   "nbconvert_exporter": "python",
   "pygments_lexer": "ipython3",
   "version": "3.11.9"
  }
 },
 "nbformat": 4,
 "nbformat_minor": 2
}
