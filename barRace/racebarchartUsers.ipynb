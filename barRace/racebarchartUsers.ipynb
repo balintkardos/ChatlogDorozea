{
 "cells": [
  {
   "cell_type": "code",
   "execution_count": 18,
   "metadata": {},
   "outputs": [],
   "source": [
    "import pandas as pd\n",
    "import re\n",
    "\n",
    "# Read the list of filenames from the configuration file\n",
    "with open('../file_list.txt', 'r', encoding='utf-8') as config_file:\n",
    "    file_names = config_file.read().splitlines()\n",
    "\n",
    "# Regex pattern to match the data format\n",
    "pattern = r'\\[(.*?)\\] (.*?): (.*)'\n",
    "\n",
    "# Initialize an empty list to store parsed data\n",
    "datalist = []\n",
    "stream_count = 0\n",
    "# Iterate over each specified file\n",
    "for file in file_names:\n",
    "    full_path = f\"../data/{file}\"\n",
    "    with open(full_path, 'r', encoding='utf-8') as f:\n",
    "        lines = f.readlines()\n",
    "        for line in lines:\n",
    "            match = re.match(pattern, line)\n",
    "            if match:\n",
    "                date, user, message = match.groups()\n",
    "                datalist.append([date, user, message,stream_count])\n",
    "    stream_count = stream_count + 1\n",
    "\n",
    "# Create a DataFrame from the parsed data\n",
    "data = pd.DataFrame(datalist, columns=[\"date\", \"user\", \"message\",\"stream\"])\n",
    "\n"
   ]
  },
  {
   "cell_type": "code",
   "execution_count": 19,
   "metadata": {},
   "outputs": [
    {
     "data": {
      "text/plain": [
       "(1681901, 4)"
      ]
     },
     "execution_count": 19,
     "metadata": {},
     "output_type": "execute_result"
    }
   ],
   "source": [
    "\n",
    "data.shape"
   ]
  },
  {
   "cell_type": "code",
   "execution_count": 20,
   "metadata": {},
   "outputs": [],
   "source": [
    "# Count the number of messages per user\n",
    "message_counts = data.groupby(\"user\")[\"message\"].count()\n",
    "\n",
    "# Filter users with 25 or more messages\n",
    "users_with_25_or_more = message_counts[message_counts >= 25].index\n",
    "\n",
    "# Filter the original DataFrame to keep only these users\n",
    "data = data[data[\"user\"].isin(users_with_25_or_more)]"
   ]
  },
  {
   "cell_type": "code",
   "execution_count": 21,
   "metadata": {},
   "outputs": [
    {
     "data": {
      "text/plain": [
       "(1450644, 4)"
      ]
     },
     "execution_count": 21,
     "metadata": {},
     "output_type": "execute_result"
    }
   ],
   "source": [
    "data.shape"
   ]
  },
  {
   "cell_type": "code",
   "execution_count": 22,
   "metadata": {},
   "outputs": [],
   "source": [
    "data[\"user\"] = data[\"user\"].replace(\"Banties1g\", \"banties_x\")\n",
    "data[\"user\"] = data[\"user\"].replace(\"banties1g\", \"banties_x\")\n",
    "data[\"user\"] = data[\"user\"].replace(\"fyodor_m_d1821\", \"fyredoor4\")\n",
    "data[\"user\"] = data[\"user\"].replace(\"chili_poe\", \"chili_con_bacon\")\n",
    "data[\"user\"] = data[\"user\"].replace(\"CHILI_POE\", \"chili_con_bacon\")\n",
    "data[\"user\"] = data[\"user\"].replace(\"Wirelesss_\", \"W1r3lesss\")\n",
    "data[\"user\"] = data[\"user\"].replace(\"treklul\", \"trek44_\")\n",
    "data[\"user\"] = data[\"user\"].replace(\"ttrek_\", \"trek44_\")\n",
    "data[\"user\"] = data[\"user\"].replace(\"TriplesingleJ\", \"TripleSingleJames\")\n",
    "data[\"user\"] = data[\"user\"].replace(\"uuccugr\", \"uwu_cougar\")\n"
   ]
  },
  {
   "cell_type": "code",
   "execution_count": 23,
   "metadata": {},
   "outputs": [],
   "source": [
    "# Convert date to datetime format\n",
    "data[\"date\"] = pd.to_datetime(data[\"date\"])\n",
    "\n"
   ]
  },
  {
   "cell_type": "code",
   "execution_count": 24,
   "metadata": {},
   "outputs": [],
   "source": [
    "# Truncate datetime to just the day (removing time)\n",
    "data[\"day\"] = data[\"date\"].dt.date  # Extract only the date part\n",
    "\n"
   ]
  },
  {
   "cell_type": "code",
   "execution_count": 25,
   "metadata": {},
   "outputs": [],
   "source": [
    "# Group by 'day' and 'user' and calculate the message count per day per user\n",
    "data[\"message_count\"] = 1  # Assign 1 for each message to count them\n",
    "daily_counts = data.groupby([\"day\", \"user\"])[\"message_count\"].count().reset_index()\n",
    "\n"
   ]
  },
  {
   "cell_type": "code",
   "execution_count": 26,
   "metadata": {},
   "outputs": [],
   "source": [
    "# Pivot the table to create a user-wise table for each day\n",
    "pivot_table = daily_counts.pivot(index=\"day\", columns=\"user\", values=\"message_count\").fillna(0)\n"
   ]
  },
  {
   "cell_type": "code",
   "execution_count": 27,
   "metadata": {},
   "outputs": [],
   "source": [
    "\n",
    "# Add a cumulative sum for each user across the days\n",
    "cumulative_pivot = pivot_table.cumsum()\n"
   ]
  },
  {
   "cell_type": "code",
   "execution_count": 28,
   "metadata": {},
   "outputs": [
    {
     "name": "stdout",
     "output_type": "stream",
     "text": [
      "user        0000000emirburak0320  00skysea00  00yopop  010justwatch  06RoB  \\\n",
      "day                                                                          \n",
      "2024-05-01                   0.0         0.0      0.0           0.0    0.0   \n",
      "2024-05-02                   0.0         0.0      0.0           0.0    0.0   \n",
      "2024-05-03                   0.0         0.0      0.0           0.0    0.0   \n",
      "2024-05-04                   0.0         0.0      0.0           0.0    0.0   \n",
      "2024-05-05                   0.0         0.0      0.0           0.0    0.0   \n",
      "...                          ...         ...      ...           ...    ...   \n",
      "2025-04-25                  49.0        26.0     55.0          25.0  241.0   \n",
      "2025-04-26                  49.0        26.0     55.0          25.0  241.0   \n",
      "2025-04-27                  49.0        26.0     55.0          25.0  241.0   \n",
      "2025-04-28                  49.0        26.0     55.0          25.0  241.0   \n",
      "2025-04-30                  49.0        26.0     55.0          25.0  241.0   \n",
      "\n",
      "user        07moki  09maunomato  0buddha  0cops0problems  0f11  ...  木柵周杰倫  \\\n",
      "day                                                             ...          \n",
      "2024-05-01     0.0          0.0      0.0             0.0   0.0  ...    0.0   \n",
      "2024-05-02     0.0          0.0      0.0             0.0   0.0  ...    0.0   \n",
      "2024-05-03     0.0          0.0      0.0             0.0   0.0  ...    0.0   \n",
      "2024-05-04     0.0          0.0      0.0             0.0   0.0  ...    0.0   \n",
      "2024-05-05     0.0          0.0      0.0             0.0   0.0  ...    0.0   \n",
      "...            ...          ...      ...             ...   ...  ...    ...   \n",
      "2025-04-25   949.0         30.0   2481.0           107.0  31.0  ...   25.0   \n",
      "2025-04-26   949.0         30.0   2481.0           107.0  31.0  ...   25.0   \n",
      "2025-04-27   949.0         30.0   2481.0           107.0  31.0  ...   25.0   \n",
      "2025-04-28   949.0         30.0   2487.0           107.0  31.0  ...   25.0   \n",
      "2025-04-30   949.0         30.0   2487.0           107.0  31.0  ...   25.0   \n",
      "\n",
      "user        木柵林達豐    爪口长工   王大包   直井怜     金龙     餅藍  쌍베님사랑합니다  안톤958  엘레레레ㅔ  \n",
      "day                                                                          \n",
      "2024-05-01    0.0     7.0   0.0   0.0    0.0    0.0       0.0    0.0    0.0  \n",
      "2024-05-02    0.0    15.0   0.0   0.0    0.0    0.0       0.0    0.0    0.0  \n",
      "2024-05-03    0.0    15.0   0.0   0.0    0.0    0.0       0.0    0.0    0.0  \n",
      "2024-05-04    0.0    29.0   0.0   0.0    0.0    0.0       0.0    0.0    0.0  \n",
      "2024-05-05    0.0    29.0   0.0   0.0    0.0    0.0       0.0    0.0    0.0  \n",
      "...           ...     ...   ...   ...    ...    ...       ...    ...    ...  \n",
      "2025-04-25  154.0  2049.0  32.0  33.0  267.0  174.0      32.0   30.0   36.0  \n",
      "2025-04-26  154.0  2049.0  32.0  33.0  267.0  174.0      32.0   30.0   36.0  \n",
      "2025-04-27  154.0  2049.0  32.0  33.0  267.0  174.0      32.0   30.0   36.0  \n",
      "2025-04-28  154.0  2049.0  32.0  33.0  267.0  174.0      32.0   30.0   36.0  \n",
      "2025-04-30  154.0  2049.0  32.0  33.0  267.0  174.0      32.0   30.0   36.0  \n",
      "\n",
      "[305 rows x 5841 columns]\n"
     ]
    }
   ],
   "source": [
    "\n",
    "# Print the result\n",
    "print(cumulative_pivot)"
   ]
  },
  {
   "cell_type": "code",
   "execution_count": 29,
   "metadata": {},
   "outputs": [],
   "source": [
    "pivot_data_cleaned_transposed = cumulative_pivot.T\n",
    "pivot_data_cleaned_transposed = cumulative_pivot.T.reset_index()"
   ]
  },
  {
   "cell_type": "code",
   "execution_count": 30,
   "metadata": {},
   "outputs": [
    {
     "data": {
      "text/html": [
       "<div>\n",
       "<style scoped>\n",
       "    .dataframe tbody tr th:only-of-type {\n",
       "        vertical-align: middle;\n",
       "    }\n",
       "\n",
       "    .dataframe tbody tr th {\n",
       "        vertical-align: top;\n",
       "    }\n",
       "\n",
       "    .dataframe thead th {\n",
       "        text-align: right;\n",
       "    }\n",
       "</style>\n",
       "<table border=\"1\" class=\"dataframe\">\n",
       "  <thead>\n",
       "    <tr style=\"text-align: right;\">\n",
       "      <th>day</th>\n",
       "      <th>user</th>\n",
       "      <th>2024-05-01</th>\n",
       "      <th>2024-05-02</th>\n",
       "      <th>2024-05-03</th>\n",
       "      <th>2024-05-04</th>\n",
       "      <th>2024-05-05</th>\n",
       "      <th>2024-05-06</th>\n",
       "      <th>2024-05-07</th>\n",
       "      <th>2024-05-09</th>\n",
       "      <th>2024-05-10</th>\n",
       "      <th>...</th>\n",
       "      <th>2025-04-19</th>\n",
       "      <th>2025-04-20</th>\n",
       "      <th>2025-04-21</th>\n",
       "      <th>2025-04-22</th>\n",
       "      <th>2025-04-24</th>\n",
       "      <th>2025-04-25</th>\n",
       "      <th>2025-04-26</th>\n",
       "      <th>2025-04-27</th>\n",
       "      <th>2025-04-28</th>\n",
       "      <th>2025-04-30</th>\n",
       "    </tr>\n",
       "  </thead>\n",
       "  <tbody>\n",
       "    <tr>\n",
       "      <th>5836</th>\n",
       "      <td>金龙</td>\n",
       "      <td>0.0</td>\n",
       "      <td>0.0</td>\n",
       "      <td>0.0</td>\n",
       "      <td>0.0</td>\n",
       "      <td>0.0</td>\n",
       "      <td>0.0</td>\n",
       "      <td>0.0</td>\n",
       "      <td>0.0</td>\n",
       "      <td>0.0</td>\n",
       "      <td>...</td>\n",
       "      <td>266.0</td>\n",
       "      <td>266.0</td>\n",
       "      <td>266.0</td>\n",
       "      <td>267.0</td>\n",
       "      <td>267.0</td>\n",
       "      <td>267.0</td>\n",
       "      <td>267.0</td>\n",
       "      <td>267.0</td>\n",
       "      <td>267.0</td>\n",
       "      <td>267.0</td>\n",
       "    </tr>\n",
       "    <tr>\n",
       "      <th>5837</th>\n",
       "      <td>餅藍</td>\n",
       "      <td>0.0</td>\n",
       "      <td>0.0</td>\n",
       "      <td>0.0</td>\n",
       "      <td>0.0</td>\n",
       "      <td>0.0</td>\n",
       "      <td>0.0</td>\n",
       "      <td>0.0</td>\n",
       "      <td>0.0</td>\n",
       "      <td>0.0</td>\n",
       "      <td>...</td>\n",
       "      <td>174.0</td>\n",
       "      <td>174.0</td>\n",
       "      <td>174.0</td>\n",
       "      <td>174.0</td>\n",
       "      <td>174.0</td>\n",
       "      <td>174.0</td>\n",
       "      <td>174.0</td>\n",
       "      <td>174.0</td>\n",
       "      <td>174.0</td>\n",
       "      <td>174.0</td>\n",
       "    </tr>\n",
       "    <tr>\n",
       "      <th>5838</th>\n",
       "      <td>쌍베님사랑합니다</td>\n",
       "      <td>0.0</td>\n",
       "      <td>0.0</td>\n",
       "      <td>0.0</td>\n",
       "      <td>0.0</td>\n",
       "      <td>0.0</td>\n",
       "      <td>0.0</td>\n",
       "      <td>0.0</td>\n",
       "      <td>0.0</td>\n",
       "      <td>0.0</td>\n",
       "      <td>...</td>\n",
       "      <td>32.0</td>\n",
       "      <td>32.0</td>\n",
       "      <td>32.0</td>\n",
       "      <td>32.0</td>\n",
       "      <td>32.0</td>\n",
       "      <td>32.0</td>\n",
       "      <td>32.0</td>\n",
       "      <td>32.0</td>\n",
       "      <td>32.0</td>\n",
       "      <td>32.0</td>\n",
       "    </tr>\n",
       "    <tr>\n",
       "      <th>5839</th>\n",
       "      <td>안톤958</td>\n",
       "      <td>0.0</td>\n",
       "      <td>0.0</td>\n",
       "      <td>0.0</td>\n",
       "      <td>0.0</td>\n",
       "      <td>0.0</td>\n",
       "      <td>0.0</td>\n",
       "      <td>0.0</td>\n",
       "      <td>0.0</td>\n",
       "      <td>0.0</td>\n",
       "      <td>...</td>\n",
       "      <td>29.0</td>\n",
       "      <td>29.0</td>\n",
       "      <td>30.0</td>\n",
       "      <td>30.0</td>\n",
       "      <td>30.0</td>\n",
       "      <td>30.0</td>\n",
       "      <td>30.0</td>\n",
       "      <td>30.0</td>\n",
       "      <td>30.0</td>\n",
       "      <td>30.0</td>\n",
       "    </tr>\n",
       "    <tr>\n",
       "      <th>5840</th>\n",
       "      <td>엘레레레ㅔ</td>\n",
       "      <td>0.0</td>\n",
       "      <td>0.0</td>\n",
       "      <td>0.0</td>\n",
       "      <td>0.0</td>\n",
       "      <td>0.0</td>\n",
       "      <td>0.0</td>\n",
       "      <td>0.0</td>\n",
       "      <td>0.0</td>\n",
       "      <td>0.0</td>\n",
       "      <td>...</td>\n",
       "      <td>36.0</td>\n",
       "      <td>36.0</td>\n",
       "      <td>36.0</td>\n",
       "      <td>36.0</td>\n",
       "      <td>36.0</td>\n",
       "      <td>36.0</td>\n",
       "      <td>36.0</td>\n",
       "      <td>36.0</td>\n",
       "      <td>36.0</td>\n",
       "      <td>36.0</td>\n",
       "    </tr>\n",
       "  </tbody>\n",
       "</table>\n",
       "<p>5 rows × 306 columns</p>\n",
       "</div>"
      ],
      "text/plain": [
       "day       user  2024-05-01  2024-05-02  2024-05-03  2024-05-04  2024-05-05  \\\n",
       "5836        金龙         0.0         0.0         0.0         0.0         0.0   \n",
       "5837        餅藍         0.0         0.0         0.0         0.0         0.0   \n",
       "5838  쌍베님사랑합니다         0.0         0.0         0.0         0.0         0.0   \n",
       "5839     안톤958         0.0         0.0         0.0         0.0         0.0   \n",
       "5840     엘레레레ㅔ         0.0         0.0         0.0         0.0         0.0   \n",
       "\n",
       "day   2024-05-06  2024-05-07  2024-05-09  2024-05-10  ...  2025-04-19  \\\n",
       "5836         0.0         0.0         0.0         0.0  ...       266.0   \n",
       "5837         0.0         0.0         0.0         0.0  ...       174.0   \n",
       "5838         0.0         0.0         0.0         0.0  ...        32.0   \n",
       "5839         0.0         0.0         0.0         0.0  ...        29.0   \n",
       "5840         0.0         0.0         0.0         0.0  ...        36.0   \n",
       "\n",
       "day   2025-04-20  2025-04-21  2025-04-22  2025-04-24  2025-04-25  2025-04-26  \\\n",
       "5836       266.0       266.0       267.0       267.0       267.0       267.0   \n",
       "5837       174.0       174.0       174.0       174.0       174.0       174.0   \n",
       "5838        32.0        32.0        32.0        32.0        32.0        32.0   \n",
       "5839        29.0        30.0        30.0        30.0        30.0        30.0   \n",
       "5840        36.0        36.0        36.0        36.0        36.0        36.0   \n",
       "\n",
       "day   2025-04-27  2025-04-28  2025-04-30  \n",
       "5836       267.0       267.0       267.0  \n",
       "5837       174.0       174.0       174.0  \n",
       "5838        32.0        32.0        32.0  \n",
       "5839        30.0        30.0        30.0  \n",
       "5840        36.0        36.0        36.0  \n",
       "\n",
       "[5 rows x 306 columns]"
      ]
     },
     "execution_count": 30,
     "metadata": {},
     "output_type": "execute_result"
    }
   ],
   "source": [
    "pivot_data_cleaned_transposed.head(5)\n",
    "pivot_data_cleaned_transposed.tail(5)"
   ]
  },
  {
   "cell_type": "code",
   "execution_count": 31,
   "metadata": {},
   "outputs": [],
   "source": [
    "pivot_data_cleaned_transposed.to_excel('your_excel_file.xlsx', sheet_name='Pivot Table')"
   ]
  },
  {
   "cell_type": "code",
   "execution_count": 32,
   "metadata": {},
   "outputs": [
    {
     "data": {
      "text/plain": [
       "(1450644, 6)"
      ]
     },
     "execution_count": 32,
     "metadata": {},
     "output_type": "execute_result"
    }
   ],
   "source": [
    "data.shape"
   ]
  },
  {
   "cell_type": "code",
   "execution_count": 33,
   "metadata": {},
   "outputs": [
    {
     "data": {
      "text/plain": [
       "(1383374, 6)"
      ]
     },
     "execution_count": 33,
     "metadata": {},
     "output_type": "execute_result"
    }
   ],
   "source": [
    "from difflib import SequenceMatcher\n",
    "\n",
    "def is_similar(msg1, msg2, threshold=0.6):\n",
    "    \"\"\"Check if two messages are similar based on a given threshold.\"\"\"\n",
    "    similarity = SequenceMatcher(None, msg1, msg2).ratio()\n",
    "    return similarity >= threshold\n",
    "\n",
    "# Sort data by user and date to process messages in chronological order\n",
    "data = data.sort_values(by=[\"user\", \"date\"])\n",
    "\n",
    "# Initialize a list to store indices of non-spam messages\n",
    "non_spam_indices = []\n",
    "\n",
    "# Iterate through each user\n",
    "for user, group in data.groupby(\"user\"):\n",
    "    last_message = None\n",
    "    last_date = None\n",
    "    for idx, row in group.iterrows():\n",
    "        current_message = row[\"message\"]\n",
    "        current_date = row[\"date\"]\n",
    "        \n",
    "        if last_message is not None and last_date is not None:\n",
    "            time_diff = (current_date - last_date).total_seconds()\n",
    "            if time_diff <= 30 and is_similar(last_message, current_message):\n",
    "                # Skip spam message\n",
    "                continue\n",
    "        \n",
    "        # If not spam, add the index to the list\n",
    "        non_spam_indices.append(idx)\n",
    "        last_message = current_message\n",
    "        last_date = current_date\n",
    "\n",
    "# Filter the data to keep only non-spam messages\n",
    "data = data.loc[non_spam_indices].reset_index(drop=True)\n",
    "\n",
    "data.shape"
   ]
  }
 ],
 "metadata": {
  "kernelspec": {
   "display_name": "Python 3",
   "language": "python",
   "name": "python3"
  },
  "language_info": {
   "codemirror_mode": {
    "name": "ipython",
    "version": 3
   },
   "file_extension": ".py",
   "mimetype": "text/x-python",
   "name": "python",
   "nbconvert_exporter": "python",
   "pygments_lexer": "ipython3",
   "version": "3.11.9"
  }
 },
 "nbformat": 4,
 "nbformat_minor": 2
}
