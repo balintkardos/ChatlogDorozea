{
 "cells": [
  {
   "cell_type": "code",
   "execution_count": 1,
   "metadata": {},
   "outputs": [],
   "source": [
    "import pandas as pd\n",
    "import re"
   ]
  },
  {
   "cell_type": "code",
   "execution_count": 2,
   "metadata": {},
   "outputs": [],
   "source": [
    "file_names = [\n",
    "    \"[5-1-24].txt\",\n",
    "    \"[5-2-24].txt\", \n",
    "    \"[5-3-24].txt\", \n",
    "    \"[5-4-24].txt\", \n",
    "    \"[5-5-24].txt\",\n",
    "    \"[5-6-24].txt\", \n",
    "    \"[5-7-24].txt\", \n",
    "    \"[5-9-24].txt\", \n",
    "    \"[5-10-24].txt\", \n",
    "    \"[5-11-24].txt\",\n",
    "    \"[5-12-24].txt\",\n",
    "    \"[5-13-24].txt\",\n",
    "    \"[5-15-24].txt\",\n",
    "    \"[5-16-24].txt\",\n",
    "    \"[5-17-24].txt\",\n",
    "    \"[5-18-24].txt\",\n",
    "    \"[5-19-24].txt\",\n",
    "    \"[5-21-24].txt\",\n",
    "    \"[5-22-24].txt\",\n",
    "    \"[5-23-24].txt\",\n",
    "    \"[5-24-24].txt\",\n",
    "    \"[5-25-24].txt\",\n",
    "    \"[5-26-24].txt\",\n",
    "    \"[5-27-24].txt\",\n",
    "    \"[5-28-24].txt\",\n",
    "    \"[5-29-24].txt\",\n",
    "    \"[5-30-24].txt\",\n",
    "    \"[5-31-24].txt\",\n",
    "    \"[6-2-24].txt\",\n",
    "    \"[6-2-24]_2.txt\",\n",
    "    \"[6-3-24].txt\",\n",
    "    \"[6-4-24].txt\",\n",
    "    \"[6-5-24].txt\",\n",
    "    \"[6-6-24].txt\",\n",
    "    \"[6-7-24].txt\",\n",
    "    \"[6-9-24].txt\",\n",
    "    \"[6-10-24].txt\",\n",
    "    \"[6-11-24].txt\",\n",
    "    \"[6-12-24].txt\",\n",
    "    \"[6-13-24].txt\",\n",
    "    \"[6-14-24].txt\",\n",
    "    \"[6-15-24].txt\",\n",
    "    \"[6-16-24].txt\",\n",
    "    \"[6-17-24].txt\",\n",
    "    \"[6-18-24].txt\",\n",
    "    \"[6-20-24].txt\",\n",
    "    \"[6-22-24].txt\",\n",
    "    \"[6-23-24].txt\",\n",
    "    \"[6-24-24].txt\",\n",
    "    \"[6-25-24].txt\",\n",
    "    \"[6-29-24].txt\"\n",
    "]\n",
    "\n",
    "# Regex pattern to match the data format\n",
    "pattern = r'\\[(.*?)\\] (.*?): (.*)'\n",
    "\n",
    "\n",
    "# Initialize an empty list to store parsed data\n",
    "datalist = []\n",
    "stream_count = 0\n",
    "# Iterate over each specified file\n",
    "for file in file_names:\n",
    "    full_path = file\n",
    "    with open(full_path, 'r', encoding='utf-8') as f:\n",
    "        lines = f.readlines()\n",
    "        for line in lines:\n",
    "            match = re.match(pattern, line)\n",
    "            if match:\n",
    "                date, user, message = match.groups()\n",
    "                datalist.append([date, user, message,stream_count])\n",
    "    stream_count = stream_count + 1\n",
    "\n",
    "# Create a DataFrame from the parsed data\n",
    "data = pd.DataFrame(datalist, columns=[\"date\", \"user\", \"message\",\"stream\"])"
   ]
  },
  {
   "cell_type": "code",
   "execution_count": 3,
   "metadata": {},
   "outputs": [
    {
     "name": "stdout",
     "output_type": "stream",
     "text": [
      "13           1206paul_\n",
      "1018    StreamElements\n",
      "1428        balintboss\n",
      "Name: user, dtype: object\n"
     ]
    }
   ],
   "source": [
    "# Step 1: Count the number of unique streams each user has sent messages in\n",
    "user_stream_counts = data.groupby('user')['stream'].nunique().reset_index()\n",
    "\n",
    "# Step 2: Get the total number of unique streams\n",
    "total_streams = data['stream'].nunique()\n",
    "\n",
    "# Step 3: Filter users who have sent messages in every stream\n",
    "users_in_every_stream = user_stream_counts[user_stream_counts['stream'] == total_streams]['user']\n",
    "\n",
    "# Optional: Filter the original dataframe to include only messages from these users\n",
    "data_filtered = data[data['user'].isin(users_in_every_stream)]\n",
    "\n",
    "print(users_in_every_stream)"
   ]
  }
 ],
 "metadata": {
  "kernelspec": {
   "display_name": "Python 3",
   "language": "python",
   "name": "python3"
  },
  "language_info": {
   "codemirror_mode": {
    "name": "ipython",
    "version": 3
   },
   "file_extension": ".py",
   "mimetype": "text/x-python",
   "name": "python",
   "nbconvert_exporter": "python",
   "pygments_lexer": "ipython3",
   "version": "3.11.9"
  }
 },
 "nbformat": 4,
 "nbformat_minor": 2
}
