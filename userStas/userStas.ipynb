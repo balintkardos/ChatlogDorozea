{
 "cells": [
  {
   "cell_type": "code",
   "execution_count": 2,
   "metadata": {},
   "outputs": [],
   "source": [
    "import pandas as pd\n",
    "import re\n",
    "import pytz\n",
    "\n",
    "# Read the list of filenames from the configuration file\n",
    "with open('../file_list.txt', 'r', encoding='utf-8') as config_file:\n",
    "    file_names = config_file.read().splitlines()\n",
    "\n",
    "# Regex pattern to match the data format\n",
    "pattern = r'\\[(.*?)\\] (.*?): (.*)'\n",
    "\n",
    "# Initialize an empty list to store parsed data\n",
    "datalist = []\n",
    "stream_count = 0\n",
    "# Iterate over each specified file\n",
    "for file in file_names:\n",
    "    full_path = f\"../data/{file}\"\n",
    "    with open(full_path, 'r', encoding='utf-8') as f:\n",
    "        lines = f.readlines()\n",
    "        for line in lines:\n",
    "            match = re.match(pattern, line)\n",
    "            if match:\n",
    "                date, user, message = match.groups()\n",
    "                datalist.append([date, user, message,stream_count])\n",
    "    stream_count = stream_count + 1\n",
    "\n",
    "# Create a DataFrame from the parsed data\n",
    "data = pd.DataFrame(datalist, columns=[\"date\", \"user\", \"message\",\"stream\"])\n",
    "data['date'] = pd.to_datetime(data['date'])\n",
    "\n",
    "def convert_utc_to_cet(df, date_column='date'):\n",
    "    \"\"\"\n",
    "    Convert UTC timestamps to Central European Time (CET/CEST) with proper DST handling\n",
    "    \n",
    "    Parameters:\n",
    "    df (pd.DataFrame): DataFrame containing the date column\n",
    "    date_column (str): Name of the column containing UTC timestamps\n",
    "    \n",
    "    Returns:\n",
    "    pd.DataFrame: DataFrame with converted timestamps\n",
    "    \"\"\"\n",
    "    # Make a copy to avoid modifying the original\n",
    "    df = df.copy()\n",
    "    \n",
    "    # Ensure timestamps are UTC aware\n",
    "    if df[date_column].dt.tz is None:\n",
    "        df[date_column] = df[date_column].dt.tz_localize('UTC')\n",
    "    elif df[date_column].dt.tz != pytz.UTC:\n",
    "        df[date_column] = df[date_column].dt.tz_convert('UTC')\n",
    "    \n",
    "    # Convert to CET/CEST (Europe/Berlin includes proper DST handling)\n",
    "    df[date_column] = df[date_column].dt.tz_convert('Europe/Berlin')\n",
    "    \n",
    "    return df\n",
    "\n",
    "data = convert_utc_to_cet(data)"
   ]
  },
  {
   "cell_type": "code",
   "execution_count": 3,
   "metadata": {},
   "outputs": [],
   "source": [
    "data[\"user\"] = data[\"user\"].replace(\"Banties1g\", \"banties_x\")\n",
    "data[\"user\"] = data[\"user\"].replace(\"banties1g\", \"banties_x\")\n",
    "data[\"user\"] = data[\"user\"].replace(\"fyodor_m_d1821\", \"fyredoor4\")"
   ]
  },
  {
   "cell_type": "code",
   "execution_count": 4,
   "metadata": {},
   "outputs": [
    {
     "name": "stdout",
     "output_type": "stream",
     "text": [
      "525\n"
     ]
    }
   ],
   "source": [
    "message_counts = data[\"user\"].value_counts()\n",
    "users_above_1k = (message_counts >= 250).sum()\n",
    "print(users_above_1k)\n"
   ]
  },
  {
   "cell_type": "code",
   "execution_count": 5,
   "metadata": {},
   "outputs": [
    {
     "data": {
      "text/plain": [
       "count    50019.000000\n",
       "mean        26.484656\n",
       "std        444.859472\n",
       "min          1.000000\n",
       "25%          1.000000\n",
       "50%          3.000000\n",
       "75%          7.000000\n",
       "max      41056.000000\n",
       "Name: count, dtype: float64"
      ]
     },
     "execution_count": 5,
     "metadata": {},
     "output_type": "execute_result"
    }
   ],
   "source": [
    "message_counts.describe()"
   ]
  },
  {
   "cell_type": "code",
   "execution_count": 6,
   "metadata": {},
   "outputs": [],
   "source": [
    "userName='W1r3lesss'"
   ]
  },
  {
   "cell_type": "code",
   "execution_count": 7,
   "metadata": {},
   "outputs": [
    {
     "name": "stdout",
     "output_type": "stream",
     "text": [
      "Users warned multiple times count: 490\n",
      "Users warned but never typed Count: 1110\n",
      "Total warned: 4021\n",
      "Users warned multiple times AND never typed Count: 73\n"
     ]
    },
    {
     "name": "stderr",
     "output_type": "stream",
     "text": [
      "C:\\Users\\Kardo\\AppData\\Local\\Temp\\ipykernel_16096\\3088077461.py:5: SettingWithCopyWarning: \n",
      "A value is trying to be set on a copy of a slice from a DataFrame.\n",
      "Try using .loc[row_indexer,col_indexer] = value instead\n",
      "\n",
      "See the caveats in the documentation: https://pandas.pydata.org/pandas-docs/stable/user_guide/indexing.html#returning-a-view-versus-a-copy\n",
      "  fossa_warnings[\"warned_user\"] = fossa_warnings[\"message\"].str.extract(r'@(\\w+)')\n"
     ]
    }
   ],
   "source": [
    "# Filter messages from Fossabot\n",
    "fossa_warnings = data[data[\"user\"] == \"Fossabot\"]\n",
    "\n",
    "# Extract warned usernames from the warning message\n",
    "fossa_warnings[\"warned_user\"] = fossa_warnings[\"message\"].str.extract(r'@(\\w+)')\n",
    "\n",
    "# 1. Find people who received multiple warnings\n",
    "warn_counts = fossa_warnings[\"warned_user\"].value_counts()\n",
    "multiple_warned_users = warn_counts[warn_counts > 1].index.tolist()\n",
    "\n",
    "# 2. Find users who were warned but never typed in chat\n",
    "all_warned_users = set(fossa_warnings[\"warned_user\"].dropna())\n",
    "active_users = set(data[\"user\"]) - {\"Fossabot\"}  # All users except Fossabot\n",
    "silent_warned_users = list(all_warned_users - active_users)\n",
    "\n",
    "# 3. List of all warned people and its length\n",
    "all_warned_list = list(all_warned_users)\n",
    "num_warned = len(all_warned_list)\n",
    "\n",
    "# Print results\n",
    "print(\"Users warned multiple times count:\", len(multiple_warned_users))\n",
    "print(\"Users warned but never typed Count:\", len(silent_warned_users))\n",
    "print(\"Total warned:\", num_warned)\n",
    "\n",
    "# Find users who were warned multiple times AND never typed\n",
    "silent_multiple_warned_users = list(set(multiple_warned_users) & set(silent_warned_users))\n",
    "silent_multiple_warned_count = len(silent_multiple_warned_users)\n",
    "print(\"Users warned multiple times AND never typed Count:\", silent_multiple_warned_count)\n"
   ]
  },
  {
   "cell_type": "code",
   "execution_count": 8,
   "metadata": {},
   "outputs": [
    {
     "name": "stdout",
     "output_type": "stream",
     "text": [
      "Top 10 most warned users:\n",
      " warned_user\n",
      "uuccugr           16\n",
      "barisbalsuzenn    15\n",
      "ttrek_            13\n",
      "dodo456a          13\n",
      "Leftybrasco        9\n",
      "maxxus0            7\n",
      "riesenklotz        7\n",
      "kindheadbanger     6\n",
      "ertagon_           6\n",
      "elus1veeee         6\n",
      "Name: count, dtype: int64\n"
     ]
    }
   ],
   "source": [
    "# Get top 10 most warned users from multiple_warned_users\n",
    "top_10_warned_users = warn_counts.head(10)  # Select the first 10 from the sorted warning count\n",
    "\n",
    "# Print results\n",
    "print(\"Top 10 most warned users:\\n\", top_10_warned_users)\n"
   ]
  }
 ],
 "metadata": {
  "kernelspec": {
   "display_name": "Python 3",
   "language": "python",
   "name": "python3"
  },
  "language_info": {
   "codemirror_mode": {
    "name": "ipython",
    "version": 3
   },
   "file_extension": ".py",
   "mimetype": "text/x-python",
   "name": "python",
   "nbconvert_exporter": "python",
   "pygments_lexer": "ipython3",
   "version": "3.11.9"
  }
 },
 "nbformat": 4,
 "nbformat_minor": 2
}
