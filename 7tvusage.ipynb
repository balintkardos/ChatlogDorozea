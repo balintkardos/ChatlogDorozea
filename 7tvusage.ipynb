{
 "cells": [
  {
   "cell_type": "code",
   "execution_count": 46,
   "metadata": {},
   "outputs": [
    {
     "data": {
      "text/plain": [
       "592"
      ]
     },
     "execution_count": 46,
     "metadata": {},
     "output_type": "execute_result"
    }
   ],
   "source": [
    "tv7 = \"Clown Explosion hackingCD MathTime MoneyRain PokiShare TakingNotes :0 :33 !boost +1 1DLove 3Head 3Heading 4Weird 5Head Acknowledged ACTINUP ADHD AIM AIWITHTHEBRAIDS Alfred AlienDance AlienPls AlienPls3 Aloo amongE ANGRE ANOTHERONE AREYOUAGIRL arnoldHalt AWOO axelF barack Based BASED batPls Beatles Bedge BEGGING Belling BHOP BigD Bloons BOOBA BOOMIES Borfday BORGIR brbToilet Broadcaster BRUHMM BUSSERS BUSSIN catAsk catBusiness catDespair catJAM catPls catSmash CatTime catTwerk Caught CaughtIn4K CHADDING Chillin Clap CLEAN CLIPPERS CLOWNDETECTED COCKA cokeBreak COMEHERE CoolMonkey COPIUM crabPls Cuck Cuh Cyat Dave deadassFaint Delusional DemonTiming Dime DinkDonk docAwaken DOCBOZO docnotL doggoSlava dogJAM DogLookingWickedAndCool donowall doroCD DoroCheer doroFiddy doroFlex doroGHOST doroHEAD doroJAM doroL doroMAD DOUBTERS DRAIN Drake DrDisrespect drooling duaKiss dudWhat emo emo2 FeelsTiredMan FeelsWowMan FellOff fembajJAM FiddyWtf FLASHBANG Flirt flowerr Flushed forsenCD forsenLaughingAtYou FUNNY gachiHYPER GAMBA GAMING GIGACHAD GIGACHAIR glizzyoverdrive GODDID Gogging GotEEM gothKiss gPls GuitarTime HABIBI HACKERMANS HaltEinfachDeineFresseDuHurensohn HandsUp happi HARAM Headbang HeDisconnected HEHE Heisenberj heyywithrizz HEYYY Hmm HOBBY HOLY homelessPOV HUH ICANT IFISPEAK Ignored IMAGINENOTHAVING7TVGETFUCKEDNON7TVUSERSIMAGINENOTHAVING7TVGETFUCKEDNON7TVUSERSIMAGINENOTHAVING7TVGET ISeeYou itsover Jackass Jay JESSE joever john JokerHAHA JokerLaugh JumpScared JustAnotherDay justinbieber KanyeStare KENOUGH KKalinka KKonaW KKool Lamonting lebronJAM LetsBingo LETSGO Life Lithuanian LittleTrolling Loading Looking LULW lurkk Madge MAJ ManchesterUnited MicTime Modding mods Mog monakS monkaTOS monkaW MONKE monkeySip muted MYHEARTILOVEDHER NAHH NAHHH NAHHHH NAILS NAILSING NAUR Nerd NODDERS NOIDONTTHINKSO NoMaidens NOOOOO Noppers NOSHOT notxqcL NOW nt ohhh ohneFinger ohno ok OLDWORK omEE OMEGALUL omeStare OnMyWayToDoroMomHouse OOOO oopsie OuttaPocket OverwhelminglyWholesome owoCheer PagBounce PagChomp PagMan parasocial PARASOCIAL PEEPEES peepoClap peepoComfy peepoDJ peepoEvil peepoFat peepoHey peepoKiss peepoLeave peepoLegs peepoMarch peepoPride peepoShy peepoSmile peepoTalk pepeAgony Pepega PepegaAim PepegaChat pepeGun PepeHands pepePoint pepeW PepoG Pffttt pickle Pipege pL PogU pokiFlirt PotFriendDance POVbornbefore2000 ppHop ppOverheat Prayge RAHH RaveDance RaveTime Reacting RememberTheDays RIPBOZO RIRI Rizzler ROFL RussiaPls ryanArrive Sadding SAJ SCAMMED Scared SCHIZO SCHTOP SEXO Shits Sippin sisyphus Smile Smoge SNIFFA spfLEAN:()wiltee_()tonyhawkproskater4:-:-:_FREEWAVE3-encinoman--:enteringwalmart:-wheezethelean-123 spongePls squadHips Staring STREAMER SurE susDog SUSSY Swag TeamEDWARD TheVoices TheWolfInMe Thinking THINKING Thinking2 TIMEOUT Tomfoolery totallylistening TriKool TriSad TRIVSsorry TRUEING Tuckge TWEAK UGH unmod uwu vibePls VibePls VIEWERS WAHHH WAIT Waiting WaitingForLove WAITWAITWAIT WAJAJA WeDoNotCare weirdChamp WELSH WePaid wig WW xar2EDM xd xqcBOZO xqcDespair xqcFuel xqcGoofy xqcTake xqcTwerk YANITED YAPPING YIPIEE Yoink YOOLOOKATTHISCATDOINITSLILDANCYDANCEINTOABREAKDANCEMOVE Yooo YOOOLOOKATTHISCOCKWITHDADRIPSHII ZhongXina :tf: 1984 1Directioning AINTNOWAY AreYouSeriousRightNeow Aware BANGER Banties barryArrive BatChestAbove BELIEVERS bieberDougie bog bruv buh CatCozy chilling classic Dentge despair DespairRyan Devious Devious Doc1v1 DRAMA EdwardStare Evilge fadedthanaho FARMING Fiddy fortnite GAGAGA gamily gigl girlBoss GivenUp gkitten HarryStylesKiss HELLO hesRight hi ImNotOk itstime LETHERCOOK LETSFUCKINGJOE LiterallyMe LOCKIN MARIO Martin matSad Memories mhm ModAbuse MVP niceguy nonono o7 OHMYGAWDD okak omE OMEGALULiguess owoshy peepoBelievers peepoDoubters peepoGiggles peepoHug peepoLove peepoLove peepoStop pepeJAM pKitten Plotge Pointless poroPls PRIMERS PTSD RAGEY ratio ReallyMad Reddit RiddleMeThis Sadge SADge SAVEME Shruge silliness Sits SLAY sotruebestie SOYSCREAM Stare StreamEnding Susge ThePaulers UltraMad VALORANT VeryPog wallE WatchingStream WeAreLive WHAT WHOAAA WHOLETHERCOOK WHOLETHERSLAY WICKED WOT wrapitup Xd xJAM xqcSlam YEP YouWouldntGetIt zyzzBass !play AAAAAAAAUHGGH AREYOUAGIRLFtxQcYellingAtYou ayo brb CAUGHT chatters CS2 damily DeathIncoming DIESOFCRINGE dimacut Dorozea EDITING Enough FINALLY firsttimebuh FirstTimeChadder FirstTimeChatter GameplayTime gettingjiggywithit gg GotCaughtCheating GotCaughtTrolling GREEDY GRRR HowDoWeTellHim iAsked ImtiredBoss INTENSEGAMING KEKW KeyShaker lebronArrive LieMeter Listening LOL LookUp luton MarblesTime me: MeRN MONKA MyExistenceIsNothingButAGrainOfSandComparedToTheEntireScaleOfTheUniverse MYLIFE noonecares notListening NOWAYING Ohh OVERWATCH paul Peace popipopipipopipo raid RightThere SNACKING STREAMERSGIVINGTHEWORSTFUCKINGTAKESINEXISTENCE THIS TITANHOLO unemployment uuh VeryKey vibeeparty Voices Waddup waiting walterShocked WalterVibe War WHATAFUCKEDUPDAY Whenyourinnerwolfreleases WhoAsked WideHUH xqcL YouGotMe zyzzJAM PokiShareW WIDEALERT WideRaveTime !join !lurk !unfollow Adge ads ahmadmuhsin BantiesPaulBeef BINGO bye Cinema doroBiceps DoroTalkingAgain GoodTake HAH hiii iDrive imback IMGOINGINSANEANDCOMPLETELYLOSINGITAAAAAAAAAAAHHHHHHH jacob1 jacob2 jacob3 jacob4 Joel LastTimeChatter NAvsEU NOCHECKMARKS NOHORNY ome32 ome5 OMEYES OMFG OneGuy ONEMORE OVERWORKING paidchatter peepoAds peepoRiot phpk plink-182 plinkVibe plonk RealForsen StoryTime ThisChat TriJam wideduckass WideHardo WidelebronJAM widemonkaGIGAftRobertDowneyJr WidezyzzPls xqc32 xQcVeryWide YOUDIED\"\n",
    "tv7_list = tv7.split(' ')\n",
    "\n",
    "len(tv7_list)"
   ]
  },
  {
   "cell_type": "code",
   "execution_count": 47,
   "metadata": {},
   "outputs": [],
   "source": [
    "import pandas as pd\n",
    "from sklearn.cluster import KMeans\n",
    "from sklearn.preprocessing import StandardScaler\n",
    "import re"
   ]
  },
  {
   "cell_type": "code",
   "execution_count": 48,
   "metadata": {},
   "outputs": [],
   "source": [
    "file_names = [\n",
    "    \"[5-1-24].txt\",\n",
    "    \"[5-2-24].txt\", \n",
    "    \"[5-3-24].txt\", \n",
    "    \"[5-4-24].txt\", \n",
    "    \"[5-5-24].txt\",\n",
    "    \"[5-6-24].txt\", \n",
    "    \"[5-7-24].txt\", \n",
    "    \"[5-9-24].txt\", \n",
    "    \"[5-10-24].txt\", \n",
    "    \"[5-11-24].txt\",\n",
    "    \"[5-12-24].txt\",\n",
    "    \"[5-13-24].txt\",\n",
    "    \"[5-15-24].txt\",\n",
    "    \"[5-16-24].txt\",\n",
    "    \"[5-17-24].txt\",\n",
    "    \"[5-18-24].txt\",\n",
    "    \"[5-19-24].txt\",\n",
    "    \"[5-21-24].txt\",\n",
    "    \"[5-22-24].txt\",\n",
    "    \"[5-23-24].txt\",\n",
    "    \"[5-24-24].txt\",\n",
    "    \"[5-25-24].txt\",\n",
    "    \"[5-26-24].txt\",\n",
    "    \"[5-27-24].txt\",\n",
    "    \"[5-28-24].txt\",\n",
    "    \"[5-29-24].txt\",\n",
    "    \"[5-30-24].txt\",\n",
    "    \"[5-31-24].txt\",\n",
    "    \"[6-2-24].txt\",\n",
    "    \"[6-2-24]_2.txt\",\n",
    "    \"[6-3-24].txt\",\n",
    "    \"[6-4-24].txt\",\n",
    "    \"[6-5-24].txt\",\n",
    "    \"[6-6-24].txt\",\n",
    "    \"[6-7-24].txt\",\n",
    "    \"[6-9-24].txt\",\n",
    "    \"[6-10-24].txt\",\n",
    "    \"[6-11-24].txt\",\n",
    "    \"[6-12-24].txt\",\n",
    "    \"[6-13-24].txt\",\n",
    "    \"[6-14-24].txt\",\n",
    "    \"[6-15-24].txt\",\n",
    "    \"[6-16-24].txt\",\n",
    "    \"[6-17-24].txt\",\n",
    "    \"[6-18-24].txt\",\n",
    "    \"[6-20-24].txt\",\n",
    "    \"[6-22-24].txt\",\n",
    "    \"[6-23-24].txt\",\n",
    "]\n",
    "\n",
    "# Regex pattern to match the data format\n",
    "pattern = r'\\[(.*?)\\] (.*?): (.*)'\n",
    "\n",
    "# Define the path to your text files (ensure this path is correct)\n",
    "path = ''  # update with your actual path\n",
    "\n",
    "# Initialize an empty list to store parsed data\n",
    "data = []\n",
    "\n",
    "# Iterate over each specified file\n",
    "for file in file_names:\n",
    "    full_path = path + file\n",
    "    with open(full_path, 'r', encoding='utf-8') as f:\n",
    "        lines = f.readlines()\n",
    "        for line in lines:\n",
    "            match = re.match(pattern, line)\n",
    "            if match:\n",
    "                date, user, message = match.groups()\n",
    "                data.append([date, user, message])\n",
    "\n",
    "# Create a DataFrame from the parsed data\n",
    "combined_df = pd.DataFrame(data, columns=[\"date\", \"user\", \"message\"])"
   ]
  },
  {
   "cell_type": "code",
   "execution_count": 49,
   "metadata": {},
   "outputs": [
    {
     "data": {
      "text/plain": [
       "(137102, 3)"
      ]
     },
     "execution_count": 49,
     "metadata": {},
     "output_type": "execute_result"
    }
   ],
   "source": [
    "combined_df.shape"
   ]
  },
  {
   "cell_type": "code",
   "execution_count": 50,
   "metadata": {},
   "outputs": [],
   "source": [
    "n_clu = len(file_names) -1"
   ]
  },
  {
   "cell_type": "code",
   "execution_count": 51,
   "metadata": {},
   "outputs": [],
   "source": [
    "# Convert the 'date' column to datetime\n",
    "combined_df['date'] = pd.to_datetime(combined_df['date'], format='%Y-%m-%d %H:%M:%S %Z', errors='coerce')\n",
    "\n",
    "# Add a new column 'time_in_number' that represents the date as the number of seconds since the Unix epoch\n",
    "combined_df['time_in_number'] = combined_df['date'].apply(lambda x: x.timestamp() if not pd.isnull(x) else None)\n",
    "\n",
    "combined_df['time_delta'] = combined_df['time_in_number'] - combined_df['time_in_number'].min()\n",
    "\n",
    "scaler = StandardScaler()\n",
    "scaled_data = scaler.fit_transform(combined_df[['time_delta']])\n",
    "\n",
    "kmeans = KMeans(n_clusters=n_clu, random_state=69)  # Set random state for reproducibility\n",
    "kmeans.fit(scaled_data)\n",
    "\n",
    "combined_df['cluster'] = kmeans.labels_\n",
    "\n"
   ]
  },
  {
   "cell_type": "code",
   "execution_count": 52,
   "metadata": {},
   "outputs": [],
   "source": [
    "import matplotlib.pyplot as plt"
   ]
  },
  {
   "cell_type": "code",
   "execution_count": 53,
   "metadata": {},
   "outputs": [
    {
     "data": {
      "image/png": "[encoded data removed]",
      "text/plain": [
       "<Figure size 640x480 with 1 Axes>"
      ]
     },
     "metadata": {},
     "output_type": "display_data"
    }
   ],
   "source": [
    "# Get the number of messages in each cluster\n",
    "cluster_counts = combined_df['cluster'].value_counts().sort_values(ascending=False)\n",
    "\n",
    "plt.bar(cluster_counts.index, cluster_counts.values)\n",
    "plt.xlabel('Cluster Label')\n",
    "plt.ylabel('Number of Messages')\n",
    "plt.title('Distribution of Messages in Clusters')\n",
    "plt.show()\n"
   ]
  },
  {
   "cell_type": "code",
   "execution_count": 54,
   "metadata": {},
   "outputs": [
    {
     "data": {
      "text/html": [
       "<div>\n",
       "<style scoped>\n",
       "    .dataframe tbody tr th:only-of-type {\n",
       "        vertical-align: middle;\n",
       "    }\n",
       "\n",
       "    .dataframe tbody tr th {\n",
       "        vertical-align: top;\n",
       "    }\n",
       "\n",
       "    .dataframe thead th {\n",
       "        text-align: right;\n",
       "    }\n",
       "</style>\n",
       "<table border=\"1\" class=\"dataframe\">\n",
       "  <thead>\n",
       "    <tr style=\"text-align: right;\">\n",
       "      <th></th>\n",
       "      <th>date</th>\n",
       "      <th>user</th>\n",
       "      <th>message</th>\n",
       "      <th>time_in_number</th>\n",
       "      <th>time_delta</th>\n",
       "      <th>cluster</th>\n",
       "    </tr>\n",
       "  </thead>\n",
       "  <tbody>\n",
       "    <tr>\n",
       "      <th>0</th>\n",
       "      <td>2024-05-01 15:04:02+00:00</td>\n",
       "      <td>Martin_Gales</td>\n",
       "      <td>hi there</td>\n",
       "      <td>1.714576e+09</td>\n",
       "      <td>0.0</td>\n",
       "      <td>36</td>\n",
       "    </tr>\n",
       "    <tr>\n",
       "      <th>1</th>\n",
       "      <td>2024-05-01 15:04:08+00:00</td>\n",
       "      <td>StreamElements</td>\n",
       "      <td>dorozea is now live! Streaming Just Chatting: ...</td>\n",
       "      <td>1.714576e+09</td>\n",
       "      <td>6.0</td>\n",
       "      <td>36</td>\n",
       "    </tr>\n",
       "    <tr>\n",
       "      <th>2</th>\n",
       "      <td>2024-05-01 15:04:22+00:00</td>\n",
       "      <td>Aloddin</td>\n",
       "      <td>yup</td>\n",
       "      <td>1.714576e+09</td>\n",
       "      <td>20.0</td>\n",
       "      <td>36</td>\n",
       "    </tr>\n",
       "    <tr>\n",
       "      <th>3</th>\n",
       "      <td>2024-05-01 15:04:27+00:00</td>\n",
       "      <td>utaBz</td>\n",
       "      <td>helloo</td>\n",
       "      <td>1.714576e+09</td>\n",
       "      <td>25.0</td>\n",
       "      <td>36</td>\n",
       "    </tr>\n",
       "    <tr>\n",
       "      <th>4</th>\n",
       "      <td>2024-05-01 15:04:28+00:00</td>\n",
       "      <td>Banties1g</td>\n",
       "      <td>Yooo</td>\n",
       "      <td>1.714576e+09</td>\n",
       "      <td>26.0</td>\n",
       "      <td>36</td>\n",
       "    </tr>\n",
       "  </tbody>\n",
       "</table>\n",
       "</div>"
      ],
      "text/plain": [
       "                       date            user  \\\n",
       "0 2024-05-01 15:04:02+00:00    Martin_Gales   \n",
       "1 2024-05-01 15:04:08+00:00  StreamElements   \n",
       "2 2024-05-01 15:04:22+00:00         Aloddin   \n",
       "3 2024-05-01 15:04:27+00:00           utaBz   \n",
       "4 2024-05-01 15:04:28+00:00       Banties1g   \n",
       "\n",
       "                                             message  time_in_number  \\\n",
       "0                                           hi there    1.714576e+09   \n",
       "1  dorozea is now live! Streaming Just Chatting: ...    1.714576e+09   \n",
       "2                                                yup    1.714576e+09   \n",
       "3                                             helloo    1.714576e+09   \n",
       "4                                               Yooo    1.714576e+09   \n",
       "\n",
       "   time_delta  cluster  \n",
       "0         0.0       36  \n",
       "1         6.0       36  \n",
       "2        20.0       36  \n",
       "3        25.0       36  \n",
       "4        26.0       36  "
      ]
     },
     "execution_count": 54,
     "metadata": {},
     "output_type": "execute_result"
    }
   ],
   "source": [
    "combined_df.head(5)"
   ]
  },
  {
   "cell_type": "code",
   "execution_count": 55,
   "metadata": {},
   "outputs": [],
   "source": [
    "combined_df =combined_df.sort_values(by=\"time_delta\")"
   ]
  },
  {
   "cell_type": "code",
   "execution_count": 56,
   "metadata": {},
   "outputs": [],
   "source": [
    "combined_df.to_csv('all_output.csv', index=False)"
   ]
  },
  {
   "cell_type": "code",
   "execution_count": 37,
   "metadata": {},
   "outputs": [
    {
     "data": {
      "text/plain": [
       "array([36,  2, 28, 31,  9, 32, 25, 34, 18,  4, 47, 23, 10, 35, 29,  0, 40,\n",
       "       41, 15,  8, 43, 22, 46, 17,  3, 45, 24, 37, 12, 19, 39,  6, 27, 13,\n",
       "       38, 16, 42,  1, 20, 30,  7, 44, 21, 26, 11,  5, 33, 14])"
      ]
     },
     "execution_count": 37,
     "metadata": {},
     "output_type": "execute_result"
    }
   ],
   "source": [
    "combined_df['cluster'].unique()"
   ]
  },
  {
   "cell_type": "code",
   "execution_count": 57,
   "metadata": {},
   "outputs": [],
   "source": [
    "grouped_df = combined_df.groupby('cluster')\n"
   ]
  },
  {
   "cell_type": "code",
   "execution_count": 58,
   "metadata": {},
   "outputs": [
    {
     "name": "stderr",
     "output_type": "stream",
     "text": [
      "C:\\Users\\Kardo\\AppData\\Local\\Temp\\ipykernel_26524\\1613746375.py:4: DeprecationWarning: DataFrameGroupBy.apply operated on the grouping columns. This behavior is deprecated, and in a future version of pandas the grouping columns will be excluded from the operation. Either pass `include_groups=False` to exclude the groupings or explicitly select the grouping columns after groupby to silence this warning.\n",
      "  min_max_df = grouped_df.apply(get_min_max_rows)\n"
     ]
    },
    {
     "data": {
      "text/html": [
       "<div>\n",
       "<style scoped>\n",
       "    .dataframe tbody tr th:only-of-type {\n",
       "        vertical-align: middle;\n",
       "    }\n",
       "\n",
       "    .dataframe tbody tr th {\n",
       "        vertical-align: top;\n",
       "    }\n",
       "\n",
       "    .dataframe thead th {\n",
       "        text-align: right;\n",
       "    }\n",
       "</style>\n",
       "<table border=\"1\" class=\"dataframe\">\n",
       "  <thead>\n",
       "    <tr style=\"text-align: right;\">\n",
       "      <th></th>\n",
       "      <th>date</th>\n",
       "      <th>user</th>\n",
       "      <th>message</th>\n",
       "      <th>time_in_number</th>\n",
       "      <th>time_delta</th>\n",
       "      <th>cluster</th>\n",
       "    </tr>\n",
       "  </thead>\n",
       "  <tbody>\n",
       "    <tr>\n",
       "      <th>72</th>\n",
       "      <td>2024-05-01 15:04:02+00:00</td>\n",
       "      <td>Martin_Gales</td>\n",
       "      <td>hi there</td>\n",
       "      <td>1.714576e+09</td>\n",
       "      <td>0.0</td>\n",
       "      <td>36</td>\n",
       "    </tr>\n",
       "    <tr>\n",
       "      <th>73</th>\n",
       "      <td>2024-05-01 19:58:59+00:00</td>\n",
       "      <td>n69ky</td>\n",
       "      <td>byeee doro</td>\n",
       "      <td>1.714594e+09</td>\n",
       "      <td>17697.0</td>\n",
       "      <td>36</td>\n",
       "    </tr>\n",
       "    <tr>\n",
       "      <th>4</th>\n",
       "      <td>2024-05-02 14:54:47+00:00</td>\n",
       "      <td>StreamElements</td>\n",
       "      <td>dorozea is now live! Streaming Just Chatting: ...</td>\n",
       "      <td>1.714662e+09</td>\n",
       "      <td>85845.0</td>\n",
       "      <td>2</td>\n",
       "    </tr>\n",
       "    <tr>\n",
       "      <th>5</th>\n",
       "      <td>2024-05-02 19:51:58+00:00</td>\n",
       "      <td>djawedev</td>\n",
       "      <td>cheers</td>\n",
       "      <td>1.714680e+09</td>\n",
       "      <td>103676.0</td>\n",
       "      <td>2</td>\n",
       "    </tr>\n",
       "    <tr>\n",
       "      <th>56</th>\n",
       "      <td>2024-05-03 15:05:42+00:00</td>\n",
       "      <td>Martin_Gales</td>\n",
       "      <td>yo</td>\n",
       "      <td>1.714749e+09</td>\n",
       "      <td>172900.0</td>\n",
       "      <td>28</td>\n",
       "    </tr>\n",
       "    <tr>\n",
       "      <th>57</th>\n",
       "      <td>2024-05-03 20:24:49+00:00</td>\n",
       "      <td>kunmilan99</td>\n",
       "      <td>it was a fun stream, goodnight</td>\n",
       "      <td>1.714768e+09</td>\n",
       "      <td>192047.0</td>\n",
       "      <td>28</td>\n",
       "    </tr>\n",
       "    <tr>\n",
       "      <th>62</th>\n",
       "      <td>2024-05-04 15:06:07+00:00</td>\n",
       "      <td>Martin_Gales</td>\n",
       "      <td>yo</td>\n",
       "      <td>1.714835e+09</td>\n",
       "      <td>259325.0</td>\n",
       "      <td>31</td>\n",
       "    </tr>\n",
       "    <tr>\n",
       "      <th>63</th>\n",
       "      <td>2024-05-04 19:56:58+00:00</td>\n",
       "      <td>whiteknightnipples</td>\n",
       "      <td>Clap</td>\n",
       "      <td>1.714853e+09</td>\n",
       "      <td>276776.0</td>\n",
       "      <td>31</td>\n",
       "    </tr>\n",
       "    <tr>\n",
       "      <th>18</th>\n",
       "      <td>2024-05-05 15:03:35+00:00</td>\n",
       "      <td>Martin_Gales</td>\n",
       "      <td>yo</td>\n",
       "      <td>1.714921e+09</td>\n",
       "      <td>345573.0</td>\n",
       "      <td>9</td>\n",
       "    </tr>\n",
       "    <tr>\n",
       "      <th>19</th>\n",
       "      <td>2024-05-05 20:15:49+00:00</td>\n",
       "      <td>Banties1g</td>\n",
       "      <td>o7</td>\n",
       "      <td>1.714940e+09</td>\n",
       "      <td>364307.0</td>\n",
       "      <td>9</td>\n",
       "    </tr>\n",
       "  </tbody>\n",
       "</table>\n",
       "</div>"
      ],
      "text/plain": [
       "                        date                user  \\\n",
       "72 2024-05-01 15:04:02+00:00        Martin_Gales   \n",
       "73 2024-05-01 19:58:59+00:00               n69ky   \n",
       "4  2024-05-02 14:54:47+00:00      StreamElements   \n",
       "5  2024-05-02 19:51:58+00:00            djawedev   \n",
       "56 2024-05-03 15:05:42+00:00        Martin_Gales   \n",
       "57 2024-05-03 20:24:49+00:00          kunmilan99   \n",
       "62 2024-05-04 15:06:07+00:00        Martin_Gales   \n",
       "63 2024-05-04 19:56:58+00:00  whiteknightnipples   \n",
       "18 2024-05-05 15:03:35+00:00        Martin_Gales   \n",
       "19 2024-05-05 20:15:49+00:00           Banties1g   \n",
       "\n",
       "                                              message  time_in_number  \\\n",
       "72                                           hi there    1.714576e+09   \n",
       "73                                         byeee doro    1.714594e+09   \n",
       "4   dorozea is now live! Streaming Just Chatting: ...    1.714662e+09   \n",
       "5                                              cheers    1.714680e+09   \n",
       "56                                                 yo    1.714749e+09   \n",
       "57                     it was a fun stream, goodnight    1.714768e+09   \n",
       "62                                                 yo    1.714835e+09   \n",
       "63                                               Clap    1.714853e+09   \n",
       "18                                                 yo    1.714921e+09   \n",
       "19                                                 o7    1.714940e+09   \n",
       "\n",
       "    time_delta  cluster  \n",
       "72         0.0       36  \n",
       "73     17697.0       36  \n",
       "4      85845.0        2  \n",
       "5     103676.0        2  \n",
       "56    172900.0       28  \n",
       "57    192047.0       28  \n",
       "62    259325.0       31  \n",
       "63    276776.0       31  \n",
       "18    345573.0        9  \n",
       "19    364307.0        9  "
      ]
     },
     "execution_count": 58,
     "metadata": {},
     "output_type": "execute_result"
    }
   ],
   "source": [
    "def get_min_max_rows(group):\n",
    "    return group.sort_values(by='time_delta', ascending=True).iloc[[0, -1]]\n",
    "\n",
    "min_max_df = grouped_df.apply(get_min_max_rows)\n",
    "\n",
    "min_max_df = min_max_df.reset_index(drop=True)\n",
    "min_max_df = min_max_df.sort_values(by=\"time_delta\")\n",
    "min_max_df.head(10)\n"
   ]
  },
  {
   "cell_type": "code",
   "execution_count": 59,
   "metadata": {},
   "outputs": [],
   "source": [
    "min_max_df.to_csv('start_end.csv', index=False)"
   ]
  }
 ],
 "metadata": {
  "kernelspec": {
   "display_name": "Python 3",
   "language": "python",
   "name": "python3"
  },
  "language_info": {
   "codemirror_mode": {
    "name": "ipython",
    "version": 3
   },
   "file_extension": ".py",
   "mimetype": "text/x-python",
   "name": "python",
   "nbconvert_exporter": "python",
   "pygments_lexer": "ipython3",
   "version": "3.11.9"
  }
 },
 "nbformat": 4,
 "nbformat_minor": 2
}
