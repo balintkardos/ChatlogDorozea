{
 "cells": [
  {
   "cell_type": "code",
   "execution_count": 1,
   "id": "e4c78ebe",
   "metadata": {},
   "outputs": [],
   "source": [
    "import pandas as pd\n",
    "import re\n",
    "import matplotlib.pyplot as plt\n",
    "import seaborn as sns\n",
    "from collections import Counter\n",
    "from collections import defaultdict\n",
    "import numpy as np\n",
    "import pytz\n",
    "import re\n"
   ]
  },
  {
   "cell_type": "code",
   "execution_count": 2,
   "id": "68159f23",
   "metadata": {},
   "outputs": [],
   "source": [
    "# Read the list of filenames from the configuration file\n",
    "with open('file_list.txt', 'r', encoding='utf-8') as config_file:\n",
    "    file_names = config_file.read().splitlines()\n",
    "\n",
    "# Regex pattern to match the data format\n",
    "pattern = r'\\[(.*?)\\] (.*?): (.*)'\n",
    "\n",
    "# Initialize an empty list to store parsed data\n",
    "datalist = []\n",
    "stream_count = 0\n",
    "# Iterate over each specified file\n",
    "for file in file_names:\n",
    "    full_path = \"data\\\\\"+file\n",
    "    with open(full_path, 'r', encoding='utf-8') as f:\n",
    "        lines = f.readlines()\n",
    "        for line in lines:\n",
    "            match = re.match(pattern, line)\n",
    "            if match:\n",
    "                date, user, message = match.groups()\n",
    "                datalist.append([date, user, message,stream_count])\n",
    "    stream_count = stream_count + 1\n",
    "\n",
    "# Create a DataFrame from the parsed data\n",
    "data = pd.DataFrame(datalist, columns=[\"date\", \"user\", \"message\",\"stream\"])"
   ]
  },
  {
   "cell_type": "code",
   "execution_count": 3,
   "id": "ae24691c",
   "metadata": {},
   "outputs": [],
   "source": [
    "data['date'] = pd.to_datetime(data['date'])\n",
    "\n",
    "def convert_utc_to_cet(df, date_column='date'):\n",
    "    \"\"\"\n",
    "    Convert UTC timestamps to Central European Time (CET/CEST) with proper DST handling\n",
    "    \n",
    "    Parameters:\n",
    "    df (pd.DataFrame): DataFrame containing the date column\n",
    "    date_column (str): Name of the column containing UTC timestamps\n",
    "    \n",
    "    Returns:\n",
    "    pd.DataFrame: DataFrame with converted timestamps\n",
    "    \"\"\"\n",
    "    # Make a copy to avoid modifying the original\n",
    "    df = df.copy()\n",
    "    \n",
    "    # Ensure timestamps are UTC aware\n",
    "    if df[date_column].dt.tz is None:\n",
    "        df[date_column] = df[date_column].dt.tz_localize('UTC')\n",
    "    elif df[date_column].dt.tz != pytz.UTC:\n",
    "        df[date_column] = df[date_column].dt.tz_convert('UTC')\n",
    "    \n",
    "    # Convert to CET/CEST (Europe/Berlin includes proper DST handling)\n",
    "    df[date_column] = df[date_column].dt.tz_convert('Europe/Berlin')\n",
    "    \n",
    "    return df\n",
    "\n",
    "data = convert_utc_to_cet(data)"
   ]
  },
  {
   "cell_type": "code",
   "execution_count": 4,
   "id": "cac8ddb3",
   "metadata": {},
   "outputs": [],
   "source": [
    "data[\"user\"] = data[\"user\"].replace(\"Banties1g\", \"banties_x\")\n",
    "data[\"user\"] = data[\"user\"].replace(\"banties1g\", \"banties_x\")\n",
    "data[\"user\"] = data[\"user\"].replace(\"chili_poe\", \"chili_con_bacon\")\n",
    "data[\"user\"] = data[\"user\"].replace(\"CHILI_POE\", \"chili_con_bacon\")\n",
    "data[\"user\"] = data[\"user\"].replace(\"chili_conbacon\", \"chili_con_bacon\")\n",
    "data[\"user\"] = data[\"user\"].replace(\"Wirelesss_\", \"W1r3lesss\")\n",
    "data[\"user\"] = data[\"user\"].replace(\"treklul\", \"trek44_\")\n",
    "data[\"user\"] = data[\"user\"].replace(\"ttrek_\", \"trek44_\")\n",
    "data[\"user\"] = data[\"user\"].replace(\"trek_x\", \"trek44_\")\n",
    "data[\"user\"] = data[\"user\"].replace(\"TriplesingleJ\", \"TripleSingleJames\")\n",
    "data[\"user\"] = data[\"user\"].replace(\"uuccugr\", \"uwu_cougar\")\n",
    "data[\"user\"] = data[\"user\"].replace(\"uuccugr\", \"uuccugr_\")                                  \n",
    "data[\"user\"] = data[\"user\"].replace(\"StanIV4_\", \"stan_iv4\")"
   ]
  },
  {
   "cell_type": "code",
   "execution_count": 5,
   "id": "ade609f2",
   "metadata": {},
   "outputs": [],
   "source": [
    "# Get all unique usernames\n",
    "unique_users = data['user'].unique()\n",
    "\n",
    "# Create a mapping from lowercase username to all variants\n",
    "\n",
    "user_variants = defaultdict(set)\n",
    "for user in unique_users:\n",
    "    user_variants[user.lower()].add(user)\n",
    "\n",
    "# Find usernames with different capitalization\n",
    "duplicate_users = {k: v for k, v in user_variants.items() if len(v) > 1}"
   ]
  },
  {
   "cell_type": "code",
   "execution_count": 6,
   "id": "d632485c",
   "metadata": {},
   "outputs": [],
   "source": [
    "# Create a mapping from all variants to the canonical (sorted first) variant\n",
    "variant_map = {}\n",
    "for variants in duplicate_users.values():\n",
    "    sorted_variants = sorted(variants)\n",
    "    canonical = sorted_variants[0]\n",
    "    for v in variants:\n",
    "        variant_map[v] = canonical\n",
    "\n",
    "# Replace usernames in 'user' column\n",
    "data['user'] = data['user'].apply(lambda u: variant_map.get(u, u))"
   ]
  },
  {
   "cell_type": "code",
   "execution_count": null,
   "id": "50b6bb25",
   "metadata": {},
   "outputs": [],
   "source": [
    "mod_start = {\n",
    "    \"Substen\": \"2022-07-11 19:00:00\",\n",
    "    \"StreamElements\": \"2023-07-17 00:00:00\",\n",
    "    \"banties_x\": \"2023-07-17 00:00:00\",\n",
    "    \"Aloddin\": \"2023-08-13 00:00:00\",\n",
    "    \"Martin_Gales\": \"2023-10-24 00:00:00\",\n",
    "    \"Nigthbot\": \"2024-02-27 00:00:00\",\n",
    "    \"klimzaa\": \"2024-04-08 00:00:00\",\n",
    "    \"IvanOnMyOwn\": \"2024-04-08 00:00:00\",\n",
    "    \"Ivana_10\": \"2024-04-08 00:00:00\",\n",
    "    \"balintboss\": \"2024-04-08 00:00:00\",\n",
    "    \"Ravenbtw\": \"2024-04-08 00:00:00\",\n",
    "    \"gkey\": \"2024-06-22 23:01:00\",\n",
    "    \"07moki\": \"2024-06-22 23:01:00\",\n",
    "    \"Fossabot\": \"2024-07-25 20:52:00\",\n",
    "    \"Hueqi\": \"2024-06-22 23:02:00\",\n",
    "    \"Aluminiumminimumimmunity\": \"2024-04-08 19:41:00\",\n",
    "    \"Roonss\": \"2024-08-26 00:00:00\",\n",
    "    \"1206paul_\": \"2023-12-10 00:00:00\",\n",
    "    \"55Dash\": \"2025-01-14 16:31:00\",\n",
    "    \"dima_wallhacks\": \"2025-03-05 14:40:00\",\n",
    "    \"lovcen\": \"2025-05-25 19:19:00\",\n",
    "    \"Trizze\": \"2025-05-26 14:46:00\",\n",
    "    \"shogalul\": \"2025-08-11 17:01:00\"\n",
    "}"
   ]
  }
 ],
 "metadata": {
  "kernelspec": {
   "display_name": "Python 3",
   "language": "python",
   "name": "python3"
  },
  "language_info": {
   "codemirror_mode": {
    "name": "ipython",
    "version": 3
   },
   "file_extension": ".py",
   "mimetype": "text/x-python",
   "name": "python",
   "nbconvert_exporter": "python",
   "pygments_lexer": "ipython3",
   "version": "3.11.9"
  }
 },
 "nbformat": 4,
 "nbformat_minor": 5
}
