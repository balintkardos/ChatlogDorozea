{
 "cells": [
  {
   "cell_type": "code",
   "execution_count": 2,
   "metadata": {},
   "outputs": [],
   "source": [
    "import pandas as pd\n",
    "import re\n",
    "import matplotlib.pyplot as plt\n",
    "\n",
    "# Function to parse each line\n",
    "def parse_line(line):\n",
    "    match = re.match(r'\\[(.*?)\\] (.*?): (.*)', line)\n",
    "    if match:\n",
    "        timestamp, username, message = match.groups()\n",
    "        return timestamp, username, message\n",
    "    return None\n",
    "\n",
    "# Read the file with UTF-8 encoding\n",
    "with open('gkey.txt', 'r', encoding='utf-8') as file:\n",
    "    lines = file.readlines()\n",
    "\n",
    "# Parse the lines\n",
    "data = [parse_line(line) for line in lines if parse_line(line) is not None]\n",
    "\n",
    "# Create a DataFrame\n",
    "df = pd.DataFrame(data, columns=['Timestamp', 'Username', 'Message'])\n"
   ]
  },
  {
   "cell_type": "code",
   "execution_count": 2,
   "metadata": {},
   "outputs": [
    {
     "data": {
      "text/html": [
       "<div>\n",
       "<style scoped>\n",
       "    .dataframe tbody tr th:only-of-type {\n",
       "        vertical-align: middle;\n",
       "    }\n",
       "\n",
       "    .dataframe tbody tr th {\n",
       "        vertical-align: top;\n",
       "    }\n",
       "\n",
       "    .dataframe thead th {\n",
       "        text-align: right;\n",
       "    }\n",
       "</style>\n",
       "<table border=\"1\" class=\"dataframe\">\n",
       "  <thead>\n",
       "    <tr style=\"text-align: right;\">\n",
       "      <th></th>\n",
       "      <th>Timestamp</th>\n",
       "      <th>Username</th>\n",
       "      <th>Message</th>\n",
       "    </tr>\n",
       "  </thead>\n",
       "  <tbody>\n",
       "    <tr>\n",
       "      <th>0</th>\n",
       "      <td>2024-05-18 08:00:18 UTC</td>\n",
       "      <td>Nikolech</td>\n",
       "      <td>!drops</td>\n",
       "    </tr>\n",
       "    <tr>\n",
       "      <th>1</th>\n",
       "      <td>2024-05-18 08:00:24 UTC</td>\n",
       "      <td>prof_onix5920</td>\n",
       "      <td>Yoo</td>\n",
       "    </tr>\n",
       "    <tr>\n",
       "      <th>2</th>\n",
       "      <td>2024-05-18 08:00:24 UTC</td>\n",
       "      <td>realdutchcasnew</td>\n",
       "      <td>hi</td>\n",
       "    </tr>\n",
       "    <tr>\n",
       "      <th>3</th>\n",
       "      <td>2024-05-18 08:00:25 UTC</td>\n",
       "      <td>Nikolech</td>\n",
       "      <td>yo</td>\n",
       "    </tr>\n",
       "    <tr>\n",
       "      <th>4</th>\n",
       "      <td>2024-05-18 08:00:25 UTC</td>\n",
       "      <td>andrea4V</td>\n",
       "      <td>hiWide yo yo yo</td>\n",
       "    </tr>\n",
       "    <tr>\n",
       "      <th>5</th>\n",
       "      <td>2024-05-18 08:00:27 UTC</td>\n",
       "      <td>realdutchcasnew</td>\n",
       "      <td>!drops</td>\n",
       "    </tr>\n",
       "    <tr>\n",
       "      <th>6</th>\n",
       "      <td>2024-05-18 08:00:28 UTC</td>\n",
       "      <td>omg_momentos</td>\n",
       "      <td>Yo</td>\n",
       "    </tr>\n",
       "    <tr>\n",
       "      <th>7</th>\n",
       "      <td>2024-05-18 08:00:48 UTC</td>\n",
       "      <td>xowver</td>\n",
       "      <td>hi</td>\n",
       "    </tr>\n",
       "    <tr>\n",
       "      <th>8</th>\n",
       "      <td>2024-05-18 08:00:48 UTC</td>\n",
       "      <td>Nikolech</td>\n",
       "      <td>weekend and drops combo chat NAUR</td>\n",
       "    </tr>\n",
       "    <tr>\n",
       "      <th>9</th>\n",
       "      <td>2024-05-18 08:00:56 UTC</td>\n",
       "      <td>winkelkar6</td>\n",
       "      <td>winkelkar6 subscribed at Tier 1. They've subsc...</td>\n",
       "    </tr>\n",
       "  </tbody>\n",
       "</table>\n",
       "</div>"
      ],
      "text/plain": [
       "                 Timestamp         Username  \\\n",
       "0  2024-05-18 08:00:18 UTC         Nikolech   \n",
       "1  2024-05-18 08:00:24 UTC    prof_onix5920   \n",
       "2  2024-05-18 08:00:24 UTC  realdutchcasnew   \n",
       "3  2024-05-18 08:00:25 UTC         Nikolech   \n",
       "4  2024-05-18 08:00:25 UTC         andrea4V   \n",
       "5  2024-05-18 08:00:27 UTC  realdutchcasnew   \n",
       "6  2024-05-18 08:00:28 UTC     omg_momentos   \n",
       "7  2024-05-18 08:00:48 UTC           xowver   \n",
       "8  2024-05-18 08:00:48 UTC         Nikolech   \n",
       "9  2024-05-18 08:00:56 UTC       winkelkar6   \n",
       "\n",
       "                                             Message  \n",
       "0                                             !drops  \n",
       "1                                                Yoo  \n",
       "2                                                 hi  \n",
       "3                                                 yo  \n",
       "4                                    hiWide yo yo yo  \n",
       "5                                             !drops  \n",
       "6                                                 Yo  \n",
       "7                                                 hi  \n",
       "8                  weekend and drops combo chat NAUR  \n",
       "9  winkelkar6 subscribed at Tier 1. They've subsc...  "
      ]
     },
     "execution_count": 2,
     "metadata": {},
     "output_type": "execute_result"
    }
   ],
   "source": [
    "\n",
    "df.head(10)"
   ]
  },
  {
   "cell_type": "code",
   "execution_count": 3,
   "metadata": {},
   "outputs": [
    {
     "name": "stdout",
     "output_type": "stream",
     "text": [
      "The user who sent the most messages is 'Fossabot' with 973 messages.\n"
     ]
    }
   ],
   "source": [
    "message_counts = df['Username'].value_counts()\n",
    "\n",
    "# Get the user who sent the most messages\n",
    "top_user = message_counts.idxmax()\n",
    "top_user_message_count = message_counts.max()\n",
    "\n",
    "print(f\"The user who sent the most messages is '{top_user}' with {top_user_message_count} messages.\")"
   ]
  },
  {
   "cell_type": "code",
   "execution_count": 4,
   "metadata": {},
   "outputs": [
    {
     "data": {
      "text/plain": [
       "Username\n",
       "Fossabot            973\n",
       "lIfEcOulDbEaoHIo    235\n",
       "dinsorsoos          232\n",
       "sevowaaav           186\n",
       "MicsQuadm           178\n",
       "thebigdogjay        175\n",
       "pepega00000         170\n",
       "supperclip          161\n",
       "Typhu25             149\n",
       "Sharcq              145\n",
       "HiddenMist7         145\n",
       "andrea4V            134\n",
       "Hueqi               133\n",
       "bagzzie             113\n",
       "balintboss          112\n",
       "copynutz            111\n",
       "goidsoul_           106\n",
       "Banties1g           104\n",
       "dxvidm               92\n",
       "camfirestorm         82\n",
       "wuh256               79\n",
       "Name: count, dtype: int64"
      ]
     },
     "execution_count": 4,
     "metadata": {},
     "output_type": "execute_result"
    }
   ],
   "source": [
    "message_counts.head(21)"
   ]
  },
  {
   "cell_type": "code",
   "execution_count": 5,
   "metadata": {},
   "outputs": [
    {
     "data": {
      "text/plain": [
       "Message\n",
       "!watchtime                                                      10952\n",
       "!claim                                                           6161\n",
       "!drops                                                           3385\n",
       "!drop                                                            3231\n",
       "Minecraft                                                         824\n",
       "minecraft                                                         435\n",
       "!redeem                                                           275\n",
       "!minecraft                                                        249\n",
       "!time                                                             225\n",
       "hi                                                                218\n",
       "!cape                                                             160\n",
       "buh                                                               148\n",
       "TWEAK                                                             141\n",
       "Latest world tour (10,000 days) https://youtu.be/6kTd1zhL4dg      121\n",
       "hello                                                             108\n",
       "!Minecraft                                                        108\n",
       "!minecraftcape                                                    108\n",
       "MINECRAFT                                                         105\n",
       "! watchtime                                                       103\n",
       "!Claim                                                             94\n",
       "Name: count, dtype: int64"
      ]
     },
     "execution_count": 5,
     "metadata": {},
     "output_type": "execute_result"
    }
   ],
   "source": [
    "Umessage_counts = df['Message'].value_counts()\n",
    "Umessage_counts.head(20)\n"
   ]
  },
  {
   "cell_type": "code",
   "execution_count": 10,
   "metadata": {},
   "outputs": [
    {
     "name": "stdout",
     "output_type": "stream",
     "text": [
      "Total number of messages: 46574\n",
      "Number of unique users: 11963\n",
      "Average number of messages per user: 3.89\n"
     ]
    }
   ],
   "source": [
    "# Count the total number of messages\n",
    "total_messages = df.shape[0]\n",
    "\n",
    "# Count the number of unique users\n",
    "unique_users = df['Username'].nunique()\n",
    "\n",
    "# Calculate the average number of messages per user\n",
    "average_messages_per_user = total_messages / unique_users\n",
    "\n",
    "print(f\"Total number of messages: {total_messages}\")\n",
    "print(f\"Number of unique users: {unique_users}\")\n",
    "print(f\"Average number of messages per user: {average_messages_per_user:.2f}\")"
   ]
  },
  {
   "cell_type": "code",
   "execution_count": 11,
   "metadata": {},
   "outputs": [
    {
     "name": "stdout",
     "output_type": "stream",
     "text": [
      "The user who sent the most '!drops' messages is 'kietgaming909' with 21 messages.\n"
     ]
    }
   ],
   "source": [
    "# Filter for messages containing '!drops'\n",
    "drops_messages = df[df['Message'] == '!drops']\n",
    "\n",
    "# Count the number of '!drops' messages per user\n",
    "drops_message_counts = drops_messages['Username'].value_counts()\n",
    "\n",
    "# Get the user who sent the most '!drops' messages\n",
    "top_drops_user = drops_message_counts.idxmax()\n",
    "top_drops_user_count = drops_message_counts.max()\n",
    "\n",
    "print(f\"The user who sent the most '!drops' messages is '{top_drops_user}' with {top_drops_user_count} messages.\")"
   ]
  },
  {
   "cell_type": "code",
   "execution_count": 6,
   "metadata": {},
   "outputs": [
    {
     "name": "stdout",
     "output_type": "stream",
     "text": [
      "The user who sent the most '!watchtime' messages is 'yamanagi_lucky' with 17 messages.\n"
     ]
    }
   ],
   "source": [
    "# Filter for messages containing '!drops'\n",
    "drops_messages = df[df['Message'] == '!watchtime']\n",
    "\n",
    "# Count the number of '!drops' messages per user\n",
    "drops_message_counts = drops_messages['Username'].value_counts()\n",
    "\n",
    "# Get the user who sent the most '!drops' messages\n",
    "top_drops_user = drops_message_counts.idxmax()\n",
    "top_drops_user_count = drops_message_counts.max()\n",
    "\n",
    "print(f\"The user who sent the most '!watchtime' messages is '{top_drops_user}' with {top_drops_user_count} messages.\")"
   ]
  },
  {
   "cell_type": "code",
   "execution_count": 7,
   "metadata": {},
   "outputs": [
    {
     "name": "stdout",
     "output_type": "stream",
     "text": [
      "The user who sent the most '!claim' messages is 'kietgaming909' with 20 messages.\n"
     ]
    }
   ],
   "source": [
    "# Filter for messages containing '!drops'\n",
    "drops_messages = df[df['Message'] == '!claim']\n",
    "\n",
    "# Count the number of '!drops' messages per user\n",
    "drops_message_counts = drops_messages['Username'].value_counts()\n",
    "\n",
    "# Get the user who sent the most '!drops' messages\n",
    "top_drops_user = drops_message_counts.idxmax()\n",
    "top_drops_user_count = drops_message_counts.max()\n",
    "\n",
    "print(f\"The user who sent the most '!claim' messages is '{top_drops_user}' with {top_drops_user_count} messages.\")"
   ]
  },
  {
   "cell_type": "code",
   "execution_count": 8,
   "metadata": {},
   "outputs": [
    {
     "data": {
      "text/html": [
       "<div>\n",
       "<style scoped>\n",
       "    .dataframe tbody tr th:only-of-type {\n",
       "        vertical-align: middle;\n",
       "    }\n",
       "\n",
       "    .dataframe tbody tr th {\n",
       "        vertical-align: top;\n",
       "    }\n",
       "\n",
       "    .dataframe thead th {\n",
       "        text-align: right;\n",
       "    }\n",
       "</style>\n",
       "<table border=\"1\" class=\"dataframe\">\n",
       "  <thead>\n",
       "    <tr style=\"text-align: right;\">\n",
       "      <th></th>\n",
       "      <th>Timestamp</th>\n",
       "      <th>Username</th>\n",
       "      <th>Message</th>\n",
       "    </tr>\n",
       "  </thead>\n",
       "  <tbody>\n",
       "    <tr>\n",
       "      <th>18603</th>\n",
       "      <td>2024-05-18 10:13:27 UTC</td>\n",
       "      <td>balintboss</td>\n",
       "      <td>https://vm.tiktok.com/ZGeXY9mNj/</td>\n",
       "    </tr>\n",
       "    <tr>\n",
       "      <th>18652</th>\n",
       "      <td>2024-05-18 10:13:47 UTC</td>\n",
       "      <td>balintboss</td>\n",
       "      <td>!drops</td>\n",
       "    </tr>\n",
       "    <tr>\n",
       "      <th>18724</th>\n",
       "      <td>2024-05-18 10:14:16 UTC</td>\n",
       "      <td>balintboss</td>\n",
       "      <td>https://vm.tiktok.com/ZGeXY9mNj/</td>\n",
       "    </tr>\n",
       "    <tr>\n",
       "      <th>18743</th>\n",
       "      <td>2024-05-18 10:14:22 UTC</td>\n",
       "      <td>balintboss</td>\n",
       "      <td>buh</td>\n",
       "    </tr>\n",
       "    <tr>\n",
       "      <th>18842</th>\n",
       "      <td>2024-05-18 10:15:00 UTC</td>\n",
       "      <td>balintboss</td>\n",
       "      <td>I love this chat PotFriend it's my prime time ...</td>\n",
       "    </tr>\n",
       "    <tr>\n",
       "      <th>...</th>\n",
       "      <td>...</td>\n",
       "      <td>...</td>\n",
       "      <td>...</td>\n",
       "    </tr>\n",
       "    <tr>\n",
       "      <th>45190</th>\n",
       "      <td>2024-05-18 16:49:06 UTC</td>\n",
       "      <td>balintboss</td>\n",
       "      <td>!claim</td>\n",
       "    </tr>\n",
       "    <tr>\n",
       "      <th>45192</th>\n",
       "      <td>2024-05-18 16:49:12 UTC</td>\n",
       "      <td>balintboss</td>\n",
       "      <td>!watchtime</td>\n",
       "    </tr>\n",
       "    <tr>\n",
       "      <th>45241</th>\n",
       "      <td>2024-05-18 16:52:47 UTC</td>\n",
       "      <td>balintboss</td>\n",
       "      <td>!claim</td>\n",
       "    </tr>\n",
       "    <tr>\n",
       "      <th>45249</th>\n",
       "      <td>2024-05-18 16:53:26 UTC</td>\n",
       "      <td>balintboss</td>\n",
       "      <td>you already did I was here when you was 2.8k g...</td>\n",
       "    </tr>\n",
       "    <tr>\n",
       "      <th>45595</th>\n",
       "      <td>2024-05-18 17:11:46 UTC</td>\n",
       "      <td>balintboss</td>\n",
       "      <td>!drops</td>\n",
       "    </tr>\n",
       "  </tbody>\n",
       "</table>\n",
       "<p>112 rows × 3 columns</p>\n",
       "</div>"
      ],
      "text/plain": [
       "                     Timestamp    Username  \\\n",
       "18603  2024-05-18 10:13:27 UTC  balintboss   \n",
       "18652  2024-05-18 10:13:47 UTC  balintboss   \n",
       "18724  2024-05-18 10:14:16 UTC  balintboss   \n",
       "18743  2024-05-18 10:14:22 UTC  balintboss   \n",
       "18842  2024-05-18 10:15:00 UTC  balintboss   \n",
       "...                        ...         ...   \n",
       "45190  2024-05-18 16:49:06 UTC  balintboss   \n",
       "45192  2024-05-18 16:49:12 UTC  balintboss   \n",
       "45241  2024-05-18 16:52:47 UTC  balintboss   \n",
       "45249  2024-05-18 16:53:26 UTC  balintboss   \n",
       "45595  2024-05-18 17:11:46 UTC  balintboss   \n",
       "\n",
       "                                                 Message  \n",
       "18603                   https://vm.tiktok.com/ZGeXY9mNj/  \n",
       "18652                                             !drops  \n",
       "18724                   https://vm.tiktok.com/ZGeXY9mNj/  \n",
       "18743                                                buh  \n",
       "18842  I love this chat PotFriend it's my prime time ...  \n",
       "...                                                  ...  \n",
       "45190                                             !claim  \n",
       "45192                                         !watchtime  \n",
       "45241                                             !claim  \n",
       "45249  you already did I was here when you was 2.8k g...  \n",
       "45595                                             !drops  \n",
       "\n",
       "[112 rows x 3 columns]"
      ]
     },
     "execution_count": 8,
     "metadata": {},
     "output_type": "execute_result"
    }
   ],
   "source": [
    "drops_messages = df[df['Username'] == 'balintboss']\n",
    "\n",
    "drops_messages"
   ]
  },
  {
   "cell_type": "code",
   "execution_count": 9,
   "metadata": {},
   "outputs": [
    {
     "name": "stdout",
     "output_type": "stream",
     "text": [
      "The standard deviation of the number of messages sent by each user is 11.66\n"
     ]
    }
   ],
   "source": [
    "message_counts = df['Username'].value_counts()\n",
    "\n",
    "# Calculate the standard deviation of the message counts\n",
    "std_dev = message_counts.std()\n",
    "\n",
    "print(f\"The standard deviation of the number of messages sent by each user is {std_dev:.2f}\")"
   ]
  },
  {
   "cell_type": "code",
   "execution_count": 3,
   "metadata": {},
   "outputs": [
    {
     "data": {
      "image/png": "[encoded data removed]",
      "text/plain": [
       "<Figure size 1000x600 with 1 Axes>"
      ]
     },
     "metadata": {},
     "output_type": "display_data"
    }
   ],
   "source": [
    "# Count the number of messages per user\n",
    "message_counts = df['Username'].value_counts()\n",
    "\n",
    "# Create the box plot\n",
    "plt.figure(figsize=(10, 6))\n",
    "plt.boxplot(message_counts)\n",
    "plt.title('Box Plot of Number of Messages Sent by Each User')\n",
    "plt.ylabel('Number of Messages')\n",
    "plt.xticks([1], ['Users'])\n",
    "plt.show()"
   ]
  }
 ],
 "metadata": {
  "kernelspec": {
   "display_name": "Python 3",
   "language": "python",
   "name": "python3"
  },
  "language_info": {
   "codemirror_mode": {
    "name": "ipython",
    "version": 3
   },
   "file_extension": ".py",
   "mimetype": "text/x-python",
   "name": "python",
   "nbconvert_exporter": "python",
   "pygments_lexer": "ipython3",
   "version": "3.11.9"
  }
 },
 "nbformat": 4,
 "nbformat_minor": 2
}
