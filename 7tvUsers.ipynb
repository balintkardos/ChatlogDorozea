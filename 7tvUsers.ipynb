{
 "cells": [
  {
   "cell_type": "code",
   "execution_count": 1,
   "metadata": {},
   "outputs": [],
   "source": [
    "import pandas as pd\n",
    "import re"
   ]
  },
  {
   "cell_type": "code",
   "execution_count": 2,
   "metadata": {},
   "outputs": [],
   "source": [
    "tv7 = \"Clown Explosion hackingCD MathTime MoneyRain PokiShare TakingNotes :0 :33 !boost +1 1DLove 3Head 3Heading 4Weird 5Head Acknowledged ACTINUP ADHD AIM AIWITHTHEBRAIDS Alfred AlienDance AlienPls AlienPls3 Aloo amongE ANGRE ANOTHERONE AREYOUAGIRL arnoldHalt AWOO axelF barack Based BASED batPls Beatles Bedge BEGGING Belling BHOP BigD Bloons BOOBA BOOMIES Borfday BORGIR brbToilet Broadcaster BRUHMM BUSSERS BUSSIN catAsk catBusiness catDespair catJAM catPls catSmash CatTime catTwerk Caught CaughtIn4K CHADDING Chillin Clap CLEAN CLIPPERS CLOWNDETECTED COCKA cokeBreak COMEHERE CoolMonkey COPIUM crabPls Cuck Cuh Cyat Dave deadassFaint Delusional DemonTiming Dime DinkDonk docAwaken DOCBOZO docnotL doggoSlava dogJAM DogLookingWickedAndCool donowall doroCD DoroCheer doroFiddy doroFlex doroGHOST doroHEAD doroJAM doroL doroMAD DOUBTERS DRAIN Drake DrDisrespect drooling duaKiss dudWhat emo emo2 FeelsTiredMan FeelsWowMan FellOff fembajJAM FiddyWtf FLASHBANG Flirt flowerr Flushed forsenCD forsenLaughingAtYou FUNNY gachiHYPER GAMBA GAMING GIGACHAD GIGACHAIR glizzyoverdrive GODDID Gogging GotEEM gothKiss gPls GuitarTime HABIBI HACKERMANS HaltEinfachDeineFresseDuHurensohn HandsUp happi HARAM Headbang HeDisconnected HEHE Heisenberj heyywithrizz HEYYY Hmm HOBBY HOLY homelessPOV HUH ICANT IFISPEAK Ignored IMAGINENOTHAVING7TVGETFUCKEDNON7TVUSERSIMAGINENOTHAVING7TVGETFUCKEDNON7TVUSERSIMAGINENOTHAVING7TVGET ISeeYou itsover Jackass Jay JESSE joever john JokerHAHA JokerLaugh JumpScared JustAnotherDay justinbieber KanyeStare KENOUGH KKalinka KKonaW KKool Lamonting lebronJAM LetsBingo LETSGO Life Lithuanian LittleTrolling Loading Looking LULW lurkk Madge MAJ ManchesterUnited MicTime Modding mods Mog monakS monkaTOS monkaW MONKE monkeySip muted MYHEARTILOVEDHER NAHH NAHHH NAHHHH NAILS NAILSING NAUR Nerd NODDERS NOIDONTTHINKSO NoMaidens NOOOOO Noppers NOSHOT notxqcL NOW nt ohhh ohneFinger ohno ok OLDWORK omEE OMEGALUL omeStare OnMyWayToDoroMomHouse OOOO oopsie OuttaPocket OverwhelminglyWholesome owoCheer PagBounce PagChomp PagMan parasocial PARASOCIAL PEEPEES peepoClap peepoComfy peepoDJ peepoEvil peepoFat peepoHey peepoKiss peepoLeave peepoLegs peepoMarch peepoPride peepoShy peepoSmile peepoTalk pepeAgony Pepega PepegaAim PepegaChat pepeGun PepeHands pepePoint pepeW PepoG Pffttt pickle Pipege pL PogU pokiFlirt PotFriendDance POVbornbefore2000 ppHop ppOverheat Prayge RAHH RaveDance RaveTime Reacting RememberTheDays RIPBOZO RIRI Rizzler ROFL RussiaPls ryanArrive Sadding SAJ SCAMMED Scared SCHIZO SCHTOP SEXO Shits Sippin sisyphus Smile Smoge SNIFFA spfLEAN:()wiltee_()tonyhawkproskater4:-:-:_FREEWAVE3-encinoman--:enteringwalmart:-wheezethelean-123 spongePls squadHips Staring STREAMER SurE susDog SUSSY Swag TeamEDWARD TheVoices TheWolfInMe Thinking THINKING Thinking2 TIMEOUT Tomfoolery totallylistening TriKool TriSad TRIVSsorry TRUEING Tuckge TWEAK UGH unmod uwu vibePls VibePls VIEWERS WAHHH WAIT Waiting WaitingForLove WAITWAITWAIT WAJAJA WeDoNotCare weirdChamp WELSH WePaid wig WW xar2EDM xd xqcBOZO xqcDespair xqcFuel xqcGoofy xqcTake xqcTwerk YANITED YAPPING YIPIEE Yoink YOOLOOKATTHISCATDOINITSLILDANCYDANCEINTOABREAKDANCEMOVE Yooo YOOOLOOKATTHISCOCKWITHDADRIPSHII ZhongXina :tf: 1984 1Directioning AINTNOWAY AreYouSeriousRightNeow Aware BANGER Banties barryArrive BatChestAbove BELIEVERS bieberDougie bog bruv buh CatCozy chilling classic Dentge despair DespairRyan Devious Devious Doc1v1 DRAMA EdwardStare Evilge fadedthanaho FARMING Fiddy fortnite GAGAGA gamily gigl girlBoss GivenUp gkitten HarryStylesKiss HELLO hesRight hi ImNotOk itstime LETHERCOOK LETSFUCKINGJOE LiterallyMe LOCKIN MARIO Martin matSad Memories mhm ModAbuse MVP niceguy nonono o7 OHMYGAWDD okak omE OMEGALULiguess owoshy peepoBelievers peepoDoubters peepoGiggles peepoHug peepoLove peepoLove peepoStop pepeJAM pKitten Plotge Pointless poroPls PRIMERS PTSD RAGEY ratio ReallyMad Reddit RiddleMeThis Sadge SADge SAVEME Shruge silliness Sits SLAY sotruebestie SOYSCREAM Stare StreamEnding Susge ThePaulers UltraMad VALORANT VeryPog wallE WatchingStream WeAreLive WHAT WHOAAA WHOLETHERCOOK WHOLETHERSLAY WICKED WOT wrapitup Xd xJAM xqcSlam YEP YouWouldntGetIt zyzzBass !play AAAAAAAAUHGGH AREYOUAGIRLFtxQcYellingAtYou ayo brb CAUGHT chatters CS2 damily DeathIncoming DIESOFCRINGE dimacut Dorozea EDITING Enough FINALLY firsttimebuh FirstTimeChadder FirstTimeChatter GameplayTime gettingjiggywithit gg GotCaughtCheating GotCaughtTrolling GREEDY GRRR HowDoWeTellHim iAsked ImtiredBoss INTENSEGAMING KEKW KeyShaker lebronArrive LieMeter Listening LOL LookUp luton MarblesTime me: MeRN MONKA MyExistenceIsNothingButAGrainOfSandComparedToTheEntireScaleOfTheUniverse MYLIFE noonecares notListening NOWAYING Ohh OVERWATCH paul Peace popipopipipopipo raid RightThere SNACKING STREAMERSGIVINGTHEWORSTFUCKINGTAKESINEXISTENCE THIS TITANHOLO unemployment uuh VeryKey vibeeparty Voices Waddup waiting walterShocked WalterVibe War WHATAFUCKEDUPDAY Whenyourinnerwolfreleases WhoAsked WideHUH xqcL YouGotMe zyzzJAM PokiShareW WIDEALERT WideRaveTime !join !lurk !unfollow Adge ads ahmadmuhsin BantiesPaulBeef BINGO bye Cinema doroBiceps DoroTalkingAgain GoodTake HAH hiii iDrive imback IMGOINGINSANEANDCOMPLETELYLOSINGITAAAAAAAAAAAHHHHHHH jacob1 jacob2 jacob3 jacob4 Joel LastTimeChatter NAvsEU NOCHECKMARKS NOHORNY ome32 ome5 OMEYES OMFG OneGuy ONEMORE OVERWORKING paidchatter peepoAds peepoRiot phpk plink-182 plinkVibe plonk RealForsen StoryTime ThisChat TriJam wideduckass WideHardo WidelebronJAM widemonkaGIGAftRobertDowneyJr WidezyzzPls xqc32 xQcVeryWide YOUDIED\"\n",
    "word_list = tv7.split(' ')"
   ]
  },
  {
   "cell_type": "code",
   "execution_count": 3,
   "metadata": {},
   "outputs": [],
   "source": [
    "file_names = [\n",
    "    \"[5-1-24].txt\",\n",
    "    \"[5-2-24].txt\", \n",
    "    \"[5-3-24].txt\", \n",
    "    \"[5-4-24].txt\", \n",
    "    \"[5-5-24].txt\",\n",
    "    \"[5-6-24].txt\", \n",
    "    \"[5-7-24].txt\", \n",
    "    \"[5-9-24].txt\", \n",
    "    \"[5-10-24].txt\", \n",
    "    \"[5-11-24].txt\",\n",
    "    \"[5-12-24].txt\",\n",
    "    \"[5-13-24].txt\",\n",
    "    \"[5-15-24].txt\",\n",
    "    \"[5-16-24].txt\",\n",
    "    \"[5-17-24].txt\",\n",
    "    \"[5-18-24].txt\",\n",
    "    \"[5-19-24].txt\",\n",
    "    \"[5-21-24].txt\",\n",
    "    \"[5-22-24].txt\",\n",
    "    \"[5-23-24].txt\",\n",
    "    \"[5-24-24].txt\",\n",
    "    \"[5-25-24].txt\",\n",
    "    \"[5-26-24].txt\",\n",
    "    \"[5-27-24].txt\",\n",
    "    \"[5-28-24].txt\",\n",
    "    \"[5-29-24].txt\",\n",
    "    \"[5-30-24].txt\",\n",
    "    \"[5-31-24].txt\",\n",
    "    \"[6-2-24].txt\",\n",
    "    \"[6-2-24]_2.txt\",\n",
    "    \"[6-3-24].txt\",\n",
    "    \"[6-4-24].txt\",\n",
    "    \"[6-5-24].txt\",\n",
    "    \"[6-6-24].txt\",\n",
    "    \"[6-7-24].txt\",\n",
    "    \"[6-9-24].txt\",\n",
    "    \"[6-10-24].txt\",\n",
    "    \"[6-11-24].txt\",\n",
    "    \"[6-12-24].txt\",\n",
    "    \"[6-13-24].txt\",\n",
    "    \"[6-14-24].txt\",\n",
    "    \"[6-15-24].txt\",\n",
    "    \"[6-16-24].txt\",\n",
    "    \"[6-17-24].txt\",\n",
    "    \"[6-18-24].txt\",\n",
    "    \"[6-20-24].txt\",\n",
    "    \"[6-22-24].txt\",\n",
    "    \"[6-23-24].txt\",\n",
    "    \"[6-24-24].txt\",\n",
    "    \"[6-25-24].txt\"\n",
    "]\n",
    "\n",
    "# Regex pattern to match the data format\n",
    "pattern = r'\\[(.*?)\\] (.*?): (.*)'\n",
    "\n",
    "\n",
    "# Initialize an empty list to store parsed data\n",
    "datalist = []\n",
    "stream_count = 0\n",
    "# Iterate over each specified file\n",
    "for file in file_names:\n",
    "    full_path = file\n",
    "    with open(full_path, 'r', encoding='utf-8') as f:\n",
    "        lines = f.readlines()\n",
    "        for line in lines:\n",
    "            match = re.match(pattern, line)\n",
    "            if match:\n",
    "                date, user, message = match.groups()\n",
    "                datalist.append([date, user, message,stream_count])\n",
    "    stream_count = stream_count + 1\n",
    "\n",
    "# Create a DataFrame from the parsed data\n",
    "data = pd.DataFrame(datalist, columns=[\"date\", \"user\", \"message\",\"stream\"])"
   ]
  },
  {
   "cell_type": "code",
   "execution_count": 4,
   "metadata": {},
   "outputs": [],
   "source": [
    "# Function to check if any of the words are in the message\n",
    "def contains_word(message, word_list):\n",
    "    return any(word in message for word in word_list)"
   ]
  },
  {
   "cell_type": "code",
   "execution_count": 5,
   "metadata": {},
   "outputs": [],
   "source": [
    "# Filter the DataFrame\n",
    "filtered_data = data[data['message'].apply(lambda x: contains_word(x, word_list))]\n",
    "\n",
    "# Extract list of users who used these words\n",
    "users = filtered_data['user'].unique()"
   ]
  },
  {
   "cell_type": "code",
   "execution_count": 6,
   "metadata": {},
   "outputs": [
    {
     "name": "stdout",
     "output_type": "stream",
     "text": [
      "List of users len who used the specified words: 2560\n",
      "All users: 3908\n",
      "% use it: 65.51\n"
     ]
    }
   ],
   "source": [
    "tvUsers_len = len(users)\n",
    "allUsers_len = len(data['user'].unique())\n",
    "\n",
    "print(\"List of users len who used the specified words:\", tvUsers_len)\n",
    "print(\"All users:\", allUsers_len)\n",
    "print(\"% use it:\", round((tvUsers_len / allUsers_len)* 100,2))"
   ]
  },
  {
   "cell_type": "code",
   "execution_count": 7,
   "metadata": {},
   "outputs": [
    {
     "name": "stdout",
     "output_type": "stream",
     "text": [
      "How manny messeg: 143181\n",
      "Messege with 7tv emoji: 66943\n",
      "% use it: 46.75\n"
     ]
    }
   ],
   "source": [
    "all_messege_len = data.shape[0]\n",
    "filtered_messeges_len = filtered_data.shape[0]\n",
    "\n",
    "print(\"How manny messeg:\", all_messege_len)\n",
    "print(\"Messege with 7tv emoji:\", filtered_messeges_len)\n",
    "print(\"% use it:\", round((filtered_messeges_len / all_messege_len)* 100,2))"
   ]
  },
  {
   "cell_type": "code",
   "execution_count": 8,
   "metadata": {},
   "outputs": [
    {
     "name": "stdout",
     "output_type": "stream",
     "text": [
      "List of users len who used the specified words: 450\n",
      "All users: 3908\n",
      "% use it: 11.51\n"
     ]
    }
   ],
   "source": [
    "# Filter the filtered_data to only include messages that contain '!play'\n",
    "play_filtered_data = filtered_data[filtered_data['message'].str.contains('!play', regex=False)]\n",
    "\n",
    "tvUsers_len_play = len(play_filtered_data['user'].unique())\n",
    "\n",
    "print(\"List of users len who used the specified words:\", tvUsers_len_play)\n",
    "print(\"All users:\", allUsers_len)\n",
    "print(\"% use it:\", round((tvUsers_len_play / allUsers_len)* 100,2))\n",
    "\n",
    "\n"
   ]
  },
  {
   "cell_type": "code",
   "execution_count": 11,
   "metadata": {},
   "outputs": [
    {
     "name": "stdout",
     "output_type": "stream",
     "text": [
      "Users who sent '!play' but not any of the other words: set()\n"
     ]
    }
   ],
   "source": [
    "# Extract users who sent '!play' messages\n",
    "play_users = set(play_filtered_data['user'].unique())\n",
    "\n",
    "# Extract users who sent messages with any of the other words\n",
    "other_word_users = set(filtered_data['user'].unique())\n",
    "\n",
    "# Users who sent '!play' but not any of the other words\n",
    "unique_play_users = play_users - other_word_users\n",
    "\n",
    "print(\"Users who sent '!play' but not any of the other words:\", unique_play_users)"
   ]
  }
 ],
 "metadata": {
  "kernelspec": {
   "display_name": "Python 3",
   "language": "python",
   "name": "python3"
  },
  "language_info": {
   "codemirror_mode": {
    "name": "ipython",
    "version": 3
   },
   "file_extension": ".py",
   "mimetype": "text/x-python",
   "name": "python",
   "nbconvert_exporter": "python",
   "pygments_lexer": "ipython3",
   "version": "3.11.9"
  }
 },
 "nbformat": 4,
 "nbformat_minor": 2
}
