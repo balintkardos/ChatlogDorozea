{
 "cells": [
  {
   "cell_type": "code",
   "execution_count": 31,
   "metadata": {},
   "outputs": [],
   "source": [
    "import pandas as pd\n",
    "import re\n",
    "import pytz\n",
    "\n",
    "# Read the list of filenames from the configuration file\n",
    "with open('../file_list.txt', 'r', encoding='utf-8') as config_file:\n",
    "    file_names = config_file.read().splitlines()\n",
    "\n",
    "# Regex pattern to match the data format\n",
    "pattern = r'\\[(.*?)\\] (.*?): (.*)'\n",
    "\n",
    "# Initialize an empty list to store parsed data\n",
    "datalist = []\n",
    "stream_count = 0\n",
    "# Iterate over each specified file\n",
    "for file in file_names:\n",
    "    full_path = f\"../data/{file}\"\n",
    "    with open(full_path, 'r', encoding='utf-8') as f:\n",
    "        lines = f.readlines()\n",
    "        for line in lines:\n",
    "            match = re.match(pattern, line)\n",
    "            if match:\n",
    "                date, user, message = match.groups()\n",
    "                datalist.append([date, user, message,stream_count])\n",
    "    stream_count = stream_count + 1\n",
    "\n",
    "# Create a DataFrame from the parsed data\n",
    "data = pd.DataFrame(datalist, columns=[\"date\", \"user\", \"message\",\"stream\"])"
   ]
  },
  {
   "cell_type": "code",
   "execution_count": 32,
   "metadata": {},
   "outputs": [],
   "source": [
    "data[\"user\"] = data[\"user\"].replace(\"Banties1g\", \"banties_x\")\n",
    "data[\"user\"] = data[\"user\"].replace(\"banties1g\", \"banties_x\")\n",
    "data[\"user\"] = data[\"user\"].replace(\"fyodor_m_d1821\", \"fyredoor4\")\n",
    "data[\"user\"] = data[\"user\"].replace(\"chili_poe\", \"chili_con_bacon\")\n",
    "data[\"user\"] = data[\"user\"].replace(\"Wirelesss_\", \"W1r3lesss\")\n",
    "data[\"user\"] = data[\"user\"].replace(\"treklul\", \"trek44_\")\n",
    "data[\"user\"] = data[\"user\"].replace(\"ttrek_\", \"trek44_\")"
   ]
  },
  {
   "cell_type": "code",
   "execution_count": 33,
   "metadata": {},
   "outputs": [],
   "source": [
    "data['date'] = pd.to_datetime(data['date'])"
   ]
  },
  {
   "cell_type": "code",
   "execution_count": 34,
   "metadata": {},
   "outputs": [],
   "source": [
    "#data = data[data[\"date\"] < \"2025-03-06\"]"
   ]
  },
  {
   "cell_type": "code",
   "execution_count": 35,
   "metadata": {},
   "outputs": [],
   "source": [
    "def convert_utc_to_cet(df, date_column='date'):\n",
    "    \"\"\"\n",
    "    Convert UTC timestamps to Central European Time (CET/CEST) with proper DST handling\n",
    "    \n",
    "    Parameters:\n",
    "    df (pd.DataFrame): DataFrame containing the date column\n",
    "    date_column (str): Name of the column containing UTC timestamps\n",
    "    \n",
    "    Returns:\n",
    "    pd.DataFrame: DataFrame with converted timestamps\n",
    "    \"\"\"\n",
    "    # Make a copy to avoid modifying the original\n",
    "    df = df.copy()\n",
    "    \n",
    "    # Ensure timestamps are UTC aware\n",
    "    if df[date_column].dt.tz is None:\n",
    "        df[date_column] = df[date_column].dt.tz_localize('UTC')\n",
    "    elif df[date_column].dt.tz != pytz.UTC:\n",
    "        df[date_column] = df[date_column].dt.tz_convert('UTC')\n",
    "    \n",
    "    # Convert to CET/CEST (Europe/Berlin includes proper DST handling)\n",
    "    df[date_column] = df[date_column].dt.tz_convert('Europe/Berlin')\n",
    "    \n",
    "    return df\n"
   ]
  },
  {
   "cell_type": "code",
   "execution_count": 36,
   "metadata": {},
   "outputs": [],
   "source": [
    "data = convert_utc_to_cet(data)"
   ]
  },
  {
   "cell_type": "code",
   "execution_count": 37,
   "metadata": {},
   "outputs": [
    {
     "name": "stdout",
     "output_type": "stream",
     "text": [
      "user\n",
      "elluiti         6534\n",
      "Typhu25         3219\n",
      "trek44_         2164\n",
      "stan_iv4        2010\n",
      "ifanbenmezda    1741\n",
      "Name: message, dtype: int64\n"
     ]
    }
   ],
   "source": [
    "# Filter messages containing \"ome44\"\n",
    "filtered_data = data[data[\"message\"].str.contains(\"ome44\", na=False)]\n",
    "\n",
    "# Count occurrences per user\n",
    "user_counts = filtered_data.groupby(\"user\")[\"message\"].count()\n",
    "\n",
    "# Get the top 5 users\n",
    "top_users = user_counts.nlargest(5)\n",
    "\n",
    "print(top_users)"
   ]
  },
  {
   "cell_type": "code",
   "execution_count": 38,
   "metadata": {},
   "outputs": [
    {
     "name": "stdout",
     "output_type": "stream",
     "text": [
      "user\n",
      "Typhu25     50375\n",
      "trek44_     14328\n",
      "klimzaa     12245\n",
      "elluiti      8688\n",
      "shogalul     7707\n",
      "Name: ome44_count, dtype: int64\n"
     ]
    }
   ],
   "source": [
    "# Count occurrences of \"ome44\" per message\n",
    "data[\"ome44_count\"] = data[\"message\"].str.count(r\"\\bome44\\b\")\n",
    "\n",
    "# Sum occurrences per user\n",
    "user_counts = data.groupby(\"user\")[\"ome44_count\"].sum()\n",
    "\n",
    "# Get the top 5 users\n",
    "top_users = user_counts.nlargest(5)\n",
    "\n",
    "print(top_users)"
   ]
  },
  {
   "cell_type": "code",
   "execution_count": 39,
   "metadata": {},
   "outputs": [
    {
     "name": "stdout",
     "output_type": "stream",
     "text": [
      "user\n",
      "elluiti         1854\n",
      "balintboss      1319\n",
      "Martin_Gales     947\n",
      "CrazeE420xd      706\n",
      "stan_iv4         672\n",
      "Name: message, dtype: int64\n"
     ]
    }
   ],
   "source": [
    "# Filter messages containing \"ome44\"\n",
    "filtered_data2 = data[data[\"message\"].str.contains(\"LOL\", na=False)]\n",
    "\n",
    "# Count occurrences per user\n",
    "user_counts = filtered_data2.groupby(\"user\")[\"message\"].count()\n",
    "\n",
    "# Get the top 5 users\n",
    "top_users = user_counts.nlargest(5)\n",
    "\n",
    "print(top_users)"
   ]
  },
  {
   "cell_type": "code",
   "execution_count": 40,
   "metadata": {},
   "outputs": [
    {
     "name": "stdout",
     "output_type": "stream",
     "text": [
      "user\n",
      "devilbabymamadrama    1429\n",
      "W1r3lesss              721\n",
      "schiken44              548\n",
      "uuccugr                393\n",
      "rodrigo_20771          307\n",
      "Name: message, dtype: int64\n"
     ]
    }
   ],
   "source": [
    "# Filter messages containing \"speed1\"\n",
    "filtered_data4 = data[data[\"message\"].str.contains(\"speed1\", na=False)]\n",
    "\n",
    "# Count occurrences per user\n",
    "user_counts = filtered_data4.groupby(\"user\")[\"message\"].count()\n",
    "\n",
    "# Get the top 5 users\n",
    "top_users = user_counts.nlargest(5)\n",
    "\n",
    "print(top_users)"
   ]
  },
  {
   "cell_type": "code",
   "execution_count": 41,
   "metadata": {},
   "outputs": [
    {
     "name": "stdout",
     "output_type": "stream",
     "text": [
      "user\n",
      "Ivana_10        1117\n",
      "elluiti          961\n",
      "stan_iv4         876\n",
      "ifanbenmezda     622\n",
      "CrazeE420xd      448\n",
      "Name: message, dtype: int64\n"
     ]
    }
   ],
   "source": [
    "# Filter messages containing \"qq\"\n",
    "filtered_data5 = data[data[\"message\"].str.contains(\"qq\", na=False)]\n",
    "\n",
    "# Count occurrences per user\n",
    "user_counts = filtered_data5.groupby(\"user\")[\"message\"].count()\n",
    "\n",
    "# Get the top 5 users\n",
    "top_users = user_counts.nlargest(5)\n",
    "\n",
    "print(top_users)"
   ]
  },
  {
   "cell_type": "code",
   "execution_count": 42,
   "metadata": {},
   "outputs": [
    {
     "name": "stdout",
     "output_type": "stream",
     "text": [
      "user\n",
      "Ivana_10        1150\n",
      "elluiti          973\n",
      "stan_iv4         874\n",
      "ifanbenmezda     621\n",
      "CrazeE420xd      449\n",
      "Name: qq_count, dtype: int64\n"
     ]
    }
   ],
   "source": [
    "# Count occurrences of \"qq\" per message\n",
    "data[\"qq_count\"] = data[\"message\"].str.count(r\"\\bqq\\b\")\n",
    "\n",
    "# Sum occurrences per user\n",
    "user_counts = data.groupby(\"user\")[\"qq_count\"].sum()\n",
    "\n",
    "# Get the top 5 users\n",
    "top_users = user_counts.nlargest(5)\n",
    "\n",
    "print(top_users)"
   ]
  },
  {
   "cell_type": "code",
   "execution_count": 45,
   "metadata": {},
   "outputs": [
    {
     "name": "stdout",
     "output_type": "stream",
     "text": [
      "user\n",
      "devilbabymamadrama    19615\n",
      "W1r3lesss             14987\n",
      "schiken44             10961\n",
      "uuccugr                6938\n",
      "HoneyKick              6888\n",
      "ACEiCLE                5998\n",
      "rodrigo_20771          5998\n",
      "Typhu25                5701\n",
      "banties_x              5550\n",
      "klimzaa                5247\n",
      "trek44_                4836\n",
      "CrazeE420xd            2159\n",
      "adevogado0_0           2008\n",
      "lajosbarnabas          1987\n",
      "nevergiveuptgs         1299\n",
      "Name: speed1_count, dtype: int64\n"
     ]
    }
   ],
   "source": [
    "# Count occurrences of \"qq\" per message\n",
    "data[\"speed1_count\"] = data[\"message\"].str.count(r\"\\bspeed1\\b\")\n",
    "\n",
    "# Sum occurrences per user\n",
    "user_counts = data.groupby(\"user\")[\"speed1_count\"].sum()\n",
    "\n",
    "# Get the top 5 users\n",
    "top_users = user_counts.nlargest(15)\n",
    "\n",
    "print(top_users)"
   ]
  }
 ],
 "metadata": {
  "kernelspec": {
   "display_name": "Python 3",
   "language": "python",
   "name": "python3"
  },
  "language_info": {
   "codemirror_mode": {
    "name": "ipython",
    "version": 3
   },
   "file_extension": ".py",
   "mimetype": "text/x-python",
   "name": "python",
   "nbconvert_exporter": "python",
   "pygments_lexer": "ipython3",
   "version": "3.11.9"
  }
 },
 "nbformat": 4,
 "nbformat_minor": 2
}
