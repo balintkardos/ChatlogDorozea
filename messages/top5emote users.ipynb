{
 "cells": [
  {
   "cell_type": "code",
   "execution_count": 5,
   "metadata": {},
   "outputs": [],
   "source": [
    "import pandas as pd\n",
    "import re\n",
    "import pytz\n",
    "\n",
    "# Read the list of filenames from the configuration file\n",
    "with open('../file_list.txt', 'r', encoding='utf-8') as config_file:\n",
    "    file_names = config_file.read().splitlines()\n",
    "\n",
    "# Regex pattern to match the data format\n",
    "pattern = r'\\[(.*?)\\] (.*?): (.*)'\n",
    "\n",
    "# Initialize an empty list to store parsed data\n",
    "datalist = []\n",
    "stream_count = 0\n",
    "# Iterate over each specified file\n",
    "for file in file_names:\n",
    "    full_path = f\"../data/{file}\"\n",
    "    with open(full_path, 'r', encoding='utf-8') as f:\n",
    "        lines = f.readlines()\n",
    "        for line in lines:\n",
    "            match = re.match(pattern, line)\n",
    "            if match:\n",
    "                date, user, message = match.groups()\n",
    "                datalist.append([date, user, message,stream_count])\n",
    "    stream_count = stream_count + 1\n",
    "\n",
    "# Create a DataFrame from the parsed data\n",
    "data = pd.DataFrame(datalist, columns=[\"date\", \"user\", \"message\",\"stream\"])"
   ]
  },
  {
   "cell_type": "code",
   "execution_count": 6,
   "metadata": {},
   "outputs": [],
   "source": [
    "data['date'] = pd.to_datetime(data['date'])"
   ]
  },
  {
   "cell_type": "code",
   "execution_count": 7,
   "metadata": {},
   "outputs": [],
   "source": [
    "def convert_utc_to_cet(df, date_column='date'):\n",
    "    \"\"\"\n",
    "    Convert UTC timestamps to Central European Time (CET/CEST) with proper DST handling\n",
    "    \n",
    "    Parameters:\n",
    "    df (pd.DataFrame): DataFrame containing the date column\n",
    "    date_column (str): Name of the column containing UTC timestamps\n",
    "    \n",
    "    Returns:\n",
    "    pd.DataFrame: DataFrame with converted timestamps\n",
    "    \"\"\"\n",
    "    # Make a copy to avoid modifying the original\n",
    "    df = df.copy()\n",
    "    \n",
    "    # Ensure timestamps are UTC aware\n",
    "    if df[date_column].dt.tz is None:\n",
    "        df[date_column] = df[date_column].dt.tz_localize('UTC')\n",
    "    elif df[date_column].dt.tz != pytz.UTC:\n",
    "        df[date_column] = df[date_column].dt.tz_convert('UTC')\n",
    "    \n",
    "    # Convert to CET/CEST (Europe/Berlin includes proper DST handling)\n",
    "    df[date_column] = df[date_column].dt.tz_convert('Europe/Berlin')\n",
    "    \n",
    "    return df\n"
   ]
  },
  {
   "cell_type": "code",
   "execution_count": 8,
   "metadata": {},
   "outputs": [],
   "source": [
    "data = convert_utc_to_cet(data)"
   ]
  },
  {
   "cell_type": "code",
   "execution_count": 9,
   "metadata": {},
   "outputs": [
    {
     "name": "stdout",
     "output_type": "stream",
     "text": [
      "user\n",
      "elluiti         5503\n",
      "Typhu25         3190\n",
      "stan_iv4        1736\n",
      "ifanbenmezda    1502\n",
      "ttrek_          1464\n",
      "Name: message, dtype: int64\n"
     ]
    }
   ],
   "source": [
    "# Filter messages containing \"ome44\"\n",
    "filtered_data = data[data[\"message\"].str.contains(\"ome44\", na=False)]\n",
    "\n",
    "# Count occurrences per user\n",
    "user_counts = filtered_data.groupby(\"user\")[\"message\"].count()\n",
    "\n",
    "# Get the top 5 users\n",
    "top_users = user_counts.nlargest(5)\n",
    "\n",
    "print(top_users)"
   ]
  },
  {
   "cell_type": "code",
   "execution_count": 10,
   "metadata": {},
   "outputs": [
    {
     "name": "stdout",
     "output_type": "stream",
     "text": [
      "user\n",
      "elluiti         1746\n",
      "balintboss      1065\n",
      "Martin_Gales     936\n",
      "CrazeE420xd      699\n",
      "fuzok4           632\n",
      "Name: message, dtype: int64\n"
     ]
    }
   ],
   "source": [
    "# Filter messages containing \"ome44\"\n",
    "filtered_data2 = data[data[\"message\"].str.contains(\"LOL\", na=False)]\n",
    "\n",
    "# Count occurrences per user\n",
    "user_counts = filtered_data2.groupby(\"user\")[\"message\"].count()\n",
    "\n",
    "# Get the top 5 users\n",
    "top_users = user_counts.nlargest(5)\n",
    "\n",
    "print(top_users)"
   ]
  },
  {
   "cell_type": "code",
   "execution_count": 11,
   "metadata": {},
   "outputs": [
    {
     "name": "stdout",
     "output_type": "stream",
     "text": [
      "user\n",
      "devilbabymamadrama    323\n",
      "lajosbarnabas         180\n",
      "schiken44              90\n",
      "SchiKen44              88\n",
      "desireOY               77\n",
      "Name: message, dtype: int64\n"
     ]
    }
   ],
   "source": [
    "# Filter messages containing \"ome44\"\n",
    "filtered_data4 = data[data[\"message\"].str.contains(\"speed1\", na=False)]\n",
    "\n",
    "# Count occurrences per user\n",
    "user_counts = filtered_data4.groupby(\"user\")[\"message\"].count()\n",
    "\n",
    "# Get the top 5 users\n",
    "top_users = user_counts.nlargest(5)\n",
    "\n",
    "print(top_users)"
   ]
  },
  {
   "cell_type": "code",
   "execution_count": 13,
   "metadata": {},
   "outputs": [
    {
     "name": "stdout",
     "output_type": "stream",
     "text": [
      "user\n",
      "Ivana_10        829\n",
      "elluiti         759\n",
      "stan_iv4        688\n",
      "ifanbenmezda    487\n",
      "CrazeE420xd     298\n",
      "Name: message, dtype: int64\n"
     ]
    }
   ],
   "source": [
    "# Filter messages containing \"ome44\"\n",
    "filtered_data5 = data[data[\"message\"].str.contains(\"qq\", na=False)]\n",
    "\n",
    "# Count occurrences per user\n",
    "user_counts = filtered_data5.groupby(\"user\")[\"message\"].count()\n",
    "\n",
    "# Get the top 5 users\n",
    "top_users = user_counts.nlargest(5)\n",
    "\n",
    "print(top_users)"
   ]
  }
 ],
 "metadata": {
  "kernelspec": {
   "display_name": "Python 3",
   "language": "python",
   "name": "python3"
  },
  "language_info": {
   "codemirror_mode": {
    "name": "ipython",
    "version": 3
   },
   "file_extension": ".py",
   "mimetype": "text/x-python",
   "name": "python",
   "nbconvert_exporter": "python",
   "pygments_lexer": "ipython3",
   "version": "3.11.9"
  }
 },
 "nbformat": 4,
 "nbformat_minor": 2
}
