{
 "cells": [
  {
   "cell_type": "code",
   "execution_count": 8,
   "metadata": {},
   "outputs": [],
   "source": [
    "import pandas as pd\n",
    "import re"
   ]
  },
  {
   "cell_type": "code",
   "execution_count": 9,
   "metadata": {},
   "outputs": [],
   "source": [
    "tv7 = \"5Head AINTNOWAY Aware AYAYA BOOBA catJAM Clap Clueless COPIUM ddHuh DIESOFCRINGE elmoFire EZ FeelsWeirdMan gachiGASM gachiHYPER GIGACHAD HACKERMANS Hmmm HUHH KEKW KKomrade LULW MadgeLate modCheck monkaTOS monkaW MONKE NERD NODDERS NOOO OMEGALUL OOOO PauseChamp peepoGiggles pepeD PepeHands pepeJAM PepeLaugh Pog POGGERS PogO Sadge SNIFFA tenseSmash WAYTOODANK weirdChamp WOTT\"\n",
    "word_list = tv7.split(' ')"
   ]
  },
  {
   "cell_type": "code",
   "execution_count": 10,
   "metadata": {},
   "outputs": [],
   "source": [
    "# Read the list of filenames from the configuration file\n",
    "with open('file_list.txt', 'r', encoding='utf-8') as config_file:\n",
    "    file_names = config_file.read().splitlines()\n",
    "\n",
    "# Regex pattern to match the data format\n",
    "pattern = r'\\[(.*?)\\] (.*?): (.*)'\n",
    "\n",
    "\n",
    "# Initialize an empty list to store parsed data\n",
    "datalist = []\n",
    "stream_count = 0\n",
    "# Iterate over each specified file\n",
    "for file in file_names:\n",
    "    full_path = file\n",
    "    with open(full_path, 'r', encoding='utf-8') as f:\n",
    "        lines = f.readlines()\n",
    "        for line in lines:\n",
    "            match = re.match(pattern, line)\n",
    "            if match:\n",
    "                date, user, message = match.groups()\n",
    "                datalist.append([date, user, message,stream_count])\n",
    "    stream_count = stream_count + 1\n",
    "\n",
    "# Create a DataFrame from the parsed data\n",
    "data = pd.DataFrame(datalist, columns=[\"date\", \"user\", \"message\",\"stream\"])"
   ]
  },
  {
   "cell_type": "code",
   "execution_count": 11,
   "metadata": {},
   "outputs": [],
   "source": [
    "# Function to check if any of the words are in the message\n",
    "def contains_word(message, word_list):\n",
    "    return any(word in message for word in word_list)"
   ]
  },
  {
   "cell_type": "code",
   "execution_count": 12,
   "metadata": {},
   "outputs": [],
   "source": [
    "# Filter the DataFrame\n",
    "filtered_data = data[data['message'].apply(lambda x: contains_word(x, word_list))]\n",
    "\n",
    "# Extract list of users who used these words\n",
    "users = filtered_data['user'].unique()"
   ]
  },
  {
   "cell_type": "code",
   "execution_count": 13,
   "metadata": {},
   "outputs": [
    {
     "name": "stdout",
     "output_type": "stream",
     "text": [
      "List of users len who used the specified words: 622\n",
      "All users: 3923\n",
      "% use it: 15.86\n"
     ]
    }
   ],
   "source": [
    "bttvUsers_len = len(users)\n",
    "allUsers_len = len(data['user'].unique())\n",
    "\n",
    "print(\"List of users len who used the specified words:\", bttvUsers_len)\n",
    "print(\"All users:\", allUsers_len)\n",
    "print(\"% use it:\", round((bttvUsers_len / allUsers_len)* 100,2))"
   ]
  },
  {
   "cell_type": "code",
   "execution_count": 14,
   "metadata": {},
   "outputs": [
    {
     "name": "stdout",
     "output_type": "stream",
     "text": [
      "How manny messeg: 143977\n",
      "Messege with bttv emoji: 8353\n",
      "% use it: 5.8\n"
     ]
    }
   ],
   "source": [
    "all_messege_len = data.shape[0]\n",
    "filtered_messeges_len = filtered_data.shape[0]\n",
    "\n",
    "print(\"How manny messeg:\", all_messege_len)\n",
    "print(\"Messege with bttv emoji:\", filtered_messeges_len)\n",
    "print(\"% use it:\", round((filtered_messeges_len / all_messege_len)* 100,2))"
   ]
  }
 ],
 "metadata": {
  "kernelspec": {
   "display_name": "Python 3",
   "language": "python",
   "name": "python3"
  },
  "language_info": {
   "codemirror_mode": {
    "name": "ipython",
    "version": 3
   },
   "file_extension": ".py",
   "mimetype": "text/x-python",
   "name": "python",
   "nbconvert_exporter": "python",
   "pygments_lexer": "ipython3",
   "version": "3.11.9"
  }
 },
 "nbformat": 4,
 "nbformat_minor": 2
}
