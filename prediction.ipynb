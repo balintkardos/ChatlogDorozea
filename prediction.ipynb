{
 "cells": [
  {
   "cell_type": "code",
   "execution_count": 32,
   "metadata": {},
   "outputs": [],
   "source": [
    "import pandas as pd\n",
    "import re\n",
    "import matplotlib.pyplot as plt\n",
    "import seaborn as sns\n",
    "\n",
    "# Read the list of filenames from the configuration file\n",
    "with open('file_list.txt', 'r', encoding='utf-8') as config_file:\n",
    "    file_names = config_file.read().splitlines()\n",
    "\n",
    "# Regex pattern to match the data format\n",
    "pattern = r'\\[(.*?)\\] (.*?): (.*)'\n",
    "\n",
    "\n",
    "# Initialize an empty list to store parsed data\n",
    "datalist = []\n",
    "stream_count = 0\n",
    "# Iterate over each specified file\n",
    "for file in file_names:\n",
    "    full_path = file\n",
    "    with open(full_path, 'r', encoding='utf-8') as f:\n",
    "        lines = f.readlines()\n",
    "        for line in lines:\n",
    "            match = re.match(pattern, line)\n",
    "            if match:\n",
    "                date, user, message = match.groups()\n",
    "                datalist.append([date, user, message,stream_count])\n",
    "    stream_count = stream_count + 1\n",
    "\n",
    "# Create a DataFrame from the parsed data\n",
    "data = pd.DataFrame(datalist, columns=[\"date\", \"user\", \"message\",\"stream\"])\n",
    "\n",
    "# Step 1: Group by 'users' and count the messages\n",
    "user_message_counts = data.groupby('user').size()\n",
    "\n",
    "# Step 2: Filter users with 100 or more messages\n",
    "active_users = user_message_counts[user_message_counts >= 1000].index\n",
    "\n",
    "# Step 3: Filter the original DataFrame to include only these users\n",
    "filtered_df = data[data['user'].isin(active_users)]"
   ]
  },
  {
   "cell_type": "code",
   "execution_count": 33,
   "metadata": {},
   "outputs": [],
   "source": [
    "from sklearn.model_selection import train_test_split\n",
    "from sklearn.feature_extraction.text import TfidfVectorizer\n",
    "from sklearn.linear_model import LogisticRegression\n",
    "from sklearn.metrics import accuracy_score, classification_report"
   ]
  },
  {
   "cell_type": "code",
   "execution_count": 34,
   "metadata": {},
   "outputs": [
    {
     "name": "stderr",
     "output_type": "stream",
     "text": [
      "C:\\Users\\Kardo\\AppData\\Local\\Packages\\PythonSoftwareFoundation.Python.3.11_qbz5n2kfra8p0\\LocalCache\\local-packages\\Python311\\site-packages\\sklearn\\linear_model\\_logistic.py:469: ConvergenceWarning: lbfgs failed to converge (status=1):\n",
      "STOP: TOTAL NO. of ITERATIONS REACHED LIMIT.\n",
      "\n",
      "Increase the number of iterations (max_iter) or scale the data as shown in:\n",
      "    https://scikit-learn.org/stable/modules/preprocessing.html\n",
      "Please also refer to the documentation for alternative solver options:\n",
      "    https://scikit-learn.org/stable/modules/linear_model.html#logistic-regression\n",
      "  n_iter_i = _check_optimize_result(\n"
     ]
    },
    {
     "name": "stdout",
     "output_type": "stream",
     "text": [
      "Accuracy: 0.32084974250227205\n",
      "                          precision    recall  f1-score   support\n",
      "\n",
      "               1206paul_       0.25      0.21      0.23      1488\n",
      "                1SKELTON       0.50      0.04      0.08       444\n",
      "                 Aloddin       0.58      0.15      0.24       356\n",
      "Aluminiumminimumimmunity       0.41      0.09      0.15       288\n",
      "               Banties1g       0.26      0.10      0.15      1139\n",
      "               Casanovaa       0.38      0.03      0.05       297\n",
      "                 Cuhhsin       0.26      0.03      0.05       271\n",
      "               Flashet67       0.18      0.05      0.08       229\n",
      "             IvanOnMyOwn       0.19      0.10      0.13      1455\n",
      "                Ivana_10       0.60      0.09      0.15       282\n",
      "                   LX212       0.31      0.07      0.11       494\n",
      "            Martin_Gales       0.26      0.87      0.41      4270\n",
      "                Ravenbtw       0.25      0.01      0.02       298\n",
      "                 Risc__V       0.23      0.18      0.20       546\n",
      "                  Roonss       0.37      0.28      0.32       406\n",
      "            SeeMeNoMore_       0.57      0.03      0.05       297\n",
      "          StreamElements       0.96      0.99      0.98      1703\n",
      "                  Trizze       0.47      0.03      0.05       314\n",
      "                 Typhu25       0.31      0.13      0.19       835\n",
      "                 Wii_Gii       0.31      0.09      0.14       321\n",
      "         amirmasoud_2018       0.38      0.34      0.36       656\n",
      "              balintboss       0.20      0.15      0.17      1168\n",
      "        bilaltothefuture       0.61      0.05      0.09       226\n",
      "                blakbilt       0.67      0.01      0.02       208\n",
      "                  enseje       0.44      0.06      0.11       401\n",
      "          fyodor_m_d1821       0.29      0.27      0.28       932\n",
      "          guiseppe_mundi       0.44      0.03      0.06       213\n",
      "                gurmukh0       0.00      0.00      0.00       211\n",
      "                icep1cke       0.43      0.43      0.43       274\n",
      "                 klimzaa       0.33      0.27      0.29      1884\n",
      "                    oJov       0.21      0.11      0.15      1137\n",
      "    peroni_nasturo_azuro       0.68      0.55      0.61       290\n",
      "             riesenklotz       0.22      0.08      0.12       483\n",
      "                   roxa0       0.22      0.03      0.06       577\n",
      "        sercanwinchester       0.20      0.19      0.20       466\n",
      "               sisiliann       0.20      0.03      0.06       323\n",
      "               stanny781       0.25      0.01      0.02       329\n",
      "          ylb_cat_soul22       0.30      0.24      0.27       624\n",
      "                     ベータ       0.20      0.01      0.03       273\n",
      "\n",
      "                accuracy                           0.32     26408\n",
      "               macro avg       0.36      0.17      0.18     26408\n",
      "            weighted avg       0.34      0.32      0.27     26408\n",
      "\n"
     ]
    }
   ],
   "source": [
    "# Step 1: Preprocess the text data\n",
    "tfidf = TfidfVectorizer(stop_words='english', max_features=1000)\n",
    "X = tfidf.fit_transform(filtered_df['message'])\n",
    "\n",
    "# Step 2: Encode the labels\n",
    "y = filtered_df['user']\n",
    "\n",
    "# Step 3: Split the data into training and testing sets\n",
    "X_train, X_test, y_train, y_test = train_test_split(X, y, test_size=0.2, random_state=42)\n",
    "\n",
    "# Step 4: Choose and train the model\n",
    "model = LogisticRegression()\n",
    "model.fit(X_train, y_train)\n",
    "\n",
    "# Step 5: Evaluate the model\n",
    "y_pred = model.predict(X_test)\n",
    "print(f\"Accuracy: {accuracy_score(y_test, y_pred)}\")\n",
    "print(classification_report(y_test, y_pred))"
   ]
  },
  {
   "cell_type": "code",
   "execution_count": 36,
   "metadata": {},
   "outputs": [
    {
     "name": "stdout",
     "output_type": "stream",
     "text": [
      "Message: ' I love these chocolates with white dots on them when buying lösgodis. Everyone says they're old person candy but idc 😤' was sent by: riesenklotz\n"
     ]
    }
   ],
   "source": [
    "# New messages to classify\n",
    "new_messages = [\" I love these chocolates with white dots on them when buying lösgodis. Everyone says they're old person candy but idc 😤\"]\n",
    "\n",
    "# Preprocess the messages\n",
    "X_new = tfidf.transform(new_messages)\n",
    "\n",
    "# Predict the sender\n",
    "predictions = model.predict(X_new)\n",
    "\n",
    "# Output the predictions\n",
    "for message, prediction in zip(new_messages, predictions):\n",
    "    print(f\"Message: '{message}' was sent by: {prediction}\")"
   ]
  }
 ],
 "metadata": {
  "kernelspec": {
   "display_name": "Python 3",
   "language": "python",
   "name": "python3"
  },
  "language_info": {
   "codemirror_mode": {
    "name": "ipython",
    "version": 3
   },
   "file_extension": ".py",
   "mimetype": "text/x-python",
   "name": "python",
   "nbconvert_exporter": "python",
   "pygments_lexer": "ipython3",
   "version": "3.11.9"
  }
 },
 "nbformat": 4,
 "nbformat_minor": 2
}
