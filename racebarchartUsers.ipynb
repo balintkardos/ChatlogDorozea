{
 "cells": [
  {
   "cell_type": "code",
   "execution_count": 23,
   "metadata": {},
   "outputs": [],
   "source": [
    "import pandas as pd\n",
    "import re\n",
    "\n",
    "# Read the list of filenames from the configuration file\n",
    "with open('file_list.txt', 'r', encoding='utf-8') as config_file:\n",
    "    file_names = config_file.read().splitlines()\n",
    "\n",
    "# Regex pattern to match the data format\n",
    "pattern = r'\\[(.*?)\\] (.*?): (.*)'\n",
    "\n",
    "\n",
    "# Initialize an empty list to store parsed data\n",
    "datalist = []\n",
    "stream_count = 0\n",
    "# Iterate over each specified file\n",
    "for file in file_names:\n",
    "    full_path = \"data\\\\\"+file\n",
    "    with open(full_path, 'r', encoding='utf-8') as f:\n",
    "        lines = f.readlines()\n",
    "        for line in lines:\n",
    "            match = re.match(pattern, line)\n",
    "            if match:\n",
    "                date, user, message = match.groups()\n",
    "                datalist.append([date, user, message,stream_count])\n",
    "    stream_count = stream_count + 1\n",
    "\n",
    "# Create a DataFrame from the parsed data\n",
    "data = pd.DataFrame(datalist, columns=[\"date\", \"user\", \"message\",\"stream\"])\n"
   ]
  },
  {
   "cell_type": "code",
   "execution_count": 24,
   "metadata": {},
   "outputs": [
    {
     "data": {
      "text/plain": [
       "(652596, 4)"
      ]
     },
     "execution_count": 24,
     "metadata": {},
     "output_type": "execute_result"
    }
   ],
   "source": [
    "\n",
    "data.shape"
   ]
  },
  {
   "cell_type": "code",
   "execution_count": 25,
   "metadata": {},
   "outputs": [],
   "source": [
    "# Count the number of messages per user\n",
    "message_counts = data.groupby(\"user\")[\"message\"].count()\n",
    "\n",
    "# Filter users with 25 or more messages\n",
    "users_with_25_or_more = message_counts[message_counts >= 25].index\n",
    "\n",
    "# Filter the original DataFrame to keep only these users\n",
    "data = data[data[\"user\"].isin(users_with_25_or_more)]\n",
    "\n"
   ]
  },
  {
   "cell_type": "code",
   "execution_count": 26,
   "metadata": {},
   "outputs": [
    {
     "data": {
      "text/plain": [
       "(575842, 4)"
      ]
     },
     "execution_count": 26,
     "metadata": {},
     "output_type": "execute_result"
    }
   ],
   "source": [
    "data.shape"
   ]
  },
  {
   "cell_type": "code",
   "execution_count": 27,
   "metadata": {},
   "outputs": [],
   "source": [
    "data[\"user\"] = data[\"user\"].replace(\"Banties1g\", \"banties1g\")\n",
    "data[\"user\"] = data[\"user\"].replace(\"fyodor_m_d1821\", \"fyredoor4\")\n"
   ]
  },
  {
   "cell_type": "code",
   "execution_count": 28,
   "metadata": {},
   "outputs": [],
   "source": [
    "# Convert date to datetime format\n",
    "data[\"date\"] = pd.to_datetime(data[\"date\"])\n",
    "\n"
   ]
  },
  {
   "cell_type": "code",
   "execution_count": 29,
   "metadata": {},
   "outputs": [],
   "source": [
    "# Truncate datetime to just the day (removing time)\n",
    "data[\"day\"] = data[\"date\"].dt.date  # Extract only the date part\n",
    "\n"
   ]
  },
  {
   "cell_type": "code",
   "execution_count": 30,
   "metadata": {},
   "outputs": [],
   "source": [
    "# Group by 'day' and 'user' and calculate the message count per day per user\n",
    "data[\"message_count\"] = 1  # Assign 1 for each message to count them\n",
    "daily_counts = data.groupby([\"day\", \"user\"])[\"message_count\"].count().reset_index()\n",
    "\n"
   ]
  },
  {
   "cell_type": "code",
   "execution_count": 31,
   "metadata": {},
   "outputs": [],
   "source": [
    "# Pivot the table to create a user-wise table for each day\n",
    "pivot_table = daily_counts.pivot(index=\"day\", columns=\"user\", values=\"message_count\").fillna(0)\n"
   ]
  },
  {
   "cell_type": "code",
   "execution_count": 32,
   "metadata": {},
   "outputs": [],
   "source": [
    "\n",
    "# Add a cumulative sum for each user across the days\n",
    "cumulative_pivot = pivot_table.cumsum()\n"
   ]
  },
  {
   "cell_type": "code",
   "execution_count": 33,
   "metadata": {},
   "outputs": [
    {
     "name": "stdout",
     "output_type": "stream",
     "text": [
      "user        0000000emirburak0320  0buddha  0cops0problems  0nlywon  0rib  \\\n",
      "day                                                                        \n",
      "2024-05-01                   0.0      0.0             0.0      0.0   0.0   \n",
      "2024-05-02                   0.0      0.0             0.0      0.0   0.0   \n",
      "2024-05-03                   0.0      0.0             0.0      0.0   0.0   \n",
      "2024-05-04                   0.0      0.0             0.0      0.0   0.0   \n",
      "2024-05-05                   0.0      0.0             0.0      0.0   0.0   \n",
      "...                          ...      ...             ...      ...   ...   \n",
      "2024-11-26                  49.0   1214.0           102.0    202.0  47.0   \n",
      "2024-11-27                  49.0   1223.0           102.0    202.0  47.0   \n",
      "2024-11-28                  49.0   1232.0           102.0    202.0  47.0   \n",
      "2024-11-29                  49.0   1245.0           102.0    202.0  47.0   \n",
      "2024-12-01                  49.0   1245.0           102.0    202.0  47.0   \n",
      "\n",
      "user        0xreb3lhunter  1206paul_  12cut12seal  12zitwelve  16GP4  ...  \\\n",
      "day                                                                   ...   \n",
      "2024-05-01            0.0       70.0          0.0         0.0    0.0  ...   \n",
      "2024-05-02            0.0      152.0          0.0         0.0    0.0  ...   \n",
      "2024-05-03            0.0      240.0          0.0         0.0    0.0  ...   \n",
      "2024-05-04            0.0      247.0          0.0         0.0    0.0  ...   \n",
      "2024-05-05            0.0      340.0          0.0         0.0    0.0  ...   \n",
      "...                   ...        ...          ...         ...    ...  ...   \n",
      "2024-11-26           54.0    15060.0         81.0       267.0   35.0  ...   \n",
      "2024-11-27           54.0    15212.0         81.0       267.0   35.0  ...   \n",
      "2024-11-28           54.0    15333.0         81.0       267.0   35.0  ...   \n",
      "2024-11-29           54.0    15410.0         81.0       293.0   35.0  ...   \n",
      "2024-12-01           54.0    15460.0         81.0       293.0   35.0  ...   \n",
      "\n",
      "user        zzwwzzwwzzwwzz  zzzooonnn_     らず  ノワール05     ベータ  孙哮喘258  木柵林達豐  \\\n",
      "day                                                                            \n",
      "2024-05-01             0.0         0.0    0.0     0.0     0.0     0.0    0.0   \n",
      "2024-05-02             0.0         0.0    0.0     0.0     0.0     0.0    0.0   \n",
      "2024-05-03             0.0         0.0    6.0     0.0     0.0     0.0    0.0   \n",
      "2024-05-04             0.0         0.0    9.0     0.0     0.0     0.0    0.0   \n",
      "2024-05-05             0.0         0.0   11.0     0.0     0.0     0.0    0.0   \n",
      "...                    ...         ...    ...     ...     ...     ...    ...   \n",
      "2024-11-26           127.0        29.0  124.0    34.0  1291.0   113.0   25.0   \n",
      "2024-11-27           127.0        29.0  124.0    34.0  1291.0   113.0   25.0   \n",
      "2024-11-28           127.0        29.0  124.0    34.0  1291.0   113.0   25.0   \n",
      "2024-11-29           127.0        29.0  124.0    34.0  1291.0   113.0   25.0   \n",
      "2024-12-01           127.0        29.0  124.0    34.0  1291.0   113.0   25.0   \n",
      "\n",
      "user          爪口长工  쌍베님사랑합니다  엘레레레ㅔ  \n",
      "day                                  \n",
      "2024-05-01     7.0       0.0    0.0  \n",
      "2024-05-02    15.0       0.0    0.0  \n",
      "2024-05-03    15.0       0.0    0.0  \n",
      "2024-05-04    29.0       0.0    0.0  \n",
      "2024-05-05    29.0       0.0    0.0  \n",
      "...            ...       ...    ...  \n",
      "2024-11-26  1595.0      32.0   36.0  \n",
      "2024-11-27  1595.0      32.0   36.0  \n",
      "2024-11-28  1600.0      32.0   36.0  \n",
      "2024-11-29  1600.0      32.0   36.0  \n",
      "2024-12-01  1663.0      32.0   36.0  \n",
      "\n",
      "[177 rows x 2314 columns]\n"
     ]
    }
   ],
   "source": [
    "\n",
    "# Print the result\n",
    "print(cumulative_pivot)"
   ]
  },
  {
   "cell_type": "code",
   "execution_count": 34,
   "metadata": {},
   "outputs": [],
   "source": [
    "pivot_data_cleaned_transposed = cumulative_pivot.T\n",
    "pivot_data_cleaned_transposed = cumulative_pivot.T.reset_index()"
   ]
  },
  {
   "cell_type": "code",
   "execution_count": 35,
   "metadata": {},
   "outputs": [
    {
     "data": {
      "text/html": [
       "<div>\n",
       "<style scoped>\n",
       "    .dataframe tbody tr th:only-of-type {\n",
       "        vertical-align: middle;\n",
       "    }\n",
       "\n",
       "    .dataframe tbody tr th {\n",
       "        vertical-align: top;\n",
       "    }\n",
       "\n",
       "    .dataframe thead th {\n",
       "        text-align: right;\n",
       "    }\n",
       "</style>\n",
       "<table border=\"1\" class=\"dataframe\">\n",
       "  <thead>\n",
       "    <tr style=\"text-align: right;\">\n",
       "      <th>day</th>\n",
       "      <th>user</th>\n",
       "      <th>2024-05-01</th>\n",
       "      <th>2024-05-02</th>\n",
       "      <th>2024-05-03</th>\n",
       "      <th>2024-05-04</th>\n",
       "      <th>2024-05-05</th>\n",
       "      <th>2024-05-06</th>\n",
       "      <th>2024-05-07</th>\n",
       "      <th>2024-05-09</th>\n",
       "      <th>2024-05-10</th>\n",
       "      <th>...</th>\n",
       "      <th>2024-11-19</th>\n",
       "      <th>2024-11-21</th>\n",
       "      <th>2024-11-22</th>\n",
       "      <th>2024-11-23</th>\n",
       "      <th>2024-11-25</th>\n",
       "      <th>2024-11-26</th>\n",
       "      <th>2024-11-27</th>\n",
       "      <th>2024-11-28</th>\n",
       "      <th>2024-11-29</th>\n",
       "      <th>2024-12-01</th>\n",
       "    </tr>\n",
       "  </thead>\n",
       "  <tbody>\n",
       "    <tr>\n",
       "      <th>2309</th>\n",
       "      <td>孙哮喘258</td>\n",
       "      <td>0.0</td>\n",
       "      <td>0.0</td>\n",
       "      <td>0.0</td>\n",
       "      <td>0.0</td>\n",
       "      <td>0.0</td>\n",
       "      <td>0.0</td>\n",
       "      <td>0.0</td>\n",
       "      <td>0.0</td>\n",
       "      <td>0.0</td>\n",
       "      <td>...</td>\n",
       "      <td>112.0</td>\n",
       "      <td>112.0</td>\n",
       "      <td>112.0</td>\n",
       "      <td>113.0</td>\n",
       "      <td>113.0</td>\n",
       "      <td>113.0</td>\n",
       "      <td>113.0</td>\n",
       "      <td>113.0</td>\n",
       "      <td>113.0</td>\n",
       "      <td>113.0</td>\n",
       "    </tr>\n",
       "    <tr>\n",
       "      <th>2310</th>\n",
       "      <td>木柵林達豐</td>\n",
       "      <td>0.0</td>\n",
       "      <td>0.0</td>\n",
       "      <td>0.0</td>\n",
       "      <td>0.0</td>\n",
       "      <td>0.0</td>\n",
       "      <td>0.0</td>\n",
       "      <td>0.0</td>\n",
       "      <td>0.0</td>\n",
       "      <td>0.0</td>\n",
       "      <td>...</td>\n",
       "      <td>25.0</td>\n",
       "      <td>25.0</td>\n",
       "      <td>25.0</td>\n",
       "      <td>25.0</td>\n",
       "      <td>25.0</td>\n",
       "      <td>25.0</td>\n",
       "      <td>25.0</td>\n",
       "      <td>25.0</td>\n",
       "      <td>25.0</td>\n",
       "      <td>25.0</td>\n",
       "    </tr>\n",
       "    <tr>\n",
       "      <th>2311</th>\n",
       "      <td>爪口长工</td>\n",
       "      <td>7.0</td>\n",
       "      <td>15.0</td>\n",
       "      <td>15.0</td>\n",
       "      <td>29.0</td>\n",
       "      <td>29.0</td>\n",
       "      <td>31.0</td>\n",
       "      <td>31.0</td>\n",
       "      <td>86.0</td>\n",
       "      <td>90.0</td>\n",
       "      <td>...</td>\n",
       "      <td>1542.0</td>\n",
       "      <td>1542.0</td>\n",
       "      <td>1544.0</td>\n",
       "      <td>1544.0</td>\n",
       "      <td>1557.0</td>\n",
       "      <td>1595.0</td>\n",
       "      <td>1595.0</td>\n",
       "      <td>1600.0</td>\n",
       "      <td>1600.0</td>\n",
       "      <td>1663.0</td>\n",
       "    </tr>\n",
       "    <tr>\n",
       "      <th>2312</th>\n",
       "      <td>쌍베님사랑합니다</td>\n",
       "      <td>0.0</td>\n",
       "      <td>0.0</td>\n",
       "      <td>0.0</td>\n",
       "      <td>0.0</td>\n",
       "      <td>0.0</td>\n",
       "      <td>0.0</td>\n",
       "      <td>0.0</td>\n",
       "      <td>0.0</td>\n",
       "      <td>0.0</td>\n",
       "      <td>...</td>\n",
       "      <td>32.0</td>\n",
       "      <td>32.0</td>\n",
       "      <td>32.0</td>\n",
       "      <td>32.0</td>\n",
       "      <td>32.0</td>\n",
       "      <td>32.0</td>\n",
       "      <td>32.0</td>\n",
       "      <td>32.0</td>\n",
       "      <td>32.0</td>\n",
       "      <td>32.0</td>\n",
       "    </tr>\n",
       "    <tr>\n",
       "      <th>2313</th>\n",
       "      <td>엘레레레ㅔ</td>\n",
       "      <td>0.0</td>\n",
       "      <td>0.0</td>\n",
       "      <td>0.0</td>\n",
       "      <td>0.0</td>\n",
       "      <td>0.0</td>\n",
       "      <td>0.0</td>\n",
       "      <td>0.0</td>\n",
       "      <td>0.0</td>\n",
       "      <td>0.0</td>\n",
       "      <td>...</td>\n",
       "      <td>36.0</td>\n",
       "      <td>36.0</td>\n",
       "      <td>36.0</td>\n",
       "      <td>36.0</td>\n",
       "      <td>36.0</td>\n",
       "      <td>36.0</td>\n",
       "      <td>36.0</td>\n",
       "      <td>36.0</td>\n",
       "      <td>36.0</td>\n",
       "      <td>36.0</td>\n",
       "    </tr>\n",
       "  </tbody>\n",
       "</table>\n",
       "<p>5 rows × 178 columns</p>\n",
       "</div>"
      ],
      "text/plain": [
       "day       user  2024-05-01  2024-05-02  2024-05-03  2024-05-04  2024-05-05  \\\n",
       "2309    孙哮喘258         0.0         0.0         0.0         0.0         0.0   \n",
       "2310     木柵林達豐         0.0         0.0         0.0         0.0         0.0   \n",
       "2311      爪口长工         7.0        15.0        15.0        29.0        29.0   \n",
       "2312  쌍베님사랑합니다         0.0         0.0         0.0         0.0         0.0   \n",
       "2313     엘레레레ㅔ         0.0         0.0         0.0         0.0         0.0   \n",
       "\n",
       "day   2024-05-06  2024-05-07  2024-05-09  2024-05-10  ...  2024-11-19  \\\n",
       "2309         0.0         0.0         0.0         0.0  ...       112.0   \n",
       "2310         0.0         0.0         0.0         0.0  ...        25.0   \n",
       "2311        31.0        31.0        86.0        90.0  ...      1542.0   \n",
       "2312         0.0         0.0         0.0         0.0  ...        32.0   \n",
       "2313         0.0         0.0         0.0         0.0  ...        36.0   \n",
       "\n",
       "day   2024-11-21  2024-11-22  2024-11-23  2024-11-25  2024-11-26  2024-11-27  \\\n",
       "2309       112.0       112.0       113.0       113.0       113.0       113.0   \n",
       "2310        25.0        25.0        25.0        25.0        25.0        25.0   \n",
       "2311      1542.0      1544.0      1544.0      1557.0      1595.0      1595.0   \n",
       "2312        32.0        32.0        32.0        32.0        32.0        32.0   \n",
       "2313        36.0        36.0        36.0        36.0        36.0        36.0   \n",
       "\n",
       "day   2024-11-28  2024-11-29  2024-12-01  \n",
       "2309       113.0       113.0       113.0  \n",
       "2310        25.0        25.0        25.0  \n",
       "2311      1600.0      1600.0      1663.0  \n",
       "2312        32.0        32.0        32.0  \n",
       "2313        36.0        36.0        36.0  \n",
       "\n",
       "[5 rows x 178 columns]"
      ]
     },
     "execution_count": 35,
     "metadata": {},
     "output_type": "execute_result"
    }
   ],
   "source": [
    "pivot_data_cleaned_transposed.head(5)\n",
    "pivot_data_cleaned_transposed.tail(5)"
   ]
  },
  {
   "cell_type": "code",
   "execution_count": 36,
   "metadata": {},
   "outputs": [],
   "source": [
    "pivot_data_cleaned_transposed.to_excel('your_excel_file.xlsx', sheet_name='Pivot Table')"
   ]
  }
 ],
 "metadata": {
  "kernelspec": {
   "display_name": "Python 3",
   "language": "python",
   "name": "python3"
  },
  "language_info": {
   "codemirror_mode": {
    "name": "ipython",
    "version": 3
   },
   "file_extension": ".py",
   "mimetype": "text/x-python",
   "name": "python",
   "nbconvert_exporter": "python",
   "pygments_lexer": "ipython3",
   "version": "3.11.9"
  }
 },
 "nbformat": 4,
 "nbformat_minor": 2
}
