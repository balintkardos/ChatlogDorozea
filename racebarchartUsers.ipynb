{
 "cells": [
  {
   "cell_type": "code",
   "execution_count": 1,
   "metadata": {},
   "outputs": [],
   "source": [
    "import pandas as pd\n",
    "import re\n",
    "\n",
    "# Read the list of filenames from the configuration file\n",
    "with open('file_list.txt', 'r', encoding='utf-8') as config_file:\n",
    "    file_names = config_file.read().splitlines()\n",
    "\n",
    "# Regex pattern to match the data format\n",
    "pattern = r'\\[(.*?)\\] (.*?): (.*)'\n",
    "\n",
    "\n",
    "# Initialize an empty list to store parsed data\n",
    "datalist = []\n",
    "stream_count = 0\n",
    "# Iterate over each specified file\n",
    "for file in file_names:\n",
    "    full_path = \"data\\\\\"+file\n",
    "    with open(full_path, 'r', encoding='utf-8') as f:\n",
    "        lines = f.readlines()\n",
    "        for line in lines:\n",
    "            match = re.match(pattern, line)\n",
    "            if match:\n",
    "                date, user, message = match.groups()\n",
    "                datalist.append([date, user, message,stream_count])\n",
    "    stream_count = stream_count + 1\n",
    "\n",
    "# Create a DataFrame from the parsed data\n",
    "data = pd.DataFrame(datalist, columns=[\"date\", \"user\", \"message\",\"stream\"])\n",
    "\n"
   ]
  },
  {
   "cell_type": "code",
   "execution_count": 2,
   "metadata": {},
   "outputs": [
    {
     "data": {
      "text/plain": [
       "(801870, 4)"
      ]
     },
     "execution_count": 2,
     "metadata": {},
     "output_type": "execute_result"
    }
   ],
   "source": [
    "\n",
    "data.shape"
   ]
  },
  {
   "cell_type": "code",
   "execution_count": 3,
   "metadata": {},
   "outputs": [],
   "source": [
    "# Count the number of messages per user\n",
    "message_counts = data.groupby(\"user\")[\"message\"].count()\n",
    "\n",
    "# Filter users with 25 or more messages\n",
    "users_with_25_or_more = message_counts[message_counts >= 25].index\n",
    "\n",
    "# Filter the original DataFrame to keep only these users\n",
    "data = data[data[\"user\"].isin(users_with_25_or_more)]\n",
    "\n"
   ]
  },
  {
   "cell_type": "code",
   "execution_count": 4,
   "metadata": {},
   "outputs": [
    {
     "data": {
      "text/plain": [
       "(705998, 4)"
      ]
     },
     "execution_count": 4,
     "metadata": {},
     "output_type": "execute_result"
    }
   ],
   "source": [
    "data.shape"
   ]
  },
  {
   "cell_type": "code",
   "execution_count": 5,
   "metadata": {},
   "outputs": [],
   "source": [
    "data[\"user\"] = data[\"user\"].replace(\"Banties1g\", \"banties_x\")\n",
    "data[\"user\"] = data[\"user\"].replace(\"banties1g\", \"banties_x\")\n",
    "#banties_x\n",
    "data[\"user\"] = data[\"user\"].replace(\"fyodor_m_d1821\", \"fyredoor4\")\n"
   ]
  },
  {
   "cell_type": "code",
   "execution_count": 6,
   "metadata": {},
   "outputs": [],
   "source": [
    "# Convert date to datetime format\n",
    "data[\"date\"] = pd.to_datetime(data[\"date\"])\n",
    "\n"
   ]
  },
  {
   "cell_type": "code",
   "execution_count": 7,
   "metadata": {},
   "outputs": [],
   "source": [
    "# Truncate datetime to just the day (removing time)\n",
    "data[\"day\"] = data[\"date\"].dt.date  # Extract only the date part\n",
    "\n"
   ]
  },
  {
   "cell_type": "code",
   "execution_count": 8,
   "metadata": {},
   "outputs": [],
   "source": [
    "# Group by 'day' and 'user' and calculate the message count per day per user\n",
    "data[\"message_count\"] = 1  # Assign 1 for each message to count them\n",
    "daily_counts = data.groupby([\"day\", \"user\"])[\"message_count\"].count().reset_index()\n",
    "\n"
   ]
  },
  {
   "cell_type": "code",
   "execution_count": 9,
   "metadata": {},
   "outputs": [],
   "source": [
    "# Pivot the table to create a user-wise table for each day\n",
    "pivot_table = daily_counts.pivot(index=\"day\", columns=\"user\", values=\"message_count\").fillna(0)\n"
   ]
  },
  {
   "cell_type": "code",
   "execution_count": 10,
   "metadata": {},
   "outputs": [],
   "source": [
    "\n",
    "# Add a cumulative sum for each user across the days\n",
    "cumulative_pivot = pivot_table.cumsum()\n"
   ]
  },
  {
   "cell_type": "code",
   "execution_count": 11,
   "metadata": {},
   "outputs": [
    {
     "name": "stdout",
     "output_type": "stream",
     "text": [
      "user        0000000emirburak0320  09maunomato  0buddha  0cops0problems  \\\n",
      "day                                                                      \n",
      "2024-05-01                   0.0          0.0      0.0             0.0   \n",
      "2024-05-02                   0.0          0.0      0.0             0.0   \n",
      "2024-05-03                   0.0          0.0      0.0             0.0   \n",
      "2024-05-04                   0.0          0.0      0.0             0.0   \n",
      "2024-05-05                   0.0          0.0      0.0             0.0   \n",
      "...                          ...          ...      ...             ...   \n",
      "2024-12-28                  49.0         30.0   1571.0           102.0   \n",
      "2024-12-29                  49.0         30.0   1571.0           102.0   \n",
      "2024-12-30                  49.0         30.0   1575.0           103.0   \n",
      "2024-12-31                  49.0         30.0   1575.0           103.0   \n",
      "2025-01-01                  49.0         30.0   1575.0           103.0   \n",
      "\n",
      "user        0nlywon  0ohWell  0rib  0xreb3lhunter  1206paul_  12cut12seal  \\\n",
      "day                                                                         \n",
      "2024-05-01      0.0      0.0   0.0            0.0       70.0          0.0   \n",
      "2024-05-02      0.0      0.0   0.0            0.0      152.0          0.0   \n",
      "2024-05-03      0.0      0.0   0.0            0.0      240.0          0.0   \n",
      "2024-05-04      0.0      0.0   0.0            0.0      247.0          0.0   \n",
      "2024-05-05      0.0      0.0   0.0            0.0      340.0          0.0   \n",
      "...             ...      ...   ...            ...        ...          ...   \n",
      "2024-12-28    202.0     59.0  47.0           54.0    17017.0         81.0   \n",
      "2024-12-29    202.0     59.0  47.0           54.0    17071.0         81.0   \n",
      "2024-12-30    202.0     59.0  47.0           54.0    17106.0         81.0   \n",
      "2024-12-31    202.0     59.0  47.0           54.0    17178.0         81.0   \n",
      "2025-01-01    202.0     59.0  47.0           54.0    17229.0         81.0   \n",
      "\n",
      "user        ...  zzwwzzwwzzwwzz  zzzooonnn_     らず  ノワール05     ベータ  孙哮喘258  \\\n",
      "day         ...                                                              \n",
      "2024-05-01  ...             0.0         0.0    0.0     0.0     0.0     0.0   \n",
      "2024-05-02  ...             0.0         0.0    0.0     0.0     0.0     0.0   \n",
      "2024-05-03  ...             0.0         0.0    6.0     0.0     0.0     0.0   \n",
      "2024-05-04  ...             0.0         0.0    9.0     0.0     0.0     0.0   \n",
      "2024-05-05  ...             0.0         0.0   11.0     0.0     0.0     0.0   \n",
      "...         ...             ...         ...    ...     ...     ...     ...   \n",
      "2024-12-28  ...           127.0        29.0  126.0    36.0  1295.0   113.0   \n",
      "2024-12-29  ...           127.0        29.0  126.0    36.0  1295.0   113.0   \n",
      "2024-12-30  ...           127.0        29.0  126.0    36.0  1295.0   113.0   \n",
      "2024-12-31  ...           127.0        29.0  126.0    36.0  1295.0   113.0   \n",
      "2025-01-01  ...           127.0        29.0  126.0    36.0  1295.0   113.0   \n",
      "\n",
      "user        木柵林達豐    爪口长工  쌍베님사랑합니다  엘레레레ㅔ  \n",
      "day                                         \n",
      "2024-05-01    0.0     7.0       0.0    0.0  \n",
      "2024-05-02    0.0    15.0       0.0    0.0  \n",
      "2024-05-03    0.0    15.0       0.0    0.0  \n",
      "2024-05-04    0.0    29.0       0.0    0.0  \n",
      "2024-05-05    0.0    29.0       0.0    0.0  \n",
      "...           ...     ...       ...    ...  \n",
      "2024-12-28  128.0  2049.0      32.0   36.0  \n",
      "2024-12-29  128.0  2049.0      32.0   36.0  \n",
      "2024-12-30  131.0  2049.0      32.0   36.0  \n",
      "2024-12-31  144.0  2049.0      32.0   36.0  \n",
      "2025-01-01  144.0  2049.0      32.0   36.0  \n",
      "\n",
      "[203 rows x 2815 columns]\n"
     ]
    }
   ],
   "source": [
    "\n",
    "# Print the result\n",
    "print(cumulative_pivot)"
   ]
  },
  {
   "cell_type": "code",
   "execution_count": 12,
   "metadata": {},
   "outputs": [],
   "source": [
    "pivot_data_cleaned_transposed = cumulative_pivot.T\n",
    "pivot_data_cleaned_transposed = cumulative_pivot.T.reset_index()"
   ]
  },
  {
   "cell_type": "code",
   "execution_count": 13,
   "metadata": {},
   "outputs": [
    {
     "data": {
      "text/html": [
       "<div>\n",
       "<style scoped>\n",
       "    .dataframe tbody tr th:only-of-type {\n",
       "        vertical-align: middle;\n",
       "    }\n",
       "\n",
       "    .dataframe tbody tr th {\n",
       "        vertical-align: top;\n",
       "    }\n",
       "\n",
       "    .dataframe thead th {\n",
       "        text-align: right;\n",
       "    }\n",
       "</style>\n",
       "<table border=\"1\" class=\"dataframe\">\n",
       "  <thead>\n",
       "    <tr style=\"text-align: right;\">\n",
       "      <th>day</th>\n",
       "      <th>user</th>\n",
       "      <th>2024-05-01</th>\n",
       "      <th>2024-05-02</th>\n",
       "      <th>2024-05-03</th>\n",
       "      <th>2024-05-04</th>\n",
       "      <th>2024-05-05</th>\n",
       "      <th>2024-05-06</th>\n",
       "      <th>2024-05-07</th>\n",
       "      <th>2024-05-09</th>\n",
       "      <th>2024-05-10</th>\n",
       "      <th>...</th>\n",
       "      <th>2024-12-22</th>\n",
       "      <th>2024-12-23</th>\n",
       "      <th>2024-12-25</th>\n",
       "      <th>2024-12-26</th>\n",
       "      <th>2024-12-27</th>\n",
       "      <th>2024-12-28</th>\n",
       "      <th>2024-12-29</th>\n",
       "      <th>2024-12-30</th>\n",
       "      <th>2024-12-31</th>\n",
       "      <th>2025-01-01</th>\n",
       "    </tr>\n",
       "  </thead>\n",
       "  <tbody>\n",
       "    <tr>\n",
       "      <th>2810</th>\n",
       "      <td>孙哮喘258</td>\n",
       "      <td>0.0</td>\n",
       "      <td>0.0</td>\n",
       "      <td>0.0</td>\n",
       "      <td>0.0</td>\n",
       "      <td>0.0</td>\n",
       "      <td>0.0</td>\n",
       "      <td>0.0</td>\n",
       "      <td>0.0</td>\n",
       "      <td>0.0</td>\n",
       "      <td>...</td>\n",
       "      <td>113.0</td>\n",
       "      <td>113.0</td>\n",
       "      <td>113.0</td>\n",
       "      <td>113.0</td>\n",
       "      <td>113.0</td>\n",
       "      <td>113.0</td>\n",
       "      <td>113.0</td>\n",
       "      <td>113.0</td>\n",
       "      <td>113.0</td>\n",
       "      <td>113.0</td>\n",
       "    </tr>\n",
       "    <tr>\n",
       "      <th>2811</th>\n",
       "      <td>木柵林達豐</td>\n",
       "      <td>0.0</td>\n",
       "      <td>0.0</td>\n",
       "      <td>0.0</td>\n",
       "      <td>0.0</td>\n",
       "      <td>0.0</td>\n",
       "      <td>0.0</td>\n",
       "      <td>0.0</td>\n",
       "      <td>0.0</td>\n",
       "      <td>0.0</td>\n",
       "      <td>...</td>\n",
       "      <td>115.0</td>\n",
       "      <td>126.0</td>\n",
       "      <td>126.0</td>\n",
       "      <td>126.0</td>\n",
       "      <td>126.0</td>\n",
       "      <td>128.0</td>\n",
       "      <td>128.0</td>\n",
       "      <td>131.0</td>\n",
       "      <td>144.0</td>\n",
       "      <td>144.0</td>\n",
       "    </tr>\n",
       "    <tr>\n",
       "      <th>2812</th>\n",
       "      <td>爪口长工</td>\n",
       "      <td>7.0</td>\n",
       "      <td>15.0</td>\n",
       "      <td>15.0</td>\n",
       "      <td>29.0</td>\n",
       "      <td>29.0</td>\n",
       "      <td>31.0</td>\n",
       "      <td>31.0</td>\n",
       "      <td>86.0</td>\n",
       "      <td>90.0</td>\n",
       "      <td>...</td>\n",
       "      <td>2044.0</td>\n",
       "      <td>2044.0</td>\n",
       "      <td>2044.0</td>\n",
       "      <td>2044.0</td>\n",
       "      <td>2044.0</td>\n",
       "      <td>2049.0</td>\n",
       "      <td>2049.0</td>\n",
       "      <td>2049.0</td>\n",
       "      <td>2049.0</td>\n",
       "      <td>2049.0</td>\n",
       "    </tr>\n",
       "    <tr>\n",
       "      <th>2813</th>\n",
       "      <td>쌍베님사랑합니다</td>\n",
       "      <td>0.0</td>\n",
       "      <td>0.0</td>\n",
       "      <td>0.0</td>\n",
       "      <td>0.0</td>\n",
       "      <td>0.0</td>\n",
       "      <td>0.0</td>\n",
       "      <td>0.0</td>\n",
       "      <td>0.0</td>\n",
       "      <td>0.0</td>\n",
       "      <td>...</td>\n",
       "      <td>32.0</td>\n",
       "      <td>32.0</td>\n",
       "      <td>32.0</td>\n",
       "      <td>32.0</td>\n",
       "      <td>32.0</td>\n",
       "      <td>32.0</td>\n",
       "      <td>32.0</td>\n",
       "      <td>32.0</td>\n",
       "      <td>32.0</td>\n",
       "      <td>32.0</td>\n",
       "    </tr>\n",
       "    <tr>\n",
       "      <th>2814</th>\n",
       "      <td>엘레레레ㅔ</td>\n",
       "      <td>0.0</td>\n",
       "      <td>0.0</td>\n",
       "      <td>0.0</td>\n",
       "      <td>0.0</td>\n",
       "      <td>0.0</td>\n",
       "      <td>0.0</td>\n",
       "      <td>0.0</td>\n",
       "      <td>0.0</td>\n",
       "      <td>0.0</td>\n",
       "      <td>...</td>\n",
       "      <td>36.0</td>\n",
       "      <td>36.0</td>\n",
       "      <td>36.0</td>\n",
       "      <td>36.0</td>\n",
       "      <td>36.0</td>\n",
       "      <td>36.0</td>\n",
       "      <td>36.0</td>\n",
       "      <td>36.0</td>\n",
       "      <td>36.0</td>\n",
       "      <td>36.0</td>\n",
       "    </tr>\n",
       "  </tbody>\n",
       "</table>\n",
       "<p>5 rows × 204 columns</p>\n",
       "</div>"
      ],
      "text/plain": [
       "day       user  2024-05-01  2024-05-02  2024-05-03  2024-05-04  2024-05-05  \\\n",
       "2810    孙哮喘258         0.0         0.0         0.0         0.0         0.0   \n",
       "2811     木柵林達豐         0.0         0.0         0.0         0.0         0.0   \n",
       "2812      爪口长工         7.0        15.0        15.0        29.0        29.0   \n",
       "2813  쌍베님사랑합니다         0.0         0.0         0.0         0.0         0.0   \n",
       "2814     엘레레레ㅔ         0.0         0.0         0.0         0.0         0.0   \n",
       "\n",
       "day   2024-05-06  2024-05-07  2024-05-09  2024-05-10  ...  2024-12-22  \\\n",
       "2810         0.0         0.0         0.0         0.0  ...       113.0   \n",
       "2811         0.0         0.0         0.0         0.0  ...       115.0   \n",
       "2812        31.0        31.0        86.0        90.0  ...      2044.0   \n",
       "2813         0.0         0.0         0.0         0.0  ...        32.0   \n",
       "2814         0.0         0.0         0.0         0.0  ...        36.0   \n",
       "\n",
       "day   2024-12-23  2024-12-25  2024-12-26  2024-12-27  2024-12-28  2024-12-29  \\\n",
       "2810       113.0       113.0       113.0       113.0       113.0       113.0   \n",
       "2811       126.0       126.0       126.0       126.0       128.0       128.0   \n",
       "2812      2044.0      2044.0      2044.0      2044.0      2049.0      2049.0   \n",
       "2813        32.0        32.0        32.0        32.0        32.0        32.0   \n",
       "2814        36.0        36.0        36.0        36.0        36.0        36.0   \n",
       "\n",
       "day   2024-12-30  2024-12-31  2025-01-01  \n",
       "2810       113.0       113.0       113.0  \n",
       "2811       131.0       144.0       144.0  \n",
       "2812      2049.0      2049.0      2049.0  \n",
       "2813        32.0        32.0        32.0  \n",
       "2814        36.0        36.0        36.0  \n",
       "\n",
       "[5 rows x 204 columns]"
      ]
     },
     "execution_count": 13,
     "metadata": {},
     "output_type": "execute_result"
    }
   ],
   "source": [
    "pivot_data_cleaned_transposed.head(5)\n",
    "pivot_data_cleaned_transposed.tail(5)"
   ]
  },
  {
   "cell_type": "code",
   "execution_count": 14,
   "metadata": {},
   "outputs": [],
   "source": [
    "pivot_data_cleaned_transposed.to_excel('your_excel_file.xlsx', sheet_name='Pivot Table')"
   ]
  }
 ],
 "metadata": {
  "kernelspec": {
   "display_name": "Python 3",
   "language": "python",
   "name": "python3"
  },
  "language_info": {
   "codemirror_mode": {
    "name": "ipython",
    "version": 3
   },
   "file_extension": ".py",
   "mimetype": "text/x-python",
   "name": "python",
   "nbconvert_exporter": "python",
   "pygments_lexer": "ipython3",
   "version": "3.11.9"
  }
 },
 "nbformat": 4,
 "nbformat_minor": 2
}
