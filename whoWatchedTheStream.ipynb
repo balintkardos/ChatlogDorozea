{
 "cells": [
  {
   "cell_type": "code",
   "execution_count": 8,
   "metadata": {},
   "outputs": [],
   "source": [
    "import pandas as pd\n",
    "import re\n",
    "\n",
    "file_names = [\n",
    "    \"[5-1-24].txt\",\n",
    "    \"[5-2-24].txt\", \n",
    "    \"[5-3-24].txt\", \n",
    "    \"[5-4-24].txt\", \n",
    "    \"[5-5-24].txt\",\n",
    "    \"[5-6-24].txt\", \n",
    "    \"[5-7-24].txt\", \n",
    "    \"[5-9-24].txt\", \n",
    "    \"[5-10-24].txt\", \n",
    "    \"[5-11-24].txt\",\n",
    "    \"[5-12-24].txt\",\n",
    "    \"[5-13-24].txt\",\n",
    "    \"[5-15-24].txt\",\n",
    "    \"[5-16-24].txt\",\n",
    "    \"[5-17-24].txt\",\n",
    "    \"[5-18-24].txt\",\n",
    "    \"[5-19-24].txt\",\n",
    "    \"[5-21-24].txt\",\n",
    "    \"[5-22-24].txt\",\n",
    "    \"[5-23-24].txt\",\n",
    "    \"[5-24-24].txt\",\n",
    "    \"[5-25-24].txt\",\n",
    "    \"[5-26-24].txt\",\n",
    "    \"[5-27-24].txt\",\n",
    "    \"[5-28-24].txt\",\n",
    "    \"[5-29-24].txt\",\n",
    "    \"[5-30-24].txt\",\n",
    "    \"[5-31-24].txt\",\n",
    "    \"[6-2-24].txt\",\n",
    "    \"[6-2-24]_2.txt\",\n",
    "    \"[6-3-24].txt\",\n",
    "    \"[6-4-24].txt\",\n",
    "    \"[6-5-24].txt\",\n",
    "    \"[6-6-24].txt\",\n",
    "    \"[6-7-24].txt\",\n",
    "    \"[6-9-24].txt\",\n",
    "    \"[6-10-24].txt\",\n",
    "    \"[6-11-24].txt\",\n",
    "    \"[6-12-24].txt\",\n",
    "    \"[6-13-24].txt\",\n",
    "    \"[6-14-24].txt\",\n",
    "    \"[6-15-24].txt\",\n",
    "    \"[6-16-24].txt\",\n",
    "    \"[6-17-24].txt\",\n",
    "    \"[6-18-24].txt\",\n",
    "    \"[6-20-24].txt\",\n",
    "    \"[6-22-24].txt\",\n",
    "    \"[6-23-24].txt\",\n",
    "    \"[6-24-24].txt\",\n",
    "    \"[6-25-24].txt\",\n",
    "    \"[6-29-24].txt\"\n",
    "]\n",
    "\n",
    "# Regex pattern to match the data format\n",
    "pattern = r'\\[(.*?)\\] (.*?): (.*)'\n",
    "\n",
    "\n",
    "# Initialize an empty list to store parsed data\n",
    "datalist = []\n",
    "stream_count = 0\n",
    "# Iterate over each specified file\n",
    "for file in file_names:\n",
    "    full_path = file\n",
    "    with open(full_path, 'r', encoding='utf-8') as f:\n",
    "        lines = f.readlines()\n",
    "        for line in lines:\n",
    "            match = re.match(pattern, line)\n",
    "            if match:\n",
    "                date, user, message = match.groups()\n",
    "                datalist.append([date, user, message,stream_count])\n",
    "    stream_count = stream_count + 1\n",
    "\n",
    "# Create a DataFrame from the parsed data\n",
    "data = pd.DataFrame(datalist, columns=[\"date\", \"user\", \"message\",\"stream\"])"
   ]
  },
  {
   "cell_type": "code",
   "execution_count": 9,
   "metadata": {},
   "outputs": [
    {
     "name": "stdout",
     "output_type": "stream",
     "text": [
      "    stream                                               user\n",
      "0        0  [Martin_Gales, StreamElements, Aloddin, utaBz,...\n",
      "1        1  [StreamElements, Martin_Gales, Zeololz, NSAPar...\n",
      "2        2  [Martin_Gales, StreamElements, sbeedy20, Banti...\n",
      "3        3  [Martin_Gales, StreamElements, swedenhobohealt...\n",
      "4        4  [Martin_Gales, StreamElements, jqqq777, SeeMeN...\n",
      "5        5  [Martin_Gales, StreamElements, Banties1g, coll...\n",
      "6        6  [Martin_Gales, StreamElements, x3lolx, simcapr...\n",
      "7        7  [Martin_Gales, StreamElements, FarfarFertil, m...\n",
      "8        8  [Martin_Gales, StreamElements, zoiodelul4, Zeo...\n",
      "9        9  [Martin_Gales, StreamElements, slarzka, The_As...\n",
      "10      10  [Martin_Gales, StreamElements, mrzexyy, 3_nzi,...\n",
      "11      11  [Martin_Gales, StreamElements, IRLKingsman, ut...\n",
      "12      12  [StreamElements, klimzaa, balintboss, domjel12...\n",
      "13      13  [1206paul_, StreamElements, Banties1g, Aloddin...\n",
      "14      14  [StreamElements, Zxngetsu0, hilallunar, sabago...\n",
      "15      15  [Substen, Martin_Gales, StreamElements, enseje...\n",
      "16      16  [Martin_Gales, enseje, StreamElements, dominik...\n",
      "17      17  [IRLKingsman, StreamElements, Martin_Gales, on...\n",
      "18      18  [Martin_Gales, StreamElements, Mista413, kunmi...\n",
      "19      19  [1SKELTON, oJov, darxtorn, roxa0, Martin_Gales...\n",
      "20      20  [StreamElements, walnutNESS, dominikcz_zero, I...\n",
      "21      21  [Martin_Gales, balintboss, StreamElements, IRL...\n",
      "22      22  [StreamElements, malik_mv, SplaXie_CS, Banties...\n",
      "23      23  [StreamElements, aplhacuremumm, Martin_Gales, ...\n",
      "24      24  [Martin_Gales, IvanOnMyOwn, StreamElements, ba...\n",
      "25      25  [Martin_Gales, StreamElements, ChimpHailpk, Cu...\n",
      "26      26  [Martin_Gales, StreamElements, Aloddin, yarikd...\n",
      "27      27  [Martin_Gales, StreamElements, balintboss, xfr...\n",
      "28      28  [Martin_Gales, StreamElements, ciplex___, ense...\n",
      "29      29  [StreamElements, Martin_Gales, Aluminiumminimu...\n",
      "30      30  [StreamElements, emolatt3, Martin_Gales, banne...\n",
      "31      31  [Martin_Gales, StreamElements, Banties1g, cake...\n",
      "32      32  [StreamElements, Mista413, lajosbarnabas, Drak...\n",
      "33      33  [StreamElements, balintboss, dustin8i, blockpa...\n",
      "34      34  [Martin_Gales, StreamElements, icep1cke, slezy...\n",
      "35      35  [StreamElements, Martin_Gales, icep1cke, IRLKi...\n",
      "36      36  [StreamElements, x3lolx, mynard, SeeMeNoMore_,...\n",
      "37      37  [StreamElements, Martin_Gales, balintboss, kur...\n",
      "38      38  [Martin_Gales, StreamElements, balintboss, kur...\n",
      "39      39  [IvanOnMyOwn, Martin_Gales, StreamElements, Br...\n",
      "40      40  [StreamElements, metinno7, xlimonx1, kunmilan9...\n",
      "41      41  [StreamElements, icanmore, danbior_, BuBrekht,...\n",
      "42      42  [StreamElements, 0moug0, enseje, ostkroken744,...\n",
      "43      43  [Martin_Gales, StreamElements, xlimonx1, Alumi...\n",
      "44      44  [Martin_Gales, StreamElements, balintboss, swe...\n",
      "45      45  [StreamElements, balintboss, kurdooo030, yarik...\n",
      "46      46  [StreamElements, Martin_Gales, IRLKingsman, sr...\n",
      "47      47  [StreamElements, Martin_Gales, samurayjack_01,...\n",
      "48      48  [balintboss, StreamElements, Martin_Gales, cuc...\n",
      "49      49  [Martin_Gales, StreamElements, sisiliann, bali...\n"
     ]
    }
   ],
   "source": [
    "# Group by 'stream' and aggregate unique users\n",
    "users_per_stream = data.groupby(\"stream\")[\"user\"].unique().reset_index()\n",
    "\n",
    "# Display the result\n",
    "print(users_per_stream)"
   ]
  },
  {
   "cell_type": "code",
   "execution_count": 10,
   "metadata": {},
   "outputs": [
    {
     "name": "stdout",
     "output_type": "stream",
     "text": [
      "           user                                             stream\n",
      "0     00001joel                                             [4, 5]\n",
      "1     00ramez00                                               [14]\n",
      "2      062_davi                                               [37]\n",
      "3        0_OS_0                                               [39]\n",
      "4        0criss                                       [32, 41, 45]\n",
      "...         ...                                                ...\n",
      "3903       無法顯示                                               [23]\n",
      "3904       爪口长工  [0, 1, 3, 5, 7, 8, 10, 11, 13, 15, 21, 29, 30,...\n",
      "3905      的显示名称                                               [49]\n",
      "3906    게이머2334                                               [45]\n",
      "3907        덕충2                               [42, 43, 44, 45, 46]\n",
      "\n",
      "[3908 rows x 2 columns]\n"
     ]
    }
   ],
   "source": [
    "# Group by 'users' and aggregate unique streams\n",
    "stream_per_users = data.groupby(\"user\")[\"stream\"].unique().reset_index()\n",
    "\n",
    "# Display the result\n",
    "print(stream_per_users)"
   ]
  },
  {
   "cell_type": "code",
   "execution_count": 11,
   "metadata": {},
   "outputs": [],
   "source": [
    "stream_per_users[\"stream_count\"] = stream_per_users[\"stream\"].apply(len)"
   ]
  },
  {
   "cell_type": "code",
   "execution_count": 12,
   "metadata": {},
   "outputs": [
    {
     "data": {
      "text/html": [
       "<div>\n",
       "<style scoped>\n",
       "    .dataframe tbody tr th:only-of-type {\n",
       "        vertical-align: middle;\n",
       "    }\n",
       "\n",
       "    .dataframe tbody tr th {\n",
       "        vertical-align: top;\n",
       "    }\n",
       "\n",
       "    .dataframe thead th {\n",
       "        text-align: right;\n",
       "    }\n",
       "</style>\n",
       "<table border=\"1\" class=\"dataframe\">\n",
       "  <thead>\n",
       "    <tr style=\"text-align: right;\">\n",
       "      <th></th>\n",
       "      <th>user</th>\n",
       "      <th>stream</th>\n",
       "      <th>stream_count</th>\n",
       "    </tr>\n",
       "  </thead>\n",
       "  <tbody>\n",
       "    <tr>\n",
       "      <th>0</th>\n",
       "      <td>00001joel</td>\n",
       "      <td>[4, 5]</td>\n",
       "      <td>2</td>\n",
       "    </tr>\n",
       "    <tr>\n",
       "      <th>1</th>\n",
       "      <td>00ramez00</td>\n",
       "      <td>[14]</td>\n",
       "      <td>1</td>\n",
       "    </tr>\n",
       "    <tr>\n",
       "      <th>2</th>\n",
       "      <td>062_davi</td>\n",
       "      <td>[37]</td>\n",
       "      <td>1</td>\n",
       "    </tr>\n",
       "    <tr>\n",
       "      <th>3</th>\n",
       "      <td>0_OS_0</td>\n",
       "      <td>[39]</td>\n",
       "      <td>1</td>\n",
       "    </tr>\n",
       "    <tr>\n",
       "      <th>4</th>\n",
       "      <td>0criss</td>\n",
       "      <td>[32, 41, 45]</td>\n",
       "      <td>3</td>\n",
       "    </tr>\n",
       "  </tbody>\n",
       "</table>\n",
       "</div>"
      ],
      "text/plain": [
       "        user        stream  stream_count\n",
       "0  00001joel        [4, 5]             2\n",
       "1  00ramez00          [14]             1\n",
       "2   062_davi          [37]             1\n",
       "3     0_OS_0          [39]             1\n",
       "4     0criss  [32, 41, 45]             3"
      ]
     },
     "execution_count": 12,
     "metadata": {},
     "output_type": "execute_result"
    }
   ],
   "source": [
    "stream_per_users.head(5)"
   ]
  },
  {
   "cell_type": "code",
   "execution_count": 14,
   "metadata": {},
   "outputs": [
    {
     "data": {
      "text/plain": [
       "count    3908.000000\n",
       "mean        2.947032\n",
       "std         4.916400\n",
       "min         1.000000\n",
       "25%         1.000000\n",
       "50%         1.000000\n",
       "75%         3.000000\n",
       "max        50.000000\n",
       "Name: stream_count, dtype: float64"
      ]
     },
     "execution_count": 14,
     "metadata": {},
     "output_type": "execute_result"
    }
   ],
   "source": [
    "stream_per_users['stream_count'].describe()"
   ]
  },
  {
   "cell_type": "code",
   "execution_count": 15,
   "metadata": {},
   "outputs": [],
   "source": [
    "# Function to calculate the longest streak of consecutive streams\n",
    "def longest_streak(streams):\n",
    "    sorted_streams = sorted(streams)\n",
    "    max_streak = 1\n",
    "    current_streak = 1\n",
    "    \n",
    "    for i in range(1, len(sorted_streams)):\n",
    "        if sorted_streams[i] == sorted_streams[i-1] + 1:\n",
    "            current_streak += 1\n",
    "        else:\n",
    "            max_streak = max(max_streak, current_streak)\n",
    "            current_streak = 1\n",
    "    \n",
    "    return max(max_streak, current_streak)"
   ]
  },
  {
   "cell_type": "code",
   "execution_count": 17,
   "metadata": {},
   "outputs": [
    {
     "data": {
      "text/html": [
       "<div>\n",
       "<style scoped>\n",
       "    .dataframe tbody tr th:only-of-type {\n",
       "        vertical-align: middle;\n",
       "    }\n",
       "\n",
       "    .dataframe tbody tr th {\n",
       "        vertical-align: top;\n",
       "    }\n",
       "\n",
       "    .dataframe thead th {\n",
       "        text-align: right;\n",
       "    }\n",
       "</style>\n",
       "<table border=\"1\" class=\"dataframe\">\n",
       "  <thead>\n",
       "    <tr style=\"text-align: right;\">\n",
       "      <th></th>\n",
       "      <th>user</th>\n",
       "      <th>stream</th>\n",
       "      <th>stream_count</th>\n",
       "      <th>longest_streak</th>\n",
       "    </tr>\n",
       "  </thead>\n",
       "  <tbody>\n",
       "    <tr>\n",
       "      <th>0</th>\n",
       "      <td>00001joel</td>\n",
       "      <td>[4, 5]</td>\n",
       "      <td>2</td>\n",
       "      <td>2</td>\n",
       "    </tr>\n",
       "    <tr>\n",
       "      <th>1</th>\n",
       "      <td>00ramez00</td>\n",
       "      <td>[14]</td>\n",
       "      <td>1</td>\n",
       "      <td>1</td>\n",
       "    </tr>\n",
       "    <tr>\n",
       "      <th>2</th>\n",
       "      <td>062_davi</td>\n",
       "      <td>[37]</td>\n",
       "      <td>1</td>\n",
       "      <td>1</td>\n",
       "    </tr>\n",
       "    <tr>\n",
       "      <th>3</th>\n",
       "      <td>0_OS_0</td>\n",
       "      <td>[39]</td>\n",
       "      <td>1</td>\n",
       "      <td>1</td>\n",
       "    </tr>\n",
       "    <tr>\n",
       "      <th>4</th>\n",
       "      <td>0criss</td>\n",
       "      <td>[32, 41, 45]</td>\n",
       "      <td>3</td>\n",
       "      <td>1</td>\n",
       "    </tr>\n",
       "  </tbody>\n",
       "</table>\n",
       "</div>"
      ],
      "text/plain": [
       "        user        stream  stream_count  longest_streak\n",
       "0  00001joel        [4, 5]             2               2\n",
       "1  00ramez00          [14]             1               1\n",
       "2   062_davi          [37]             1               1\n",
       "3     0_OS_0          [39]             1               1\n",
       "4     0criss  [32, 41, 45]             3               1"
      ]
     },
     "execution_count": 17,
     "metadata": {},
     "output_type": "execute_result"
    }
   ],
   "source": [
    "# Add a column with the longest streak of consecutive streams\n",
    "stream_per_users[\"longest_streak\"] = stream_per_users[\"stream\"].apply(longest_streak)\n",
    "\n",
    "# Display the result\n",
    "stream_per_users.head(5)"
   ]
  },
  {
   "cell_type": "code",
   "execution_count": 18,
   "metadata": {},
   "outputs": [
    {
     "data": {
      "text/plain": [
       "count    3908.000000\n",
       "mean        1.625128\n",
       "std         2.505270\n",
       "min         1.000000\n",
       "25%         1.000000\n",
       "50%         1.000000\n",
       "75%         1.000000\n",
       "max        50.000000\n",
       "Name: longest_streak, dtype: float64"
      ]
     },
     "execution_count": 18,
     "metadata": {},
     "output_type": "execute_result"
    }
   ],
   "source": [
    "stream_per_users[\"longest_streak\"].describe()"
   ]
  },
  {
   "cell_type": "code",
   "execution_count": 24,
   "metadata": {},
   "outputs": [
    {
     "data": {
      "text/html": [
       "<div>\n",
       "<style scoped>\n",
       "    .dataframe tbody tr th:only-of-type {\n",
       "        vertical-align: middle;\n",
       "    }\n",
       "\n",
       "    .dataframe tbody tr th {\n",
       "        vertical-align: top;\n",
       "    }\n",
       "\n",
       "    .dataframe thead th {\n",
       "        text-align: right;\n",
       "    }\n",
       "</style>\n",
       "<table border=\"1\" class=\"dataframe\">\n",
       "  <thead>\n",
       "    <tr style=\"text-align: right;\">\n",
       "      <th></th>\n",
       "      <th>user</th>\n",
       "      <th>stream</th>\n",
       "      <th>stream_count</th>\n",
       "      <th>longest_streak</th>\n",
       "    </tr>\n",
       "  </thead>\n",
       "  <tbody>\n",
       "    <tr>\n",
       "      <th>2023</th>\n",
       "      <td>gkey</td>\n",
       "      <td>[1, 2, 3, 4, 5, 6, 7, 8, 9, 10, 11, 12, 13, 14...</td>\n",
       "      <td>42</td>\n",
       "      <td>17</td>\n",
       "    </tr>\n",
       "  </tbody>\n",
       "</table>\n",
       "</div>"
      ],
      "text/plain": [
       "      user                                             stream  stream_count  \\\n",
       "2023  gkey  [1, 2, 3, 4, 5, 6, 7, 8, 9, 10, 11, 12, 13, 14...            42   \n",
       "\n",
       "      longest_streak  \n",
       "2023              17  "
      ]
     },
     "execution_count": 24,
     "metadata": {},
     "output_type": "execute_result"
    }
   ],
   "source": [
    "stream_per_users[stream_per_users['user']=='gkey']"
   ]
  }
 ],
 "metadata": {
  "kernelspec": {
   "display_name": "Python 3",
   "language": "python",
   "name": "python3"
  },
  "language_info": {
   "codemirror_mode": {
    "name": "ipython",
    "version": 3
   },
   "file_extension": ".py",
   "mimetype": "text/x-python",
   "name": "python",
   "nbconvert_exporter": "python",
   "pygments_lexer": "ipython3",
   "version": "3.11.9"
  }
 },
 "nbformat": 4,
 "nbformat_minor": 2
}
