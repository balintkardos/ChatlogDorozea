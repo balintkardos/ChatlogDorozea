{
 "cells": [
  {
   "cell_type": "code",
   "execution_count": 1,
   "id": "226b10c3",
   "metadata": {},
   "outputs": [],
   "source": [
    "import pandas as pd\n",
    "import re\n",
    "import matplotlib.pyplot as plt\n",
    "import seaborn as sns\n",
    "from collections import Counter\n",
    "import numpy as np\n",
    "import pytz\n",
    "import re"
   ]
  },
  {
   "cell_type": "code",
   "execution_count": 2,
   "id": "24af031a",
   "metadata": {},
   "outputs": [],
   "source": [
    "# Read the list of filenames from the configuration file\n",
    "with open('file_list.txt', 'r', encoding='utf-8') as config_file:\n",
    "    file_names = config_file.read().splitlines()\n",
    "\n",
    "# Regex pattern to match the data format\n",
    "pattern = r'\\[(.*?)\\] (.*?): (.*)'\n",
    "\n",
    "# Initialize an empty list to store parsed data\n",
    "datalist = []\n",
    "stream_count = 0\n",
    "# Iterate over each specified file\n",
    "for file in file_names:\n",
    "    full_path = \"data\\\\\"+file\n",
    "    with open(full_path, 'r', encoding='utf-8') as f:\n",
    "        lines = f.readlines()\n",
    "        for line in lines:\n",
    "            match = re.match(pattern, line)\n",
    "            if match:\n",
    "                date, user, message = match.groups()\n",
    "                datalist.append([date, user, message,stream_count])\n",
    "    stream_count = stream_count + 1\n",
    "\n",
    "# Create a DataFrame from the parsed data\n",
    "data = pd.DataFrame(datalist, columns=[\"date\", \"user\", \"message\",\"stream\"])"
   ]
  },
  {
   "cell_type": "code",
   "execution_count": 3,
   "id": "82204fb1",
   "metadata": {},
   "outputs": [],
   "source": [
    "#date to date format and sorting with it\n",
    "\n",
    "data['date'] = pd.to_datetime(data['date'])\n",
    "data = data.sort_values(by=['user', 'date'])\n"
   ]
  },
  {
   "cell_type": "code",
   "execution_count": 4,
   "id": "48534022",
   "metadata": {},
   "outputs": [
    {
     "name": "stdout",
     "output_type": "stream",
     "text": [
      "balintboss chatted in 410 streams.\n",
      "balintboss sent 51478 messages.\n",
      "Most common hour of the day for sending messages: 13:00\n",
      "Total number of words sent: 198113\n",
      "Percentage of all messages: 2.17%\n"
     ]
    },
    {
     "name": "stderr",
     "output_type": "stream",
     "text": [
      "C:\\Users\\Kardo\\AppData\\Local\\Temp\\ipykernel_13832\\3954137039.py:11: SettingWithCopyWarning: \n",
      "A value is trying to be set on a copy of a slice from a DataFrame.\n",
      "Try using .loc[row_indexer,col_indexer] = value instead\n",
      "\n",
      "See the caveats in the documentation: https://pandas.pydata.org/pandas-docs/stable/user_guide/indexing.html#returning-a-view-versus-a-copy\n",
      "  balint_data['hour'] = balint_data['date'].dt.hour\n"
     ]
    }
   ],
   "source": [
    "# Filter data for user 'balintboss'\n",
    "balint_data = data[data['user'] == 'balintboss']\n",
    "\n",
    "# Number of unique streams balintboss chatted in\n",
    "num_streams = balint_data['stream'].nunique()\n",
    "\n",
    "# Number of messages sent by balintboss\n",
    "num_messages = balint_data.shape[0]\n",
    "\n",
    "# Most common hour of the day for sending messages\n",
    "balint_data['hour'] = balint_data['date'].dt.hour\n",
    "most_common_hour = balint_data['hour'].mode()[0]\n",
    "\n",
    "# Total number of words sent by balintboss\n",
    "total_words = balint_data['message'].str.split().str.len().sum()\n",
    "\n",
    "# Percentage of all messages sent by balintboss\n",
    "percent_messages = (num_messages / data.shape[0]) * 100\n",
    "\n",
    "print(f\"balintboss chatted in {num_streams} streams.\")\n",
    "print(f\"balintboss sent {num_messages} messages.\")\n",
    "print(f\"Most common hour of the day for sending messages: {most_common_hour}:00\")\n",
    "print(f\"Total number of words sent: {total_words}\")\n",
    "print(f\"Percentage of all messages: {percent_messages:.2f}%\")"
   ]
  },
  {
   "cell_type": "code",
   "execution_count": 5,
   "id": "8625a57f",
   "metadata": {},
   "outputs": [
    {
     "name": "stderr",
     "output_type": "stream",
     "text": [
      "C:\\Users\\Kardo\\AppData\\Local\\Temp\\ipykernel_13832\\1537669816.py:2: SettingWithCopyWarning: \n",
      "A value is trying to be set on a copy of a slice from a DataFrame.\n",
      "Try using .loc[row_indexer,col_indexer] = value instead\n",
      "\n",
      "See the caveats in the documentation: https://pandas.pydata.org/pandas-docs/stable/user_guide/indexing.html#returning-a-view-versus-a-copy\n",
      "  balint_data['hour_min'] = balint_data['date'].dt.strftime('%H:%M')\n"
     ]
    },
    {
     "name": "stdout",
     "output_type": "stream",
     "text": [
      "Most common hour and minute for sending messages: 13:29\n"
     ]
    }
   ],
   "source": [
    "# Most common hour and minute of the day for sending messages\n",
    "balint_data['hour_min'] = balint_data['date'].dt.strftime('%H:%M')\n",
    "most_common_hour_min = balint_data['hour_min'].mode()[0]\n",
    "\n",
    "print(f\"Most common hour and minute for sending messages: {most_common_hour_min}\")\n"
   ]
  }
 ],
 "metadata": {
  "kernelspec": {
   "display_name": "Python 3",
   "language": "python",
   "name": "python3"
  },
  "language_info": {
   "codemirror_mode": {
    "name": "ipython",
    "version": 3
   },
   "file_extension": ".py",
   "mimetype": "text/x-python",
   "name": "python",
   "nbconvert_exporter": "python",
   "pygments_lexer": "ipython3",
   "version": "3.11.9"
  }
 },
 "nbformat": 4,
 "nbformat_minor": 5
}
