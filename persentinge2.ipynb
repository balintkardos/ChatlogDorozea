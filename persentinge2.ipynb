{
 "cells": [
  {
   "cell_type": "code",
   "execution_count": 1,
   "metadata": {},
   "outputs": [],
   "source": [
    "import pandas as pd\n",
    "import re\n",
    "\n",
    "# Read the list of filenames from the configuration file\n",
    "with open('file_list.txt', 'r', encoding='utf-8') as config_file:\n",
    "    file_names = config_file.read().splitlines()\n",
    "\n",
    "# Regex pattern to match the data format\n",
    "pattern = r'\\[(.*?)\\] (.*?): (.*)'\n",
    "\n",
    "# Initialize an empty list to store parsed data\n",
    "datalist = []\n",
    "stream_count = 0\n",
    "\n",
    "# Iterate over each specified file\n",
    "for file in file_names:\n",
    "    full_path = file\n",
    "    with open(full_path, 'r', encoding='utf-8') as f:\n",
    "        lines = f.readlines()\n",
    "        for line in lines:\n",
    "            match = re.match(pattern, line)\n",
    "            if match:\n",
    "                date, user, message = match.groups()\n",
    "                datalist.append([date, user, message, stream_count])\n",
    "    stream_count += 1\n",
    "\n",
    "# Create a DataFrame from the parsed data\n",
    "data = pd.DataFrame(datalist, columns=[\"date\", \"user\", \"message\", \"stream\"])\n",
    "\n",
    "data['date'] = pd.to_datetime(data['date'])\n",
    "data = data.sort_values(by=['user', 'date'])\n",
    "\n",
    "# Calculate the total number of messages per stream per user\n",
    "total_messages_per_stream = data.groupby(['user', 'stream']).size().reset_index(name='total_messages')\n",
    "\n",
    "# Calculate the time difference between the first and last messages for each stream per user\n",
    "watch_lengths = data.groupby(['user', 'stream'])['date'].agg(lambda x: (x.max() - x.min()).total_seconds()).reset_index(name='watch_length')\n",
    "\n",
    "# Calculate the total stream length for each stream\n",
    "stream_lengths = data.groupby('stream')['date'].agg(lambda x: (x.max() - x.min()).total_seconds()).reset_index(name='stream_length')\n",
    "\n",
    "# Merge the user-specific data with the stream length data\n",
    "user_stats = total_messages_per_stream.merge(watch_lengths, on=['user', 'stream'])\n",
    "user_stats = user_stats.merge(stream_lengths, on='stream')\n",
    "\n",
    "# Add calculated columns\n",
    "user_stats['watch_length_in_hour'] = user_stats['watch_length'] / 3600\n",
    "user_stats['stream_length_in_hour'] = user_stats['stream_length'] / 3600\n",
    "user_stats['percentage'] = user_stats['watch_length'] / user_stats['stream_length'] * 100\n",
    "\n",
    "# Sort and reset index\n",
    "user_stats = user_stats.sort_values(by=['user', 'stream']).reset_index(drop=True)\n",
    "\n"
   ]
  },
  {
   "cell_type": "code",
   "execution_count": 2,
   "metadata": {},
   "outputs": [],
   "source": [
    "\n",
    "mydata = user_stats[user_stats['user']=='balintboss']"
   ]
  },
  {
   "cell_type": "code",
   "execution_count": 3,
   "metadata": {},
   "outputs": [
    {
     "data": {
      "text/html": [
       "<div>\n",
       "<style scoped>\n",
       "    .dataframe tbody tr th:only-of-type {\n",
       "        vertical-align: middle;\n",
       "    }\n",
       "\n",
       "    .dataframe tbody tr th {\n",
       "        vertical-align: top;\n",
       "    }\n",
       "\n",
       "    .dataframe thead th {\n",
       "        text-align: right;\n",
       "    }\n",
       "</style>\n",
       "<table border=\"1\" class=\"dataframe\">\n",
       "  <thead>\n",
       "    <tr style=\"text-align: right;\">\n",
       "      <th></th>\n",
       "      <th>user</th>\n",
       "      <th>stream</th>\n",
       "      <th>total_messages</th>\n",
       "      <th>watch_length</th>\n",
       "      <th>stream_length</th>\n",
       "      <th>watch_length_in_hour</th>\n",
       "      <th>stream_length_in_hour</th>\n",
       "      <th>percentage</th>\n",
       "    </tr>\n",
       "  </thead>\n",
       "  <tbody>\n",
       "    <tr>\n",
       "      <th>6810</th>\n",
       "      <td>balintboss</td>\n",
       "      <td>0</td>\n",
       "      <td>33</td>\n",
       "      <td>17532.0</td>\n",
       "      <td>17697.0</td>\n",
       "      <td>4.870000</td>\n",
       "      <td>4.915833</td>\n",
       "      <td>99.067639</td>\n",
       "    </tr>\n",
       "    <tr>\n",
       "      <th>6811</th>\n",
       "      <td>balintboss</td>\n",
       "      <td>1</td>\n",
       "      <td>25</td>\n",
       "      <td>16994.0</td>\n",
       "      <td>17831.0</td>\n",
       "      <td>4.720556</td>\n",
       "      <td>4.953056</td>\n",
       "      <td>95.305928</td>\n",
       "    </tr>\n",
       "    <tr>\n",
       "      <th>6812</th>\n",
       "      <td>balintboss</td>\n",
       "      <td>2</td>\n",
       "      <td>37</td>\n",
       "      <td>18697.0</td>\n",
       "      <td>19147.0</td>\n",
       "      <td>5.193611</td>\n",
       "      <td>5.318611</td>\n",
       "      <td>97.649762</td>\n",
       "    </tr>\n",
       "  </tbody>\n",
       "</table>\n",
       "</div>"
      ],
      "text/plain": [
       "            user  stream  total_messages  watch_length  stream_length  \\\n",
       "6810  balintboss       0              33       17532.0        17697.0   \n",
       "6811  balintboss       1              25       16994.0        17831.0   \n",
       "6812  balintboss       2              37       18697.0        19147.0   \n",
       "\n",
       "      watch_length_in_hour  stream_length_in_hour  percentage  \n",
       "6810              4.870000               4.915833   99.067639  \n",
       "6811              4.720556               4.953056   95.305928  \n",
       "6812              5.193611               5.318611   97.649762  "
      ]
     },
     "execution_count": 3,
     "metadata": {},
     "output_type": "execute_result"
    }
   ],
   "source": [
    "mydata.head(3)"
   ]
  },
  {
   "cell_type": "code",
   "execution_count": 4,
   "metadata": {},
   "outputs": [
    {
     "data": {
      "text/plain": [
       "1318606.0"
      ]
     },
     "execution_count": 4,
     "metadata": {},
     "output_type": "execute_result"
    }
   ],
   "source": [
    "allstream = mydata['stream_length'].sum()\n",
    "\n",
    "allstream "
   ]
  },
  {
   "cell_type": "code",
   "execution_count": 5,
   "metadata": {},
   "outputs": [
    {
     "data": {
      "text/plain": [
       "14.83400462962963"
      ]
     },
     "execution_count": 5,
     "metadata": {},
     "output_type": "execute_result"
    }
   ],
   "source": [
    "\n",
    "allmywatch = mydata['watch_length'].sum()\n",
    "\n",
    "allmywatch /60 /60 /24"
   ]
  }
 ],
 "metadata": {
  "kernelspec": {
   "display_name": "Python 3",
   "language": "python",
   "name": "python3"
  },
  "language_info": {
   "codemirror_mode": {
    "name": "ipython",
    "version": 3
   },
   "file_extension": ".py",
   "mimetype": "text/x-python",
   "name": "python",
   "nbconvert_exporter": "python",
   "pygments_lexer": "ipython3",
   "version": "3.11.9"
  }
 },
 "nbformat": 4,
 "nbformat_minor": 2
}
