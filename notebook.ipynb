{
 "cells": [
  {
   "cell_type": "code",
   "execution_count": 77,
   "metadata": {},
   "outputs": [],
   "source": [
    "import pandas as pd\n",
    "import re\n",
    "import matplotlib.pyplot as plt\n",
    "import re\n",
    "import glob\n",
    "\n",
    "# Define the pattern to extract timestamp, user, and message\n",
    "pattern = r'\\[(.*?)\\] (.*?): (.*)'\n",
    "\n",
    "# Specify the directory containing the text files\n",
    "directory = \"\"\n",
    "\n",
    "# Get a list of all .txt files in the directory\n",
    "txt_files = glob.glob(directory + \"*.txt\")\n",
    "\n",
    "# Create an empty list to store DataFrames\n",
    "dfs = []\n",
    "\n",
    "# Iterate over each txt file\n",
    "for file_path in txt_files:\n",
    "    try:\n",
    "        # Read the file and extract data using regular expressions\n",
    "        data = []\n",
    "        with open(file_path, 'r', encoding='utf-8') as file:\n",
    "            for line in file:\n",
    "                match = re.match(pattern, line)\n",
    "                if match:\n",
    "                    timestamp, user, message = match.groups()\n",
    "                    data.append([timestamp, user, message])\n",
    "        \n",
    "        # Create a DataFrame from the extracted data\n",
    "        dft = pd.DataFrame(data, columns=[\"Timestamp\", \"User\", \"Message\"])\n",
    "        \n",
    "        # Append the DataFrame to the list\n",
    "        dfs.append(dft)\n",
    "    except Exception as e:\n",
    "        print(f\"Error processing file {file_path}: {str(e)}\")\n",
    "\n"
   ]
  },
  {
   "cell_type": "code",
   "execution_count": 78,
   "metadata": {},
   "outputs": [
    {
     "data": {
      "text/plain": [
       "12"
      ]
     },
     "execution_count": 78,
     "metadata": {},
     "output_type": "execute_result"
    }
   ],
   "source": [
    "len(dfs)"
   ]
  },
  {
   "cell_type": "code",
   "execution_count": 79,
   "metadata": {},
   "outputs": [],
   "source": [
    "#all\n",
    "#df = pd.concat(dfs, ignore_index=True)\n",
    "\n",
    "#only the last\n",
    "n = len(dfs) - 1\n",
    "df = dfs[n]"
   ]
  },
  {
   "cell_type": "code",
   "execution_count": 80,
   "metadata": {},
   "outputs": [],
   "source": [
    "# Specify the file path\n",
    "#file_path = \"[5-7-24]Text.txt\"\n",
    "#file_path = \"[5-9-24].txt\"\n",
    "#file_path = \"[5-11-24].txt\"\n",
    "#file_path = \"[5-13-24].txt\"\n",
    "\n",
    "# Define the pattern to extract timestamp, user, and message\n",
    "#pattern = r'\\[(.*?)\\] (.*?): (.*)'\n",
    "\n",
    "# Read the file and extract data using regular expressions\n",
    "#data = []\n",
    "#with open(file_path, 'r', encoding='utf-8') as file:\n",
    "#    for line in file:\n",
    "#        match = re.match(pattern, line)\n",
    "#        if match:\n",
    "#            timestamp, user, message = match.groups()\n",
    "#            data.append([timestamp, user, message])\n",
    "\n",
    "# Create a DataFrame from the extracted data\n",
    "#df = pd.DataFrame(data, columns=[\"Timestamp\", \"User\", \"Message\"])"
   ]
  },
  {
   "cell_type": "code",
   "execution_count": null,
   "metadata": {},
   "outputs": [],
   "source": []
  },
  {
   "cell_type": "code",
   "execution_count": 95,
   "metadata": {},
   "outputs": [
    {
     "data": {
      "text/html": [
       "<div>\n",
       "<style scoped>\n",
       "    .dataframe tbody tr th:only-of-type {\n",
       "        vertical-align: middle;\n",
       "    }\n",
       "\n",
       "    .dataframe tbody tr th {\n",
       "        vertical-align: top;\n",
       "    }\n",
       "\n",
       "    .dataframe thead th {\n",
       "        text-align: right;\n",
       "    }\n",
       "</style>\n",
       "<table border=\"1\" class=\"dataframe\">\n",
       "  <thead>\n",
       "    <tr style=\"text-align: right;\">\n",
       "      <th></th>\n",
       "      <th>Timestamp</th>\n",
       "      <th>User</th>\n",
       "      <th>Message</th>\n",
       "      <th>Message_long</th>\n",
       "    </tr>\n",
       "  </thead>\n",
       "  <tbody>\n",
       "    <tr>\n",
       "      <th>0</th>\n",
       "      <td>2024-05-09 14:56:43+00:00</td>\n",
       "      <td>Martin_Gales</td>\n",
       "      <td>yo</td>\n",
       "      <td>2</td>\n",
       "    </tr>\n",
       "    <tr>\n",
       "      <th>1</th>\n",
       "      <td>2024-05-09 14:56:56+00:00</td>\n",
       "      <td>Martin_Gales</td>\n",
       "      <td>cool shirt</td>\n",
       "      <td>10</td>\n",
       "    </tr>\n",
       "    <tr>\n",
       "      <th>2</th>\n",
       "      <td>2024-05-09 14:57:28+00:00</td>\n",
       "      <td>Martin_Gales</td>\n",
       "      <td>OMEGALUL</td>\n",
       "      <td>8</td>\n",
       "    </tr>\n",
       "    <tr>\n",
       "      <th>3</th>\n",
       "      <td>2024-05-09 14:57:33+00:00</td>\n",
       "      <td>Martin_Gales</td>\n",
       "      <td>not the hobbits?</td>\n",
       "      <td>16</td>\n",
       "    </tr>\n",
       "    <tr>\n",
       "      <th>4</th>\n",
       "      <td>2024-05-09 14:57:47+00:00</td>\n",
       "      <td>StreamElements</td>\n",
       "      <td>dorozea is now live! Streaming Just Chatting: ...</td>\n",
       "      <td>75</td>\n",
       "    </tr>\n",
       "    <tr>\n",
       "      <th>5</th>\n",
       "      <td>2024-05-09 14:58:06+00:00</td>\n",
       "      <td>FarfarFertil</td>\n",
       "      <td>yo</td>\n",
       "      <td>2</td>\n",
       "    </tr>\n",
       "    <tr>\n",
       "      <th>6</th>\n",
       "      <td>2024-05-09 14:58:24+00:00</td>\n",
       "      <td>mahlonsmithiv</td>\n",
       "      <td>hola doro</td>\n",
       "      <td>9</td>\n",
       "    </tr>\n",
       "    <tr>\n",
       "      <th>7</th>\n",
       "      <td>2024-05-09 14:58:34+00:00</td>\n",
       "      <td>Banties1g</td>\n",
       "      <td>Yooo</td>\n",
       "      <td>4</td>\n",
       "    </tr>\n",
       "    <tr>\n",
       "      <th>8</th>\n",
       "      <td>2024-05-09 14:58:37+00:00</td>\n",
       "      <td>Banties1g</td>\n",
       "      <td>omg omg</td>\n",
       "      <td>7</td>\n",
       "    </tr>\n",
       "    <tr>\n",
       "      <th>9</th>\n",
       "      <td>2024-05-09 14:58:37+00:00</td>\n",
       "      <td>Banties1g</td>\n",
       "      <td>omg omg 󠀀</td>\n",
       "      <td>9</td>\n",
       "    </tr>\n",
       "  </tbody>\n",
       "</table>\n",
       "</div>"
      ],
      "text/plain": [
       "                  Timestamp            User  \\\n",
       "0 2024-05-09 14:56:43+00:00    Martin_Gales   \n",
       "1 2024-05-09 14:56:56+00:00    Martin_Gales   \n",
       "2 2024-05-09 14:57:28+00:00    Martin_Gales   \n",
       "3 2024-05-09 14:57:33+00:00    Martin_Gales   \n",
       "4 2024-05-09 14:57:47+00:00  StreamElements   \n",
       "5 2024-05-09 14:58:06+00:00    FarfarFertil   \n",
       "6 2024-05-09 14:58:24+00:00   mahlonsmithiv   \n",
       "7 2024-05-09 14:58:34+00:00       Banties1g   \n",
       "8 2024-05-09 14:58:37+00:00       Banties1g   \n",
       "9 2024-05-09 14:58:37+00:00       Banties1g   \n",
       "\n",
       "                                             Message  Message_long  \n",
       "0                                                 yo             2  \n",
       "1                                         cool shirt            10  \n",
       "2                                           OMEGALUL             8  \n",
       "3                                   not the hobbits?            16  \n",
       "4  dorozea is now live! Streaming Just Chatting: ...            75  \n",
       "5                                                 yo             2  \n",
       "6                                          hola doro             9  \n",
       "7                                               Yooo             4  \n",
       "8                                            omg omg             7  \n",
       "9                                          omg omg 󠀀             9  "
      ]
     },
     "execution_count": 95,
     "metadata": {},
     "output_type": "execute_result"
    }
   ],
   "source": [
    "df.head(10)"
   ]
  },
  {
   "cell_type": "code",
   "execution_count": 96,
   "metadata": {},
   "outputs": [
    {
     "name": "stdout",
     "output_type": "stream",
     "text": [
      "<class 'pandas.core.frame.DataFrame'>\n",
      "RangeIndex: 2340 entries, 0 to 2339\n",
      "Data columns (total 4 columns):\n",
      " #   Column        Non-Null Count  Dtype              \n",
      "---  ------        --------------  -----              \n",
      " 0   Timestamp     2340 non-null   datetime64[ns, UTC]\n",
      " 1   User          2340 non-null   object             \n",
      " 2   Message       2340 non-null   object             \n",
      " 3   Message_long  2340 non-null   int64              \n",
      "dtypes: datetime64[ns, UTC](1), int64(1), object(2)\n",
      "memory usage: 73.3+ KB\n"
     ]
    }
   ],
   "source": [
    "df.info()"
   ]
  },
  {
   "cell_type": "code",
   "execution_count": 97,
   "metadata": {},
   "outputs": [
    {
     "data": {
      "text/html": [
       "<div>\n",
       "<style scoped>\n",
       "    .dataframe tbody tr th:only-of-type {\n",
       "        vertical-align: middle;\n",
       "    }\n",
       "\n",
       "    .dataframe tbody tr th {\n",
       "        vertical-align: top;\n",
       "    }\n",
       "\n",
       "    .dataframe thead th {\n",
       "        text-align: right;\n",
       "    }\n",
       "</style>\n",
       "<table border=\"1\" class=\"dataframe\">\n",
       "  <thead>\n",
       "    <tr style=\"text-align: right;\">\n",
       "      <th></th>\n",
       "      <th>Message_long</th>\n",
       "    </tr>\n",
       "  </thead>\n",
       "  <tbody>\n",
       "    <tr>\n",
       "      <th>count</th>\n",
       "      <td>2340.000000</td>\n",
       "    </tr>\n",
       "    <tr>\n",
       "      <th>mean</th>\n",
       "      <td>28.295726</td>\n",
       "    </tr>\n",
       "    <tr>\n",
       "      <th>std</th>\n",
       "      <td>32.277941</td>\n",
       "    </tr>\n",
       "    <tr>\n",
       "      <th>min</th>\n",
       "      <td>1.000000</td>\n",
       "    </tr>\n",
       "    <tr>\n",
       "      <th>25%</th>\n",
       "      <td>9.000000</td>\n",
       "    </tr>\n",
       "    <tr>\n",
       "      <th>50%</th>\n",
       "      <td>19.000000</td>\n",
       "    </tr>\n",
       "    <tr>\n",
       "      <th>75%</th>\n",
       "      <td>35.000000</td>\n",
       "    </tr>\n",
       "    <tr>\n",
       "      <th>max</th>\n",
       "      <td>475.000000</td>\n",
       "    </tr>\n",
       "  </tbody>\n",
       "</table>\n",
       "</div>"
      ],
      "text/plain": [
       "       Message_long\n",
       "count   2340.000000\n",
       "mean      28.295726\n",
       "std       32.277941\n",
       "min        1.000000\n",
       "25%        9.000000\n",
       "50%       19.000000\n",
       "75%       35.000000\n",
       "max      475.000000"
      ]
     },
     "execution_count": 97,
     "metadata": {},
     "output_type": "execute_result"
    }
   ],
   "source": [
    "df.describe()"
   ]
  },
  {
   "cell_type": "code",
   "execution_count": 98,
   "metadata": {},
   "outputs": [
    {
     "data": {
      "text/html": [
       "<div>\n",
       "<style scoped>\n",
       "    .dataframe tbody tr th:only-of-type {\n",
       "        vertical-align: middle;\n",
       "    }\n",
       "\n",
       "    .dataframe tbody tr th {\n",
       "        vertical-align: top;\n",
       "    }\n",
       "\n",
       "    .dataframe thead th {\n",
       "        text-align: right;\n",
       "    }\n",
       "</style>\n",
       "<table border=\"1\" class=\"dataframe\">\n",
       "  <thead>\n",
       "    <tr style=\"text-align: right;\">\n",
       "      <th></th>\n",
       "      <th>Timestamp</th>\n",
       "      <th>User</th>\n",
       "      <th>Message</th>\n",
       "      <th>Message_long</th>\n",
       "    </tr>\n",
       "  </thead>\n",
       "  <tbody>\n",
       "    <tr>\n",
       "      <th>2330</th>\n",
       "      <td>2024-05-09 19:52:16+00:00</td>\n",
       "      <td>dorozea</td>\n",
       "      <td>MinionPls</td>\n",
       "      <td>9</td>\n",
       "    </tr>\n",
       "    <tr>\n",
       "      <th>2331</th>\n",
       "      <td>2024-05-09 19:52:16+00:00</td>\n",
       "      <td>dorozea</td>\n",
       "      <td>MinionPls</td>\n",
       "      <td>9</td>\n",
       "    </tr>\n",
       "    <tr>\n",
       "      <th>2332</th>\n",
       "      <td>2024-05-09 19:52:19+00:00</td>\n",
       "      <td>iFz4G</td>\n",
       "      <td>bye bye</td>\n",
       "      <td>7</td>\n",
       "    </tr>\n",
       "    <tr>\n",
       "      <th>2333</th>\n",
       "      <td>2024-05-09 19:52:19+00:00</td>\n",
       "      <td>akitox1c</td>\n",
       "      <td>bye</td>\n",
       "      <td>3</td>\n",
       "    </tr>\n",
       "    <tr>\n",
       "      <th>2334</th>\n",
       "      <td>2024-05-09 19:52:30+00:00</td>\n",
       "      <td>slarzka</td>\n",
       "      <td>bye</td>\n",
       "      <td>3</td>\n",
       "    </tr>\n",
       "    <tr>\n",
       "      <th>2335</th>\n",
       "      <td>2024-05-09 19:52:34+00:00</td>\n",
       "      <td>Martin_Gales</td>\n",
       "      <td>Piss raid MinionPls Piss raid MinionPls Piss r...</td>\n",
       "      <td>199</td>\n",
       "    </tr>\n",
       "    <tr>\n",
       "      <th>2336</th>\n",
       "      <td>2024-05-09 19:52:39+00:00</td>\n",
       "      <td>slarzka</td>\n",
       "      <td>apex tomoroe?</td>\n",
       "      <td>13</td>\n",
       "    </tr>\n",
       "    <tr>\n",
       "      <th>2337</th>\n",
       "      <td>2024-05-09 19:52:45+00:00</td>\n",
       "      <td>akitox1c</td>\n",
       "      <td>oh thats great , but bye</td>\n",
       "      <td>24</td>\n",
       "    </tr>\n",
       "    <tr>\n",
       "      <th>2338</th>\n",
       "      <td>2024-05-09 19:52:50+00:00</td>\n",
       "      <td>lezgizzyss</td>\n",
       "      <td>bye @e</td>\n",
       "      <td>6</td>\n",
       "    </tr>\n",
       "    <tr>\n",
       "      <th>2339</th>\n",
       "      <td>2024-05-09 19:52:56+00:00</td>\n",
       "      <td>Lasbe</td>\n",
       "      <td>bye</td>\n",
       "      <td>3</td>\n",
       "    </tr>\n",
       "  </tbody>\n",
       "</table>\n",
       "</div>"
      ],
      "text/plain": [
       "                     Timestamp          User  \\\n",
       "2330 2024-05-09 19:52:16+00:00       dorozea   \n",
       "2331 2024-05-09 19:52:16+00:00       dorozea   \n",
       "2332 2024-05-09 19:52:19+00:00         iFz4G   \n",
       "2333 2024-05-09 19:52:19+00:00      akitox1c   \n",
       "2334 2024-05-09 19:52:30+00:00       slarzka   \n",
       "2335 2024-05-09 19:52:34+00:00  Martin_Gales   \n",
       "2336 2024-05-09 19:52:39+00:00       slarzka   \n",
       "2337 2024-05-09 19:52:45+00:00      akitox1c   \n",
       "2338 2024-05-09 19:52:50+00:00    lezgizzyss   \n",
       "2339 2024-05-09 19:52:56+00:00         Lasbe   \n",
       "\n",
       "                                                Message  Message_long  \n",
       "2330                                          MinionPls             9  \n",
       "2331                                          MinionPls             9  \n",
       "2332                                            bye bye             7  \n",
       "2333                                                bye             3  \n",
       "2334                                                bye             3  \n",
       "2335  Piss raid MinionPls Piss raid MinionPls Piss r...           199  \n",
       "2336                                      apex tomoroe?            13  \n",
       "2337                           oh thats great , but bye            24  \n",
       "2338                                             bye @e             6  \n",
       "2339                                                bye             3  "
      ]
     },
     "execution_count": 98,
     "metadata": {},
     "output_type": "execute_result"
    }
   ],
   "source": [
    "df['Message_long'] = df['Message'].apply(lambda x: len(x))\n",
    "\n",
    "df.tail(10)"
   ]
  },
  {
   "cell_type": "code",
   "execution_count": 99,
   "metadata": {},
   "outputs": [
    {
     "name": "stdout",
     "output_type": "stream",
     "text": [
      "The longest message is:\n",
      " ] ] ] ]  ] ] ] ]  ] ] ] ]  ] ] ] ]  ] ] ] ]  ] ] ] ]  ] ] ] ]  ] ] ] ]  ] ] ] ]  ] ] ] ]  ] ] ] ]  ] ] ] ]  ] ] ] ]  ] ] ] ]  ] ] ] ]  ] ] ] ]  ] ] ] ]  ] ] ] ]  ] ] ] ]  ] ] ] ]  ] ] ] ]  ] ] ] ]  ] ] ] ]  ] ] ] ]  ] ] ] ]  ] ] ] ]  ] ] ] ]  ] ] ] ]  ] ] ] ]  ] ] ] ]  ] ] ] ]  ] ] ] ]  ] ] ] ]  ] ] ] ]  ] ] ] ]  ] ] ] ]  ] ] ] ]  ] ] ] ]  ] ] ] ]  ] ] ] ]  ] ] ] ]  ] ] ] ]  ] ] ] ]  ] ] ] ]  ] ] ] ]  ] ] ] ]  ] ] ] ]  ] ] ] ]  ] ] ] ]  ] ] ] ]  ] ] ] ]  ] ] ] ]  ] ] ] ] \n",
      "from\n",
      " klimzaa \n",
      " at  2024-05-09 15:31:27+00:00\n"
     ]
    }
   ],
   "source": [
    "# Find the index of the row with the longest message\n",
    "max_length_index = df['Message_long'].idxmax()\n",
    "\n",
    "# Retrieve the message with the longest length\n",
    "longest_message = df.loc[max_length_index, 'Message']\n",
    "longest_user = df.loc[max_length_index, 'User']\n",
    "longest_time = df.loc[max_length_index, 'Timestamp']\n",
    "\n",
    "# Print the longest message\n",
    "print(\"The longest message is:\\n\", longest_message, \"\\nfrom\\n\",longest_user,'\\n at ',longest_time)"
   ]
  },
  {
   "cell_type": "code",
   "execution_count": 100,
   "metadata": {},
   "outputs": [
    {
     "data": {
      "text/html": [
       "<div>\n",
       "<style scoped>\n",
       "    .dataframe tbody tr th:only-of-type {\n",
       "        vertical-align: middle;\n",
       "    }\n",
       "\n",
       "    .dataframe tbody tr th {\n",
       "        vertical-align: top;\n",
       "    }\n",
       "\n",
       "    .dataframe thead th {\n",
       "        text-align: right;\n",
       "    }\n",
       "</style>\n",
       "<table border=\"1\" class=\"dataframe\">\n",
       "  <thead>\n",
       "    <tr style=\"text-align: right;\">\n",
       "      <th></th>\n",
       "      <th>Message_long</th>\n",
       "    </tr>\n",
       "  </thead>\n",
       "  <tbody>\n",
       "    <tr>\n",
       "      <th>count</th>\n",
       "      <td>22.000000</td>\n",
       "    </tr>\n",
       "    <tr>\n",
       "      <th>mean</th>\n",
       "      <td>22.227273</td>\n",
       "    </tr>\n",
       "    <tr>\n",
       "      <th>std</th>\n",
       "      <td>22.170190</td>\n",
       "    </tr>\n",
       "    <tr>\n",
       "      <th>min</th>\n",
       "      <td>3.000000</td>\n",
       "    </tr>\n",
       "    <tr>\n",
       "      <th>25%</th>\n",
       "      <td>5.000000</td>\n",
       "    </tr>\n",
       "    <tr>\n",
       "      <th>50%</th>\n",
       "      <td>14.500000</td>\n",
       "    </tr>\n",
       "    <tr>\n",
       "      <th>75%</th>\n",
       "      <td>26.250000</td>\n",
       "    </tr>\n",
       "    <tr>\n",
       "      <th>max</th>\n",
       "      <td>78.000000</td>\n",
       "    </tr>\n",
       "  </tbody>\n",
       "</table>\n",
       "</div>"
      ],
      "text/plain": [
       "       Message_long\n",
       "count     22.000000\n",
       "mean      22.227273\n",
       "std       22.170190\n",
       "min        3.000000\n",
       "25%        5.000000\n",
       "50%       14.500000\n",
       "75%       26.250000\n",
       "max       78.000000"
      ]
     },
     "execution_count": 100,
     "metadata": {},
     "output_type": "execute_result"
    }
   ],
   "source": [
    "df[df['User']=='balintboss'].describe()"
   ]
  },
  {
   "cell_type": "code",
   "execution_count": 102,
   "metadata": {},
   "outputs": [
    {
     "data": {
      "text/plain": [
       "User\n",
       "Martin_Gales      254\n",
       "Banties1g         137\n",
       "ylb_cat_soul22    117\n",
       "Risc__V           112\n",
       "1SKELTON           96\n",
       "IvanOnMyOwn        93\n",
       "akitox1c           87\n",
       "StreamElements     83\n",
       "roxa0              81\n",
       "oJov               69\n",
       "Name: count, dtype: int64"
      ]
     },
     "execution_count": 102,
     "metadata": {},
     "output_type": "execute_result"
    }
   ],
   "source": [
    "# Count the occurrences of each user\n",
    "user_counts = df['User'].value_counts()\n",
    "user_counts.head(10)"
   ]
  },
  {
   "cell_type": "code",
   "execution_count": 103,
   "metadata": {},
   "outputs": [
    {
     "data": {
      "text/plain": [
       "205"
      ]
     },
     "execution_count": 103,
     "metadata": {},
     "output_type": "execute_result"
    }
   ],
   "source": [
    "len(user_counts)"
   ]
  },
  {
   "cell_type": "code",
   "execution_count": 104,
   "metadata": {},
   "outputs": [
    {
     "data": {
      "text/plain": [
       "count    205.000000\n",
       "mean      11.414634\n",
       "std       27.386822\n",
       "min        1.000000\n",
       "25%        1.000000\n",
       "50%        3.000000\n",
       "75%        6.000000\n",
       "max      254.000000\n",
       "Name: count, dtype: float64"
      ]
     },
     "execution_count": 104,
     "metadata": {},
     "output_type": "execute_result"
    }
   ],
   "source": [
    "user_counts.describe()"
   ]
  },
  {
   "cell_type": "code",
   "execution_count": 105,
   "metadata": {},
   "outputs": [
    {
     "data": {
      "text/plain": [
       "User\n",
       "balintboss    22\n",
       "Name: count, dtype: int64"
      ]
     },
     "execution_count": 105,
     "metadata": {},
     "output_type": "execute_result"
    }
   ],
   "source": [
    "user_pos = user_counts[user_counts.index == 'balintboss']\n",
    "\n",
    "user_pos"
   ]
  },
  {
   "cell_type": "code",
   "execution_count": 106,
   "metadata": {},
   "outputs": [
    {
     "data": {
      "text/plain": [
       "22.227272727272727"
      ]
     },
     "execution_count": 106,
     "metadata": {},
     "output_type": "execute_result"
    }
   ],
   "source": [
    "df[df['User']=='balintboss']['Message_long'].mean()"
   ]
  },
  {
   "cell_type": "code",
   "execution_count": 107,
   "metadata": {},
   "outputs": [
    {
     "data": {
      "text/plain": [
       "28.295726495726495"
      ]
     },
     "execution_count": 107,
     "metadata": {},
     "output_type": "execute_result"
    }
   ],
   "source": [
    "df['Message_long'].mean()"
   ]
  },
  {
   "cell_type": "code",
   "execution_count": 108,
   "metadata": {},
   "outputs": [],
   "source": [
    "\n",
    "\n",
    "# Filter the DataFrame to include only messages sent by 'balintboss'\n",
    "balintboss_messages = df[df['User'] == 'balintboss']\n",
    "\n",
    "# Convert the 'Timestamp' column to datetime format\n",
    "df['Timestamp'] = pd.to_datetime(df['Timestamp'])"
   ]
  },
  {
   "cell_type": "code",
   "execution_count": 109,
   "metadata": {},
   "outputs": [],
   "source": [
    "balintboss_messages_10min = balintboss_messages.resample('10min', on='Timestamp').count()"
   ]
  },
  {
   "cell_type": "code",
   "execution_count": 110,
   "metadata": {},
   "outputs": [
    {
     "data": {
      "image/png": "[encoded data removed]",
      "text/plain": [
       "<Figure size 640x480 with 1 Axes>"
      ]
     },
     "metadata": {},
     "output_type": "display_data"
    }
   ],
   "source": [
    "# Check if 'Timestamp' exists as a column\n",
    "if 'Timestamp' in balintboss_messages_10min.columns:\n",
    "  # Set 'Timestamp' as the index\n",
    "  print('doing it')\n",
    "  balintboss_messages_10min = balintboss_messages_10min.set_index('Timestamp')\n",
    "\n",
    "# Plot the chart (assuming 'Timestamp' is now the index)\n",
    "balintboss_messages_10min.plot(kind='bar', y='Message', title='BalintBoss Messages per 10 Minutes')\n",
    "\n",
    "# Customize the chart as needed (same as before)\n",
    "plt.xlabel('Timestamp (10-minute intervals)')\n",
    "plt.ylabel('Number of Messages Sent')\n",
    "plt.xticks(rotation=45)\n",
    "plt.tight_layout()\n",
    "\n",
    "plt.show() "
   ]
  },
  {
   "cell_type": "code",
   "execution_count": 111,
   "metadata": {},
   "outputs": [
    {
     "name": "stdout",
     "output_type": "stream",
     "text": [
      "<class 'pandas.core.frame.DataFrame'>\n",
      "DatetimeIndex: 27 entries, 2024-05-09 15:20:00+00:00 to 2024-05-09 19:40:00+00:00\n",
      "Freq: 10min\n",
      "Data columns (total 3 columns):\n",
      " #   Column        Non-Null Count  Dtype\n",
      "---  ------        --------------  -----\n",
      " 0   User          27 non-null     int64\n",
      " 1   Message       27 non-null     int64\n",
      " 2   Message_long  27 non-null     int64\n",
      "dtypes: int64(3)\n",
      "memory usage: 864.0 bytes\n"
     ]
    }
   ],
   "source": [
    "balintboss_messages_10min.info()"
   ]
  },
  {
   "cell_type": "code",
   "execution_count": 112,
   "metadata": {},
   "outputs": [],
   "source": [
    "df.to_csv('TestDoroChat.csv', index=False)"
   ]
  }
 ],
 "metadata": {
  "kernelspec": {
   "display_name": "Python 3",
   "language": "python",
   "name": "python3"
  },
  "language_info": {
   "codemirror_mode": {
    "name": "ipython",
    "version": 3
   },
   "file_extension": ".py",
   "mimetype": "text/x-python",
   "name": "python",
   "nbconvert_exporter": "python",
   "pygments_lexer": "ipython3",
   "version": "3.11.9"
  }
 },
 "nbformat": 4,
 "nbformat_minor": 2
}
